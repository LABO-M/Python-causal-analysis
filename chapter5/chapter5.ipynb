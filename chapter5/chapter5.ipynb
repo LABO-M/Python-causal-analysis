{
 "cells": [
  {
   "cell_type": "markdown",
   "id": "266bfa72",
   "metadata": {},
   "source": [
    "# 第5章 機械学習を用いた因果推論"
   ]
  },
  {
   "cell_type": "markdown",
   "id": "bb2af206",
   "metadata": {},
   "source": [
    "#### ・本章では、非線形で変数間に相互作用のある因果関係における処置の効果の推定手法に関して、機械学習を用いた因果推論について取り扱う ."
   ]
  },
  {
   "cell_type": "markdown",
   "id": "ebf4ac7f",
   "metadata": {},
   "source": [
    "## 5-1 ランダムフォレストによる分類と回帰のしくみ"
   ]
  },
  {
   "cell_type": "markdown",
   "id": "7336288c",
   "metadata": {},
   "source": [
    "## 決定木による分類"
   ]
  },
  {
   "cell_type": "markdown",
   "id": "1c721222",
   "metadata": {},
   "source": [
    "#### ・決定木分析 : データを基に決定木と呼ばれる樹形図を作成し、分析を行う方法のこと ."
   ]
  },
  {
   "cell_type": "markdown",
   "id": "3892ca3c",
   "metadata": {},
   "source": [
    "#### ・今回構築したいモデルは、とある「iさん」が[テレビCMを見た]かどうか、すなわち処置を受けたかどうかを示す値$Z^i$が0なのか1なのかを分類予測する機械学習モデル ."
   ]
  },
  {
   "cell_type": "markdown",
   "id": "00b9edc7",
   "metadata": {},
   "source": [
    "#### これは第4章で解説した傾向スコアを求めるロジスティック回帰の代替となる ."
   ]
  },
  {
   "cell_type": "markdown",
   "id": "ad37063b",
   "metadata": {},
   "source": [
    "#### ・予測したい変数$Z$を目的変数、もしくは被説明変数と呼び、今回予測に使用するのは年齢変数$x_1$と性別変数$x_2$とする ."
   ]
  },
  {
   "cell_type": "markdown",
   "id": "95022e5b",
   "metadata": {},
   "source": [
    "#### この予測に使用する変数を特徴量、もしくは説明変数と呼ぶ ."
   ]
  },
  {
   "cell_type": "markdown",
   "id": "2b6c1dc4",
   "metadata": {},
   "source": [
    "#### ・決定木では図5.1.1のような「説明変数の値に対する条件式」を構築し、各データがその条件式に対して、YesなのかNoなのかに応じて分岐させる ."
   ]
  },
  {
   "cell_type": "markdown",
   "id": "c692402c",
   "metadata": {},
   "source": [
    "#### この条件式での判定、分岐を繰り返し、最後に変数$Z$が1なのか0なのかを決定する ."
   ]
  },
  {
   "cell_type": "markdown",
   "id": "66e2fb9b",
   "metadata": {},
   "source": [
    "#### 分岐させた先を「ノード」という ."
   ]
  },
  {
   "cell_type": "markdown",
   "id": "694452b9",
   "metadata": {},
   "source": [
    "#### ・図5.1.1のように、決定木はif文の連続で記載されるルールベースの手法となる .　ただし、この条件式のルールを作成する際に工夫が行われる ."
   ]
  },
  {
   "cell_type": "markdown",
   "id": "1bb6e514",
   "metadata": {},
   "source": [
    "![alt text](pict1.png)"
   ]
  },
  {
   "cell_type": "markdown",
   "id": "3e90a5c6",
   "metadata": {},
   "source": [
    "#### ・分類の決定木において条件式を作成するにあたり、「ジニ不純度」と呼ばれる指標を使用する .　ジニ不純度$I(t)$を式で表すと、"
   ]
  },
  {
   "cell_type": "markdown",
   "id": "b2167b51",
   "metadata": {},
   "source": [
    "$$\n",
    "I(t) = 1 - \\sum_{l=1}^{c} P(l \\mid t)^2\n",
    "$$ "
   ]
  },
  {
   "cell_type": "markdown",
   "id": "799c8883",
   "metadata": {},
   "source": [
    "#### となる。$l$はとあるラベルを表し、ここでは$Z = 0$ か $Z = 1$のどちらかである ."
   ]
  },
  {
   "cell_type": "markdown",
   "id": "221cc44c",
   "metadata": {},
   "source": [
    "#### $C$はラベル$l$の総種類数(すなわちクラス数)を示し、テレビCMの視聴のケースではクラス数は2となる ."
   ]
  },
  {
   "cell_type": "markdown",
   "id": "8fc4f0ee",
   "metadata": {},
   "source": [
    "#### $P(l|t)$はノード$t$にあるデータがラベル$l$である確率、すなわちデータの割合を示す ."
   ]
  },
  {
   "cell_type": "markdown",
   "id": "74591896",
   "metadata": {},
   "source": [
    "#### ・仮に1つの条件式で$Z = 0$ と $Z = 1$が完全に分離できていると、ノード$t$(条件式でYesのノードとNoのノードの2つ)のジニ不純度はともに0となる ."
   ]
  },
  {
   "cell_type": "markdown",
   "id": "34066145",
   "metadata": {},
   "source": [
    "#### ・ジニ不純度の導入は、できるだけ訓練データが変数$Z$で分離できている状態(すなわち純度が高い状態)を目指すために行う ."
   ]
  },
  {
   "cell_type": "markdown",
   "id": "c15941fa",
   "metadata": {},
   "source": [
    "#### 一番純度が高くなる条件式とは、その条件式1つで訓練データのすべてが$Z = 0$ と $Z = 1$に分離できる条件式のこと . "
   ]
  },
  {
   "cell_type": "markdown",
   "id": "82f124db",
   "metadata": {},
   "source": [
    "#### しかし、そのような条件式は実際には構築できないので、1つの条件式で分離した際に、Yesのノードに分岐されたデータたちと、Noのノードに分岐されたデータたちには、$Z^i=0$と$Z^i=1$が混ざり合う ."
   ]
  },
  {
   "cell_type": "markdown",
   "id": "11b575f7",
   "metadata": {
    "vscode": {
     "languageId": "plaintext"
    }
   },
   "source": [
    "#### できるだけ混ざり方が少ないほうが良く、混ざり具合を数値化したものがジニ不純度である ."
   ]
  },
  {
   "cell_type": "markdown",
   "id": "3174e53c",
   "metadata": {},
   "source": [
    "#### ・とある条件式で得られる、条件式YesのノードとNoのノードのジニ不純度具合を足したものを、その条件式での情報利得(IG : Information Gain)と呼び、"
   ]
  },
  {
   "cell_type": "markdown",
   "id": "0f7f53e6",
   "metadata": {},
   "source": [
    "$$\n",
    "IG(D) = I(D) - \\frac{N_{\\text{yes}}}{N_d} I(D_{\\text{yes}}) - \\frac{N_{\\text{no}}}{N_d} I(D_{\\text{no}})\n",
    "$$"
   ]
  },
  {
   "cell_type": "markdown",
   "id": "bf79692f",
   "metadata": {},
   "source": [
    "#### と記載される .　パラメータの説明に関しては以下の通りである ."
   ]
  },
  {
   "cell_type": "markdown",
   "id": "2c051c63",
   "metadata": {},
   "source": [
    "#### $D$ : 条件式で分岐させたいデータ全て .\n",
    "#### ${N_d}$ : 条件式で分岐させたいデータ全ての総数 .\n",
    "#### ${N_{\\text{yes}}}$ : 条件式でYesと分岐されたデータ数 .\n",
    "#### ${N_{\\text{no}}}$ : 条件式でNoと分岐されたデータ数 .\n",
    "#### $I(D_{\\text{yes}})$ : Yesと分岐されたデータ${D_{\\text{yes}}}$のジニ不純度 .\n",
    "#### $I(D_{\\text{no}})$ : Noと分岐されたデータ${D_{\\text{no}}}$のジニ不純度 ."
   ]
  },
  {
   "cell_type": "markdown",
   "id": "2897a39a",
   "metadata": {},
   "source": [
    "#### ・この情報利得IGが最大となる、すなわち「条件分岐前の不純度」と、「条件分岐後の2つのノードの不純度の合計」の差が最大となる条件式を求める ."
   ]
  },
  {
   "cell_type": "markdown",
   "id": "3b58017d",
   "metadata": {},
   "source": [
    "#### ・条件式を構築する際には使用する特徴量を決定し、条件式に使用する基準値は特徴量がカテゴリカル変数であれば、各カテゴリー値(例 : 性別だと女性0、男性1)を使用する ."
   ]
  },
  {
   "cell_type": "markdown",
   "id": "fe84af50",
   "metadata": {},
   "source": [
    "#### 特徴量が連続値の場合、分岐条件の基準値は無限に存在するので、分岐させたい対象のデータの値を使用する ."
   ]
  },
  {
   "cell_type": "markdown",
   "id": "a52ee980",
   "metadata": {},
   "source": [
    "#### 例えば年齢変数$x_1$において、データが5人分存在し、$(x_1^0,x_1^1,x_1^2,x_1^3,x_1^4)=(20,30,40,25,54)$であった場合には、20,30,40,25,54を基準にそれぞれ条件式を組み立てて、情報利得の大きさを確かめ、最適な基準値を決める ."
   ]
  },
  {
   "cell_type": "markdown",
   "id": "9a124181",
   "metadata": {},
   "source": [
    "#### ・決定木による分類では、分類の条件式をどれだけ繰り返すように組み立てるかを、ハイパーパラメータとして事前に決めておく ."
   ]
  },
  {
   "cell_type": "markdown",
   "id": "befd5681",
   "metadata": {},
   "source": [
    "#### 今回使用するscikit-learnの場合はmax_depthというハイパーパラメータで設定される ."
   ]
  },
  {
   "cell_type": "markdown",
   "id": "6cd1e323",
   "metadata": {},
   "source": [
    "#### デフォルトではmax_depthはNoneに設定されるため、デフォルトの決定木はどんどん深くなっていく ."
   ]
  },
  {
   "cell_type": "markdown",
   "id": "ad7e8896",
   "metadata": {},
   "source": [
    "#### 止まるのは各ノードにおいて条件式でデータを分岐させた際に$Z=0$と$Z=1$にデータが完全に分離された場合のみ ."
   ]
  },
  {
   "cell_type": "markdown",
   "id": "b0e4c808",
   "metadata": {},
   "source": [
    "#### ・ハイパーパラメータのmax_depthがNoneの場合どんどん条件式のノードが増え、木が深くなり学習に使用した訓練データに強く依存したモデルになりやすい ."
   ]
  },
  {
   "cell_type": "markdown",
   "id": "9d452350",
   "metadata": {},
   "source": [
    "#### すると、新たに予測したいデータに対しては良い性能が出ない「過学習したモデル」になってしまう ."
   ]
  },
  {
   "cell_type": "markdown",
   "id": "8a76314b",
   "metadata": {},
   "source": [
    "#### ・その対策として、機械学習ではデータを訓練データと検証データに分離し、max_depthなどのハイパーパラメータを数種類設定した決定木を訓練データで構築し、検証データで各ハイパーパラメータの結果を比較し、最も良いハイパーパラメータのモデルを採用する ."
   ]
  },
  {
   "cell_type": "markdown",
   "id": "69d8542c",
   "metadata": {},
   "source": [
    "#### 実際の機械学習の運用ではさらにテストデータも用意し、報告用に使用する ."
   ]
  },
  {
   "cell_type": "markdown",
   "id": "c0514d79",
   "metadata": {},
   "source": [
    "#### ・基本的にランダムフォレスト、そして決定木ではmax_depthを変えて良いモデルを構築するケースが多い ."
   ]
  },
  {
   "cell_type": "markdown",
   "id": "ec1f1150",
   "metadata": {},
   "source": [
    "#### ・決定木による分類を実装する .　データは第4章と同じくテレビCM効果の疑似データを作成して使用する .　特徴量(説明変数)は年齢変数$x_1$と性別変数$x_2$とする .　目的変数はテレビCMを見たかどうかを示す$Z$である ."
   ]
  },
  {
   "cell_type": "markdown",
   "id": "1288638a",
   "metadata": {},
   "source": [
    "### プログラム実行前の設定など"
   ]
  },
  {
   "cell_type": "code",
   "execution_count": 101,
   "id": "a400d90d",
   "metadata": {},
   "outputs": [],
   "source": [
    "# 乱数のシードを設定\n",
    "import random\n",
    "import numpy as np\n",
    "\n",
    "np.random.seed(1234)\n",
    "random.seed(1234)"
   ]
  },
  {
   "cell_type": "code",
   "execution_count": 102,
   "id": "05314dbc",
   "metadata": {},
   "outputs": [],
   "source": [
    "# 使用するパッケージ（ライブラリと関数）を定義\n",
    "# 標準正規分布の生成用\n",
    "from numpy.random import *\n",
    "\n",
    "# グラフの描画用\n",
    "import matplotlib.pyplot as plt\n",
    "\n",
    "# SciPy 平均0、分散1に正規化（標準化）関数\n",
    "import scipy.stats\n",
    "\n",
    "# シグモイド関数をimport\n",
    "from scipy.special import expit\n",
    "\n",
    "# その他\n",
    "import pandas as pd"
   ]
  },
  {
   "cell_type": "markdown",
   "id": "103c11a1",
   "metadata": {},
   "source": [
    "### データの作成"
   ]
  },
  {
   "cell_type": "code",
   "execution_count": 103,
   "id": "cdb5ee7a",
   "metadata": {},
   "outputs": [],
   "source": [
    "# データ数\n",
    "num_data = 200\n",
    "\n",
    "# 年齢\n",
    "x_1 = randint(15, 76, num_data)  # 15から75歳の一様乱数\n",
    "\n",
    "# 性別（0を女性、1を男性とします）\n",
    "x_2 = randint(0, 2, num_data)  # 0か1の乱数"
   ]
  },
  {
   "cell_type": "markdown",
   "id": "f9124f3e",
   "metadata": {},
   "source": [
    "### テレビCMを見たかどうか"
   ]
  },
  {
   "cell_type": "code",
   "execution_count": 104,
   "id": "f7e818bf",
   "metadata": {},
   "outputs": [],
   "source": [
    "# ノイズの生成\n",
    "e_z = randn(num_data)\n",
    "\n",
    "# シグモイド関数に入れる部分\n",
    "z_base = x_1 + (1-x_2)*10 - 40 + 5*e_z\n",
    "\n",
    "# シグモイド関数を計算\n",
    "z_prob = expit(0.1*z_base)\n",
    "\n",
    "# テレビCMを見たかどうかの変数（0は見ていない、1は見た）\n",
    "Z = np.array([])\n",
    "\n",
    "for i in range(num_data):\n",
    "    Z_i = np.random.choice(2, size=1, p=[1-z_prob[i], z_prob[i]])[0]\n",
    "    Z = np.append(Z, Z_i)"
   ]
  },
  {
   "cell_type": "markdown",
   "id": "b15cd83a",
   "metadata": {},
   "source": [
    "### 購入量$Y$の作成"
   ]
  },
  {
   "cell_type": "code",
   "execution_count": 105,
   "id": "c30cf95d",
   "metadata": {},
   "outputs": [],
   "source": [
    "# ノイズの生成\n",
    "e_y = randn(num_data)\n",
    "\n",
    "Y = -x_1 + 30*x_2 + 10*Z + 80 + 10*e_y"
   ]
  },
  {
   "cell_type": "markdown",
   "id": "59bdd8fb",
   "metadata": {},
   "source": [
    "### データをまとめた表を作成し、平均値を比べる"
   ]
  },
  {
   "cell_type": "code",
   "execution_count": 106,
   "id": "0ed1eea1",
   "metadata": {},
   "outputs": [
    {
     "data": {
      "text/html": [
       "<div>\n",
       "<style scoped>\n",
       "    .dataframe tbody tr th:only-of-type {\n",
       "        vertical-align: middle;\n",
       "    }\n",
       "\n",
       "    .dataframe tbody tr th {\n",
       "        vertical-align: top;\n",
       "    }\n",
       "\n",
       "    .dataframe thead th {\n",
       "        text-align: right;\n",
       "    }\n",
       "</style>\n",
       "<table border=\"1\" class=\"dataframe\">\n",
       "  <thead>\n",
       "    <tr style=\"text-align: right;\">\n",
       "      <th></th>\n",
       "      <th>年齢</th>\n",
       "      <th>性別</th>\n",
       "      <th>CMを見た</th>\n",
       "      <th>購入量</th>\n",
       "    </tr>\n",
       "  </thead>\n",
       "  <tbody>\n",
       "    <tr>\n",
       "      <th>0</th>\n",
       "      <td>62</td>\n",
       "      <td>0</td>\n",
       "      <td>1.0</td>\n",
       "      <td>24.464285</td>\n",
       "    </tr>\n",
       "    <tr>\n",
       "      <th>1</th>\n",
       "      <td>34</td>\n",
       "      <td>0</td>\n",
       "      <td>0.0</td>\n",
       "      <td>45.693411</td>\n",
       "    </tr>\n",
       "    <tr>\n",
       "      <th>2</th>\n",
       "      <td>53</td>\n",
       "      <td>1</td>\n",
       "      <td>1.0</td>\n",
       "      <td>64.998281</td>\n",
       "    </tr>\n",
       "    <tr>\n",
       "      <th>3</th>\n",
       "      <td>68</td>\n",
       "      <td>1</td>\n",
       "      <td>1.0</td>\n",
       "      <td>47.186898</td>\n",
       "    </tr>\n",
       "    <tr>\n",
       "      <th>4</th>\n",
       "      <td>27</td>\n",
       "      <td>1</td>\n",
       "      <td>0.0</td>\n",
       "      <td>100.114260</td>\n",
       "    </tr>\n",
       "  </tbody>\n",
       "</table>\n",
       "</div>"
      ],
      "text/plain": [
       "   年齢  性別  CMを見た         購入量\n",
       "0  62   0    1.0   24.464285\n",
       "1  34   0    0.0   45.693411\n",
       "2  53   1    1.0   64.998281\n",
       "3  68   1    1.0   47.186898\n",
       "4  27   1    0.0  100.114260"
      ]
     },
     "execution_count": 106,
     "metadata": {},
     "output_type": "execute_result"
    }
   ],
   "source": [
    "df = pd.DataFrame({'年齢': x_1,\n",
    "                   '性別': x_2,\n",
    "                   'CMを見た': Z,\n",
    "                   '購入量': Y,\n",
    "                   })\n",
    "\n",
    "# 先頭を表示\n",
    "df.head()"
   ]
  },
  {
   "cell_type": "code",
   "execution_count": 107,
   "id": "8c41ebc4",
   "metadata": {},
   "outputs": [
    {
     "name": "stdout",
     "output_type": "stream",
     "text": [
      "年齢       55.836066\n",
      "性別        0.483607\n",
      "CMを見た     1.000000\n",
      "購入量      49.711478\n",
      "dtype: float64\n",
      "--------\n",
      "年齢       32.141026\n",
      "性別        0.692308\n",
      "CMを見た     0.000000\n",
      "購入量      68.827143\n",
      "dtype: float64\n"
     ]
    }
   ],
   "source": [
    "# 平均値を比べる\n",
    "\n",
    "print(df[df[\"CMを見た\"] == 1.0].mean())\n",
    "print(\"--------\")\n",
    "print(df[df[\"CMを見た\"] == 0.0].mean())"
   ]
  },
  {
   "cell_type": "markdown",
   "id": "76625f29",
   "metadata": {},
   "source": [
    "### 決定木でCMを見たかどうかを分類予測するモデルの構築"
   ]
  },
  {
   "cell_type": "code",
   "execution_count": 108,
   "id": "8166efe1",
   "metadata": {},
   "outputs": [
    {
     "name": "stdout",
     "output_type": "stream",
     "text": [
      "深さ1の性能： 0.85\n",
      "深さ2の性能： 0.85\n",
      "深さ3の性能： 0.825\n"
     ]
    }
   ],
   "source": [
    "# scikit-learnから決定木の分類をimport\n",
    "# https://scikit-learn.org/stable/modules/generated/sklearn.tree.DecisionTreeClassifier.html\n",
    "from sklearn.tree import DecisionTreeClassifier\n",
    "\n",
    "# データを訓練と検証に分割する\n",
    "# https://scikit-learn.org/stable/modules/generated/sklearn.model_selection.train_test_split.html\n",
    "from sklearn.model_selection import train_test_split\n",
    "\n",
    "\n",
    "# 説明変数\n",
    "X = df[[\"年齢\", \"性別\"]]\n",
    "\n",
    "# 被説明変数（目的変数）\n",
    "Z = df[\"CMを見た\"]\n",
    "\n",
    "# データを訓練と検証に分割\n",
    "X_train, X_val, Z_train, Z_val = train_test_split(\n",
    "    X, Z, train_size=0.6, random_state=0)\n",
    "\n",
    "# 学習と性能確認\n",
    "clf = DecisionTreeClassifier(max_depth=1, random_state=0)\n",
    "clf.fit(X_train, Z_train)\n",
    "print(\"深さ1の性能：\", clf.score(X_val, Z_val))  # 正解率を表示\n",
    "\n",
    "# 学習と性能確認\n",
    "clf = DecisionTreeClassifier(max_depth=2, random_state=0)\n",
    "clf.fit(X_train, Z_train)\n",
    "print(\"深さ2の性能：\", clf.score(X_val, Z_val))  # 正解率を表示\n",
    "\n",
    "# 学習と性能確認\n",
    "clf = DecisionTreeClassifier(max_depth=3, random_state=0)\n",
    "clf.fit(X_train, Z_train)\n",
    "print(\"深さ3の性能：\", clf.score(X_val, Z_val))  # 正解率を表示"
   ]
  },
  {
   "cell_type": "markdown",
   "id": "053ef553",
   "metadata": {},
   "source": [
    "#### ・ハイパーパラメータとして深さを変化させている .　今回は深さ3にすると、検証データに対する正解率が低下しているので、深さは2が良いとなる ."
   ]
  },
  {
   "cell_type": "markdown",
   "id": "24e938fd",
   "metadata": {},
   "source": [
    "## 決定木による回帰"
   ]
  },
  {
   "cell_type": "markdown",
   "id": "19ce74e9",
   "metadata": {},
   "source": [
    "#### ・決定木による回帰について、これは第4章のテレビCM効果の疑似ケースでは、線形回帰で商品の購買量を推定する部分に対応する ."
   ]
  },
  {
   "cell_type": "markdown",
   "id": "f1b161ff",
   "metadata": {},
   "source": [
    "#### ・回帰の決定木も基本的な仕組みは分類のときと同じだが、条件式を作る際の情報利得IGにジニ不純度ではなく、二乗誤差を利用する ."
   ]
  },
  {
   "cell_type": "markdown",
   "id": "47f6d5c5",
   "metadata": {},
   "source": [
    "#### ・二乗誤差の計算に利用する推定値には条件式で分類されたデータの平均値を利用する ."
   ]
  },
  {
   "cell_type": "markdown",
   "id": "f6c4a7b8",
   "metadata": {},
   "source": [
    "#### すなわち、各ノードにおいてまず条件式を作り、Yes , Noの2つのグループに分ける .　ここで、変数${N_{\\text{yes}}}$は条件式でYesと分岐されたデータ数、${N_{\\text{no}}}$はNoと分岐されたデータ数とする ."
   ]
  },
  {
   "cell_type": "markdown",
   "id": "480abeca",
   "metadata": {},
   "source": [
    "#### 回帰して求めたい変数を$Y$とすると、Yes側の推定値$\\hat{Y}_{yes}$は、"
   ]
  },
  {
   "cell_type": "markdown",
   "id": "5e6fdd3a",
   "metadata": {},
   "source": [
    "$$\n",
    "\\hat{Y}_{\\text{yes}} = \\mathbb{E}[Y_{\\text{yes}}] = \\frac{1}{N_{\\text{yes}}} \\sum_{i}^{N_{\\text{yes}}} Y_{\\text{yes}}^{i}\n",
    "$$"
   ]
  },
  {
   "cell_type": "markdown",
   "id": "6653197d",
   "metadata": {},
   "source": [
    "#### となる .　同様にして、$\\hat{Y}_{no}$は"
   ]
  },
  {
   "cell_type": "markdown",
   "id": "e2d9e0a8",
   "metadata": {},
   "source": [
    "$$\n",
    "\\hat{Y}_{\\text{no}} = \\mathbb{E}[Y_{\\text{no}}] = \\frac{1}{N_{\\text{no}}} \\sum_{i}^{N_{\\text{no}}} Y_{\\text{no}}^{i}\n",
    "$$"
   ]
  },
  {
   "cell_type": "markdown",
   "id": "3710060b",
   "metadata": {},
   "source": [
    "#### となる .　そして、これらの推定値に対する二乗誤差の合計は"
   ]
  },
  {
   "cell_type": "markdown",
   "id": "7405620c",
   "metadata": {},
   "source": [
    "$$\n",
    "\\frac{1}{N_{\\text{yes}}} \\sum_{i}^{N_{\\text{yes}}} \\left( Y_{\\text{yes}}^i - \\hat{Y}_{\\text{yes}} \\right)^2 \n",
    "+ \\frac{1}{N_{\\text{no}}} \\sum_{i}^{N_{\\text{no}}} \\left( Y_{\\text{no}}^i - \\hat{Y}_{\\text{no}} \\right)^2\n",
    "$$"
   ]
  },
  {
   "cell_type": "markdown",
   "id": "be96c80b",
   "metadata": {},
   "source": [
    "#### となる ."
   ]
  },
  {
   "cell_type": "markdown",
   "id": "938d7e64",
   "metadata": {},
   "source": [
    "#### ・この2乗誤差の合計が最小となるように、条件式に使用する特徴量を選択し、条件の基準値を決定する ."
   ]
  },
  {
   "cell_type": "markdown",
   "id": "82fb71c7",
   "metadata": {},
   "source": [
    "#### ・回帰の決定木もハイパーパラメータmax_depthを指定しない場合、条件式で分割した際に分岐した先のノードのデータ数が1つになるまで条件式を作るため、深い木が作成される ."
   ]
  },
  {
   "cell_type": "markdown",
   "id": "6d9d8d24",
   "metadata": {},
   "source": [
    "#### そのため、分類のときと同様に、訓練データと検証データから過学習にならないようにハイパーパラメータmax_depthを比較し、最適な深さを決定して使用する ."
   ]
  },
  {
   "cell_type": "markdown",
   "id": "525a6f91",
   "metadata": {},
   "source": [
    "### 決定木で購入量を回帰予測するモデルの構築"
   ]
  },
  {
   "cell_type": "code",
   "execution_count": 109,
   "id": "28431ae9",
   "metadata": {},
   "outputs": [
    {
     "name": "stdout",
     "output_type": "stream",
     "text": [
      "深さ2の性能： 0.7257496664596153\n",
      "深さ3の性能： 0.7399348963931736\n",
      "深さ4の性能： 0.7165539691159017\n"
     ]
    }
   ],
   "source": [
    "# scikit-learnから決定木の回帰をimport\n",
    "# https://scikit-learn.org/stable/modules/generated/sklearn.tree.DecisionTreeRegressor.html#sklearn.tree.DecisionTreeRegressor\n",
    "from sklearn.tree import DecisionTreeRegressor\n",
    "\n",
    "# データを訓練と検証に分割する\n",
    "# https://scikit-learn.org/stable/modules/generated/sklearn.model_selection.train_test_split.html\n",
    "from sklearn.model_selection import train_test_split\n",
    "\n",
    "\n",
    "# 説明変数\n",
    "X = df[[\"年齢\", \"性別\"]]\n",
    "\n",
    "# 被説明変数（目的変数）\n",
    "Y = df[\"購入量\"]\n",
    "\n",
    "# データを訓練と検証に分割\n",
    "X_train, X_val, Y_train, Y_val = train_test_split(\n",
    "    X, Y, train_size=0.6, random_state=0)\n",
    "\n",
    "# 学習と性能確認\n",
    "reg = DecisionTreeRegressor(max_depth=2, random_state=0)\n",
    "reg = reg.fit(X_train, Y_train)\n",
    "print(\"深さ2の性能：\", reg.score(X_val, Y_val))  # 決定係数R2を表示\n",
    "\n",
    "# 学習と性能確認\n",
    "reg = DecisionTreeRegressor(max_depth=3, random_state=0)\n",
    "reg = reg.fit(X_train, Y_train)\n",
    "print(\"深さ3の性能：\", reg.score(X_val, Y_val))  # 決定係数R2を表示\n",
    "\n",
    "# 学習と性能確認\n",
    "reg = DecisionTreeRegressor(max_depth=4, random_state=0)\n",
    "reg = reg.fit(X_train, Y_train)\n",
    "print(\"深さ4の性能：\", reg.score(X_val, Y_val))  # 決定係数R2を表示"
   ]
  },
  {
   "cell_type": "markdown",
   "id": "eb537cd3",
   "metadata": {},
   "source": [
    "#### ・深さ3で最も大きな値となっている .　実装コードにおいて、reg.scoreで求めた値は決定係数と呼ばれ、値が大きいほど良いモデルである指標である ."
   ]
  },
  {
   "cell_type": "markdown",
   "id": "c5977c38",
   "metadata": {},
   "source": [
    "#### 0から1の値をとり、完璧に回帰モデルで推定できていれば1になる .　この結果から深さ3の決定木を使用する ."
   ]
  },
  {
   "cell_type": "markdown",
   "id": "c23b3a5c",
   "metadata": {},
   "source": [
    "## ランダムフォレストによる分類"
   ]
  },
  {
   "cell_type": "markdown",
   "id": "efa10234",
   "metadata": {},
   "source": [
    "#### ・ランダムフォレスト : 2種類のランダム性を持たせた決定木を複数作成し、それらの総合的な結果から分類や回帰を実施する機械学習モデル ."
   ]
  },
  {
   "cell_type": "markdown",
   "id": "5670da2e",
   "metadata": {},
   "source": [
    "#### ・2種類のランダム性とは、訓練データのランダム性と、分岐条件に使用する特徴量のランダム性である ."
   ]
  },
  {
   "cell_type": "markdown",
   "id": "f121d2d4",
   "metadata": {},
   "source": [
    "#### ・訓練データのランダム性では、訓練データをそのまま使用するのではなく、訓練データと同じ数だけデータをランダムに抽出したもの訓練データとする ."
   ]
  },
  {
   "cell_type": "markdown",
   "id": "4ef0bbcc",
   "metadata": {},
   "source": [
    "#### そのため、ランダム抽出して作成した訓練データには重複したデータが存在する .　その代わりに元の1つの訓練データセットから少し異なる訓練データのセットを複数用意することができる ."
   ]
  },
  {
   "cell_type": "markdown",
   "id": "f52a540c",
   "metadata": {},
   "source": [
    "#### ・分岐条件に使用する特徴量のランダム性とは、分岐条件を作成する際に使用できる特徴量をランダムに複数個選択する .　その結果、分岐条件の作成で使える特徴量が減る ."
   ]
  },
  {
   "cell_type": "markdown",
   "id": "8509c391",
   "metadata": {},
   "source": [
    "#### この限られた特徴量を使用して一番良い分岐条件を作成する ."
   ]
  },
  {
   "cell_type": "markdown",
   "id": "5add2ca0",
   "metadata": {},
   "source": [
    "#### 本書で使用しているscikit-learnの場合、特徴量の総数のルート($√$)の数だけ特徴量を選択して、その中での最も良い分岐条件を作成する ."
   ]
  },
  {
   "cell_type": "markdown",
   "id": "c6e11f2e",
   "metadata": {},
   "source": [
    "#### ただし、特徴量は重複しないように選ぶ ."
   ]
  },
  {
   "cell_type": "markdown",
   "id": "3c455310",
   "metadata": {},
   "source": [
    "#### ・分岐条件で使用できる特徴量を減らすので、モデルの性能は決定木のときよりも悪化する ."
   ]
  },
  {
   "cell_type": "markdown",
   "id": "0242331c",
   "metadata": {},
   "source": [
    "#### ランダムフォレストの1つの決定木の性能は悪化しているが、複数の決定木を総合的に考えた際には、ランダム性のない決定木よりも良い性能になるのがランダムフォレストの特徴である ."
   ]
  },
  {
   "cell_type": "markdown",
   "id": "3731a6bf",
   "metadata": {},
   "source": [
    "#### このような複数のモデルを総合的に考える機械学習手法は\"アンサンブル手法\"と呼ばれる ."
   ]
  },
  {
   "cell_type": "markdown",
   "id": "6d5226bd",
   "metadata": {},
   "source": [
    "#### ・scikit-learnのランダムフォレストはデフォルトでは100個の決定木を作成する .　そして、とある入力データを推論する際には100個の決定木の結果を多数決して、分類ラベルを決める ."
   ]
  },
  {
   "cell_type": "markdown",
   "id": "fe11f0af",
   "metadata": {},
   "source": [
    "#### ・多数決をする際にはその決定木の最終ノードのラベルの割合を考慮する ."
   ]
  },
  {
   "cell_type": "markdown",
   "id": "6b11d5dc",
   "metadata": {},
   "source": [
    "#### すなわち、とあるデータを推論する際に決定木をたどって行って最終にたどり着いたノードにデータが10個含まれているとする .　"
   ]
  },
  {
   "cell_type": "markdown",
   "id": "9838d207",
   "metadata": {},
   "source": [
    "#### その訓練データは$Z=0$が8個、$Z=1$が2個だった場合、その決定木での推論結果は$Z=0$、そして$Z=0$の確率は80%とする ."
   ]
  },
  {
   "cell_type": "markdown",
   "id": "6dc28ba6",
   "metadata": {},
   "source": [
    "#### そして全体投票の際には0.8票が$Z=0$に投票される ."
   ]
  },
  {
   "cell_type": "markdown",
   "id": "4ca63ad1",
   "metadata": {},
   "source": [
    "#### この投票をすべての決定木で実施し、投票の合計から分類結果のラベル、そして分類の確率を求める ."
   ]
  },
  {
   "cell_type": "markdown",
   "id": "1a83eeaa",
   "metadata": {},
   "source": [
    "### ランダムフォレストでCMを見たかどうかを分類予測するモデルの構築"
   ]
  },
  {
   "cell_type": "code",
   "execution_count": 110,
   "id": "703280cc",
   "metadata": {},
   "outputs": [
    {
     "name": "stdout",
     "output_type": "stream",
     "text": [
      "深さ1の性能： 0.775\n",
      "深さ2の性能： 0.85\n",
      "深さ3の性能： 0.825\n"
     ]
    }
   ],
   "source": [
    "# scikit-learnからランダムフォレストの分類をimport\n",
    "# https://scikit-learn.org/stable/modules/generated/sklearn.ensemble.RandomForestClassifier.html?highlight=randomforest\n",
    "from sklearn.ensemble import RandomForestClassifier\n",
    "from sklearn.model_selection import train_test_split\n",
    "\n",
    "# 説明変数\n",
    "X = df[[\"年齢\", \"性別\"]]\n",
    "\n",
    "# 被説明変数（目的変数）\n",
    "Z = df[\"CMを見た\"]\n",
    "\n",
    "# データを訓練と検証に分割\n",
    "X_train, X_val, Z_train, Z_val = train_test_split(\n",
    "    X, Z, train_size=0.6, random_state=0)\n",
    "\n",
    "# 学習と性能確認\n",
    "clf = RandomForestClassifier(max_depth=1, random_state=0)\n",
    "clf.fit(X_train, Z_train)\n",
    "print(\"深さ1の性能：\", clf.score(X_val, Z_val))  # 正解率を表示\n",
    "\n",
    "# 学習と性能確認\n",
    "clf = RandomForestClassifier(max_depth=2, random_state=0)\n",
    "clf.fit(X_train, Z_train)\n",
    "print(\"深さ2の性能：\", clf.score(X_val, Z_val))  # 正解率を表示\n",
    "\n",
    "# 学習と性能確認\n",
    "clf = RandomForestClassifier(max_depth=3, random_state=0)\n",
    "clf.fit(X_train, Z_train)\n",
    "print(\"深さ3の性能：\", clf.score(X_val, Z_val))  # 正解率を表示"
   ]
  },
  {
   "cell_type": "markdown",
   "id": "ffeda20b",
   "metadata": {},
   "source": [
    "#### ・深さ2のランダムフォレスト分類の検証データでの正解率は85%となった .　なお、今回はたまたま決定木の場合と同じ性能になった ."
   ]
  },
  {
   "cell_type": "markdown",
   "id": "4b90da23",
   "metadata": {},
   "source": [
    "## ランダムフォレストによる回帰"
   ]
  },
  {
   "cell_type": "markdown",
   "id": "2a26cce5",
   "metadata": {},
   "source": [
    "#### ・本書で使用しているscikit-learnのランダムフォレスト回帰の場合には、分岐条件に使用する特徴量のランダム性は使用せず、すべての特徴量を考慮して分岐条件を求める ."
   ]
  },
  {
   "cell_type": "markdown",
   "id": "570e49c1",
   "metadata": {},
   "source": [
    "#### 訓練データのランダム性を用いる点は分類と同じである ."
   ]
  },
  {
   "cell_type": "markdown",
   "id": "0e057aa4",
   "metadata": {},
   "source": [
    "#### ・回帰の場合もデフォルトでは100本の決定木を用意する .　回帰の推論結果にはこの100本の決定木の回帰推定の結果の平均値を使用する ."
   ]
  },
  {
   "cell_type": "markdown",
   "id": "f0a0f60f",
   "metadata": {},
   "source": [
    "### ランダムフォレストで購入量を回帰予測するモデルの構築"
   ]
  },
  {
   "cell_type": "code",
   "execution_count": 111,
   "id": "a7ce2cfd",
   "metadata": {},
   "outputs": [
    {
     "name": "stdout",
     "output_type": "stream",
     "text": [
      "深さ2の性能： 0.7618786062003249\n",
      "深さ3の性能： 0.7810610687821997\n",
      "深さ4の性能： 0.7655149049335737\n"
     ]
    }
   ],
   "source": [
    "# scikit-learnから決定木の回帰をimport\n",
    "# https://scikit-learn.org/stable/modules/generated/sklearn.ensemble.RandomForestRegressor.html?highlight=randomforest\n",
    "from sklearn.ensemble import RandomForestRegressor\n",
    "from sklearn.model_selection import train_test_split\n",
    "\n",
    "\n",
    "# 説明変数\n",
    "X = df[[\"年齢\", \"性別\"]]\n",
    "\n",
    "# 被説明変数（目的変数）\n",
    "Y = df[\"購入量\"]\n",
    "\n",
    "# データを訓練と検証に分割\n",
    "X_train, X_val, Y_train, Y_val = train_test_split(\n",
    "    X, Y, train_size=0.6, random_state=0)\n",
    "\n",
    "# 学習と性能確認\n",
    "reg = RandomForestRegressor(max_depth=2, random_state=0)\n",
    "reg = reg.fit(X_train, Y_train)\n",
    "print(\"深さ2の性能：\", reg.score(X_val, Y_val))  # 決定係数R2を表示\n",
    "\n",
    "# 学習と性能確認\n",
    "reg = RandomForestRegressor(max_depth=3, random_state=0)\n",
    "reg = reg.fit(X_train, Y_train)\n",
    "print(\"深さ3の性能：\", reg.score(X_val, Y_val))  # 決定係数R2を表示\n",
    "\n",
    "# 学習と性能確認\n",
    "reg = RandomForestRegressor(max_depth=4, random_state=0)\n",
    "reg = reg.fit(X_train, Y_train)\n",
    "print(\"深さ4の性能：\", reg.score(X_val, Y_val))  # 決定係数R2を表示"
   ]
  },
  {
   "cell_type": "markdown",
   "id": "c12e6d78",
   "metadata": {},
   "source": [
    "#### ・深さ3のランダムフォレスト回帰の検証データでの決定係数は約0.78となった .　決定木の決定係数が約0.74だったので、ランダムフォレストの方がより良い回帰モデルが構築できた ."
   ]
  },
  {
   "cell_type": "markdown",
   "id": "ffc9babe",
   "metadata": {},
   "source": [
    "## 5-2 Meta-Learners(T-Learner,S-Learner,X-Learner)の実装"
   ]
  },
  {
   "cell_type": "markdown",
   "id": "f6fb3f59",
   "metadata": {},
   "source": [
    "#### ・本節では、処置の効果が複雑なケース、例えばテレビCMの視聴による購買促進効果が年齢によって変化する、性別によって異なる、などのケースを取り扱う ."
   ]
  },
  {
   "cell_type": "markdown",
   "id": "685e2d11",
   "metadata": {},
   "source": [
    "#### ・第4章の回帰分析、IPTW法、DR法は線形な関係のみを想定していたが、本節からは非線形な因果関係および処置効果を扱える因果推論手法を解説、実装する ."
   ]
  },
  {
   "cell_type": "markdown",
   "id": "3187cfd6",
   "metadata": {},
   "source": [
    "## データの準備"
   ]
  },
  {
   "cell_type": "markdown",
   "id": "3070a8b4",
   "metadata": {},
   "source": [
    "#### ・本節ではMeta-learnersを取り扱うにあたり、第1章から紹介している、「上司向け : 部下とのキャリア面談のポイント研修」を疑似ケースに使用する .　本章からはデータの生成方法が異なる ."
   ]
  },
  {
   "cell_type": "markdown",
   "id": "54ba0885",
   "metadata": {},
   "source": [
    "### プログラム実行前の設定など"
   ]
  },
  {
   "cell_type": "code",
   "execution_count": 112,
   "id": "36c92189",
   "metadata": {},
   "outputs": [],
   "source": [
    "# 乱数のシードを設定\n",
    "import random\n",
    "import numpy as np\n",
    "\n",
    "np.random.seed(1234)\n",
    "random.seed(1234)"
   ]
  },
  {
   "cell_type": "code",
   "execution_count": 113,
   "id": "e57ca6e9",
   "metadata": {},
   "outputs": [],
   "source": [
    "# 使用するパッケージ（ライブラリと関数）を定義\n",
    "# 標準正規分布の生成用\n",
    "from numpy.random import *\n",
    "\n",
    "# グラフの描画用\n",
    "import matplotlib.pyplot as plt\n",
    "\n",
    "# SciPy 平均0、分散1に正規化（標準化）関数\n",
    "import scipy.stats\n",
    "\n",
    "# シグモイド関数をimport\n",
    "from scipy.special import expit\n",
    "\n",
    "# その他\n",
    "import pandas as pd"
   ]
  },
  {
   "cell_type": "markdown",
   "id": "0c245a24",
   "metadata": {},
   "source": [
    "#### ・次にデータを作成する .　因果ダイアグラム(DAG)を再喝する ."
   ]
  },
  {
   "cell_type": "markdown",
   "id": "b5dfd067",
   "metadata": {},
   "source": [
    "![alt text](pict2.png)"
   ]
  },
  {
   "cell_type": "markdown",
   "id": "97982cb7",
   "metadata": {},
   "source": [
    "#### ・現実世界において、変数$x$である[上司の部下育成の熱心さ]をどう測定するのかは難しい問題である .　この点については本節の最後に述べる ."
   ]
  },
  {
   "cell_type": "markdown",
   "id": "3f14f63f",
   "metadata": {},
   "source": [
    "#### ひとまず実装においては、変数$x$は-1から1の一様分布に従うとする ."
   ]
  },
  {
   "cell_type": "markdown",
   "id": "5b24dc85",
   "metadata": {},
   "source": [
    "#### ・上司が[「上司向け : 部下とのキャリア面談のポイント研修」を受講]を示す変数$Z$は、変数$x$に従うロジスティック関数で決まるとし、変数$Z=1$となる確率$Z_{prob}$を、"
   ]
  },
  {
   "cell_type": "markdown",
   "id": "24b50854",
   "metadata": {},
   "source": [
    "$$\n",
    "Z_{\\text{prob}} = \\text{sigmoid}(5.0x + 5.0 \\times \\text{noise})\n",
    "$$"
   ]
  },
  {
   "cell_type": "markdown",
   "id": "d0c92ddc",
   "metadata": {},
   "source": [
    "#### とする .　この$Z_{prob}$の確率に従い、$Z$が1か0になる ."
   ]
  },
  {
   "cell_type": "markdown",
   "id": "ba3ae67b",
   "metadata": {},
   "source": [
    "#### ・最後に、上司が研修を受けた際に、[部下の面談の満足度]変数$Y$は、[上司の部下育成の熱心さ]変数$x$が0より小さいと効果が低く、満足度$Y$は0.5だけ上昇する ."
   ]
  },
  {
   "cell_type": "markdown",
   "id": "aa165d9b",
   "metadata": {},
   "source": [
    "#### [上司の部下育成の熱心さ]変数$x$が0以上で0.5より小さいと、満足度$Y$は0.7上昇する ."
   ]
  },
  {
   "cell_type": "markdown",
   "id": "3bcffd0a",
   "metadata": {},
   "source": [
    "#### [上司の部下育成の熱心さ]変数$x$が0.5以上だと満足度$Y$は1.0上昇するとする ."
   ]
  },
  {
   "cell_type": "markdown",
   "id": "dc7ee25f",
   "metadata": {},
   "source": [
    "#### すなわち、処置効果が変数$x$によって非線形に変化する状況とする .　部下育成に熱心な上司ほど、同じ研修でもその効果が大きいというのはまずまず妥当な状況である ."
   ]
  },
  {
   "cell_type": "markdown",
   "id": "2689cbd4",
   "metadata": {},
   "source": [
    "#### ・つまり、[上司の部下育成の熱心さ]変数$x$は研修を受講するか否かにも影響し、処置の効果(研修効果)にも影響する .　ここで処置の効果の大きさを$t(x)$とする ."
   ]
  },
  {
   "cell_type": "markdown",
   "id": "7c88e9b7",
   "metadata": {},
   "source": [
    "#### ・これらの内容を踏まえ、[部下の面談の満足度]変数$Y$は、"
   ]
  },
  {
   "cell_type": "markdown",
   "id": "8d618273",
   "metadata": {},
   "source": [
    "$$\n",
    "Y = Z \\times t(x) + 0.3 \\times x + 2.0 + 0.1 \\times \\text{noize}\n",
    "$$"
   ]
  },
  {
   "cell_type": "markdown",
   "id": "56357625",
   "metadata": {},
   "source": [
    "#### で決まるとする .　以上の内容を実装し、出力した結果が図5.2.2となる ."
   ]
  },
  {
   "cell_type": "markdown",
   "id": "25e6889e",
   "metadata": {},
   "source": [
    "### データの作成"
   ]
  },
  {
   "cell_type": "code",
   "execution_count": 115,
   "id": "4a54f0f3",
   "metadata": {},
   "outputs": [
    {
     "data": {
      "text/plain": [
       "<matplotlib.collections.PathCollection at 0x76d825ec7110>"
      ]
     },
     "execution_count": 115,
     "metadata": {},
     "output_type": "execute_result"
    },
    {
     "name": "stderr",
     "output_type": "stream",
     "text": [
      "findfont: Font family 'IPAexGothic' not found.\n",
      "findfont: Font family 'IPAexGothic' not found.\n",
      "findfont: Font family 'IPAexGothic' not found.\n",
      "findfont: Font family 'IPAexGothic' not found.\n",
      "findfont: Font family 'IPAexGothic' not found.\n",
      "findfont: Font family 'IPAexGothic' not found.\n",
      "findfont: Font family 'IPAexGothic' not found.\n",
      "findfont: Font family 'IPAexGothic' not found.\n",
      "findfont: Font family 'IPAexGothic' not found.\n",
      "findfont: Font family 'IPAexGothic' not found.\n",
      "findfont: Font family 'IPAexGothic' not found.\n",
      "findfont: Font family 'IPAexGothic' not found.\n",
      "findfont: Font family 'IPAexGothic' not found.\n",
      "findfont: Font family 'IPAexGothic' not found.\n",
      "findfont: Font family 'IPAexGothic' not found.\n",
      "findfont: Font family 'IPAexGothic' not found.\n",
      "findfont: Font family 'IPAexGothic' not found.\n",
      "findfont: Font family 'IPAexGothic' not found.\n",
      "findfont: Font family 'IPAexGothic' not found.\n",
      "findfont: Font family 'IPAexGothic' not found.\n",
      "findfont: Font family 'IPAexGothic' not found.\n",
      "findfont: Font family 'IPAexGothic' not found.\n",
      "findfont: Font family 'IPAexGothic' not found.\n",
      "findfont: Font family 'IPAexGothic' not found.\n",
      "findfont: Font family 'IPAexGothic' not found.\n",
      "findfont: Font family 'IPAexGothic' not found.\n",
      "findfont: Font family 'IPAexGothic' not found.\n",
      "findfont: Font family 'IPAexGothic' not found.\n",
      "findfont: Font family 'IPAexGothic' not found.\n",
      "findfont: Font family 'IPAexGothic' not found.\n",
      "findfont: Font family 'IPAexGothic' not found.\n",
      "findfont: Font family 'IPAexGothic' not found.\n",
      "findfont: Font family 'IPAexGothic' not found.\n",
      "findfont: Font family 'IPAexGothic' not found.\n",
      "findfont: Font family 'IPAexGothic' not found.\n",
      "findfont: Font family 'IPAexGothic' not found.\n",
      "findfont: Font family 'IPAexGothic' not found.\n",
      "findfont: Font family 'IPAexGothic' not found.\n",
      "findfont: Font family 'IPAexGothic' not found.\n",
      "findfont: Font family 'IPAexGothic' not found.\n",
      "findfont: Font family 'IPAexGothic' not found.\n",
      "findfont: Font family 'IPAexGothic' not found.\n",
      "findfont: Font family 'IPAexGothic' not found.\n",
      "findfont: Font family 'IPAexGothic' not found.\n",
      "findfont: Font family 'IPAexGothic' not found.\n",
      "findfont: Font family 'IPAexGothic' not found.\n",
      "findfont: Font family 'IPAexGothic' not found.\n",
      "findfont: Font family 'IPAexGothic' not found.\n",
      "findfont: Font family 'IPAexGothic' not found.\n",
      "findfont: Font family 'IPAexGothic' not found.\n",
      "findfont: Font family 'IPAexGothic' not found.\n",
      "findfont: Font family 'IPAexGothic' not found.\n",
      "findfont: Font family 'IPAexGothic' not found.\n",
      "findfont: Font family 'IPAexGothic' not found.\n",
      "findfont: Font family 'IPAexGothic' not found.\n",
      "findfont: Font family 'IPAexGothic' not found.\n",
      "findfont: Font family 'IPAexGothic' not found.\n",
      "findfont: Font family 'IPAexGothic' not found.\n",
      "findfont: Font family 'IPAexGothic' not found.\n",
      "findfont: Font family 'IPAexGothic' not found.\n",
      "findfont: Font family 'IPAexGothic' not found.\n",
      "findfont: Font family 'IPAexGothic' not found.\n"
     ]
    },
    {
     "data": {
      "image/png": "[encoded data removed]",
      "text/plain": [
       "<Figure size 640x480 with 1 Axes>"
      ]
     },
     "metadata": {},
     "output_type": "display_data"
    }
   ],
   "source": [
    "# データ数\n",
    "num_data = 500\n",
    "\n",
    "# 部下育成への熱心さ\n",
    "x = np.random.uniform(low=-1, high=1, size=num_data)  # -1から1の一様乱数\n",
    "\n",
    "# 上司が「上司向け：部下とのキャリア面談のポイント研修」に参加したかどうか\n",
    "e_z = randn(num_data)  # ノイズの生成\n",
    "z_prob = expit(-1*-5.0*x+5*e_z)  # xの効果が反対になっていたのを修正Issue：#18\n",
    "Z = np.array([])\n",
    "\n",
    "# 上司が「上司向け：部下とのキャリア面談のポイント研修」に参加したかどうか\n",
    "for i in range(num_data):\n",
    "    Z_i = np.random.choice(2, size=1, p=[1-z_prob[i], z_prob[i]])[0]\n",
    "    Z = np.append(Z, Z_i)\n",
    "\n",
    "# 介入効果の非線形性：部下育成の熱心さxの値に応じて段階的に変化\n",
    "t = np.zeros(num_data)\n",
    "for i in range(num_data):\n",
    "    if x[i] < 0:\n",
    "        t[i] = 0.5\n",
    "    elif x[i] >= 0 and x[i] < 0.5:\n",
    "        t[i] = 0.7\n",
    "    elif x[i] >= 0.5:\n",
    "        t[i] = 1.0\n",
    "\n",
    "e_y = randn(num_data)\n",
    "Y = 2.0 + t*Z + 0.3*x + 0.1*e_y \n",
    "\n",
    "# 介入効果を図で確認\n",
    "plt.scatter(x, t, label=\"treatment-effect\")"
   ]
  },
  {
   "cell_type": "markdown",
   "id": "ab9613a4",
   "metadata": {},
   "source": [
    "### データをまとめた表を作成し、可視化する"
   ]
  },
  {
   "cell_type": "code",
   "execution_count": 116,
   "id": "a52cff8e",
   "metadata": {},
   "outputs": [
    {
     "data": {
      "text/html": [
       "<div>\n",
       "<style scoped>\n",
       "    .dataframe tbody tr th:only-of-type {\n",
       "        vertical-align: middle;\n",
       "    }\n",
       "\n",
       "    .dataframe tbody tr th {\n",
       "        vertical-align: top;\n",
       "    }\n",
       "\n",
       "    .dataframe thead th {\n",
       "        text-align: right;\n",
       "    }\n",
       "</style>\n",
       "<table border=\"1\" class=\"dataframe\">\n",
       "  <thead>\n",
       "    <tr style=\"text-align: right;\">\n",
       "      <th></th>\n",
       "      <th>x</th>\n",
       "      <th>Z</th>\n",
       "      <th>t</th>\n",
       "      <th>Y</th>\n",
       "    </tr>\n",
       "  </thead>\n",
       "  <tbody>\n",
       "    <tr>\n",
       "      <th>0</th>\n",
       "      <td>0.259177</td>\n",
       "      <td>1.0</td>\n",
       "      <td>0.7</td>\n",
       "      <td>2.822658</td>\n",
       "    </tr>\n",
       "    <tr>\n",
       "      <th>1</th>\n",
       "      <td>-0.756381</td>\n",
       "      <td>0.0</td>\n",
       "      <td>0.5</td>\n",
       "      <td>1.817917</td>\n",
       "    </tr>\n",
       "    <tr>\n",
       "      <th>2</th>\n",
       "      <td>-0.538604</td>\n",
       "      <td>0.0</td>\n",
       "      <td>0.5</td>\n",
       "      <td>1.863401</td>\n",
       "    </tr>\n",
       "    <tr>\n",
       "      <th>3</th>\n",
       "      <td>-0.959017</td>\n",
       "      <td>0.0</td>\n",
       "      <td>0.5</td>\n",
       "      <td>1.748676</td>\n",
       "    </tr>\n",
       "    <tr>\n",
       "      <th>4</th>\n",
       "      <td>-0.834149</td>\n",
       "      <td>1.0</td>\n",
       "      <td>0.5</td>\n",
       "      <td>2.243528</td>\n",
       "    </tr>\n",
       "  </tbody>\n",
       "</table>\n",
       "</div>"
      ],
      "text/plain": [
       "          x    Z    t         Y\n",
       "0  0.259177  1.0  0.7  2.822658\n",
       "1 -0.756381  0.0  0.5  1.817917\n",
       "2 -0.538604  0.0  0.5  1.863401\n",
       "3 -0.959017  0.0  0.5  1.748676\n",
       "4 -0.834149  1.0  0.5  2.243528"
      ]
     },
     "execution_count": 116,
     "metadata": {},
     "output_type": "execute_result"
    }
   ],
   "source": [
    "df = pd.DataFrame({'x': x,\n",
    "                   'Z': Z,\n",
    "                   't': t,\n",
    "                   'Y': Y,\n",
    "                   })\n",
    "\n",
    "df.head()  # 先頭を表示"
   ]
  },
  {
   "cell_type": "code",
   "execution_count": 117,
   "id": "95e10639",
   "metadata": {},
   "outputs": [
    {
     "data": {
      "text/plain": [
       "<matplotlib.collections.PathCollection at 0x76d825d3e490>"
      ]
     },
     "execution_count": 117,
     "metadata": {},
     "output_type": "execute_result"
    },
    {
     "name": "stderr",
     "output_type": "stream",
     "text": [
      "findfont: Font family 'IPAexGothic' not found.\n",
      "findfont: Font family 'IPAexGothic' not found.\n",
      "findfont: Font family 'IPAexGothic' not found.\n",
      "findfont: Font family 'IPAexGothic' not found.\n",
      "findfont: Font family 'IPAexGothic' not found.\n",
      "findfont: Font family 'IPAexGothic' not found.\n",
      "findfont: Font family 'IPAexGothic' not found.\n",
      "findfont: Font family 'IPAexGothic' not found.\n",
      "findfont: Font family 'IPAexGothic' not found.\n",
      "findfont: Font family 'IPAexGothic' not found.\n",
      "findfont: Font family 'IPAexGothic' not found.\n",
      "findfont: Font family 'IPAexGothic' not found.\n",
      "findfont: Font family 'IPAexGothic' not found.\n",
      "findfont: Font family 'IPAexGothic' not found.\n",
      "findfont: Font family 'IPAexGothic' not found.\n",
      "findfont: Font family 'IPAexGothic' not found.\n",
      "findfont: Font family 'IPAexGothic' not found.\n",
      "findfont: Font family 'IPAexGothic' not found.\n",
      "findfont: Font family 'IPAexGothic' not found.\n",
      "findfont: Font family 'IPAexGothic' not found.\n",
      "findfont: Font family 'IPAexGothic' not found.\n",
      "findfont: Font family 'IPAexGothic' not found.\n",
      "findfont: Font family 'IPAexGothic' not found.\n",
      "findfont: Font family 'IPAexGothic' not found.\n",
      "findfont: Font family 'IPAexGothic' not found.\n",
      "findfont: Font family 'IPAexGothic' not found.\n",
      "findfont: Font family 'IPAexGothic' not found.\n",
      "findfont: Font family 'IPAexGothic' not found.\n",
      "findfont: Font family 'IPAexGothic' not found.\n",
      "findfont: Font family 'IPAexGothic' not found.\n",
      "findfont: Font family 'IPAexGothic' not found.\n",
      "findfont: Font family 'IPAexGothic' not found.\n",
      "findfont: Font family 'IPAexGothic' not found.\n",
      "findfont: Font family 'IPAexGothic' not found.\n",
      "findfont: Font family 'IPAexGothic' not found.\n",
      "findfont: Font family 'IPAexGothic' not found.\n",
      "findfont: Font family 'IPAexGothic' not found.\n",
      "findfont: Font family 'IPAexGothic' not found.\n",
      "findfont: Font family 'IPAexGothic' not found.\n",
      "findfont: Font family 'IPAexGothic' not found.\n",
      "findfont: Font family 'IPAexGothic' not found.\n",
      "findfont: Font family 'IPAexGothic' not found.\n",
      "findfont: Font family 'IPAexGothic' not found.\n",
      "findfont: Font family 'IPAexGothic' not found.\n",
      "findfont: Font family 'IPAexGothic' not found.\n",
      "findfont: Font family 'IPAexGothic' not found.\n",
      "findfont: Font family 'IPAexGothic' not found.\n",
      "findfont: Font family 'IPAexGothic' not found.\n",
      "findfont: Font family 'IPAexGothic' not found.\n",
      "findfont: Font family 'IPAexGothic' not found.\n",
      "findfont: Font family 'IPAexGothic' not found.\n",
      "findfont: Font family 'IPAexGothic' not found.\n",
      "findfont: Font family 'IPAexGothic' not found.\n",
      "findfont: Font family 'IPAexGothic' not found.\n",
      "findfont: Font family 'IPAexGothic' not found.\n",
      "findfont: Font family 'IPAexGothic' not found.\n",
      "findfont: Font family 'IPAexGothic' not found.\n",
      "findfont: Font family 'IPAexGothic' not found.\n",
      "findfont: Font family 'IPAexGothic' not found.\n",
      "findfont: Font family 'IPAexGothic' not found.\n",
      "findfont: Font family 'IPAexGothic' not found.\n",
      "findfont: Font family 'IPAexGothic' not found.\n",
      "findfont: Font family 'IPAexGothic' not found.\n",
      "findfont: Font family 'IPAexGothic' not found.\n",
      "findfont: Font family 'IPAexGothic' not found.\n",
      "findfont: Font family 'IPAexGothic' not found.\n",
      "findfont: Font family 'IPAexGothic' not found.\n",
      "findfont: Font family 'IPAexGothic' not found.\n",
      "findfont: Font family 'IPAexGothic' not found.\n",
      "findfont: Font family 'IPAexGothic' not found.\n",
      "findfont: Font family 'IPAexGothic' not found.\n",
      "findfont: Font family 'IPAexGothic' not found.\n",
      "findfont: Font family 'IPAexGothic' not found.\n",
      "findfont: Font family 'IPAexGothic' not found.\n"
     ]
    },
    {
     "data": {
      "image/png": "[encoded data removed]",
      "text/plain": [
       "<Figure size 640x480 with 1 Axes>"
      ]
     },
     "metadata": {},
     "output_type": "display_data"
    }
   ],
   "source": [
    "plt.scatter(x, Y)"
   ]
  },
  {
   "cell_type": "markdown",
   "id": "96e8df3f",
   "metadata": {},
   "source": [
    "## T-Learner"
   ]
  },
  {
   "cell_type": "markdown",
   "id": "5f8383ba",
   "metadata": {},
   "source": [
    "#### ・2つの機械学習モデルのこと ."
   ]
  },
  {
   "cell_type": "markdown",
   "id": "67bdd891",
   "metadata": {},
   "source": [
    "#### ・2つの機械学習モデルとは、介入を受けていない集団($Z^i=0$)と介入を受けた集団($Z^i=1$)のそれぞれについて、満足度$Y^i$を推定する、モデルを作る、ということを意味する ."
   ]
  },
  {
   "cell_type": "markdown",
   "id": "0818e2a9",
   "metadata": {},
   "source": [
    "#### 1つ目のモデルを$M_0$、2つ目のモデルを$M_1$とそれぞれ記載する ."
   ]
  },
  {
   "cell_type": "markdown",
   "id": "3baa1477",
   "metadata": {},
   "source": [
    "#### ・機械学習モデルの構築について、本書ではランダムフォレストを使用する ."
   ]
  },
  {
   "cell_type": "markdown",
   "id": "8807dabd",
   "metadata": {},
   "source": [
    "### データを2つに分離する"
   ]
  },
  {
   "cell_type": "code",
   "execution_count": 118,
   "id": "5fc16d7d",
   "metadata": {},
   "outputs": [],
   "source": [
    "# 集団を2つに分ける\n",
    "df_0 = df[df.Z == 0.0]  # 介入を受けていない集団\n",
    "df_1 = df[df.Z == 1.0]  # 介入を受けた集団"
   ]
  },
  {
   "cell_type": "markdown",
   "id": "cb2b73d6",
   "metadata": {},
   "source": [
    "### 満足度$Y^i$を回帰するモデルの学習と構築"
   ]
  },
  {
   "cell_type": "code",
   "execution_count": 119,
   "id": "4e91a86a",
   "metadata": {},
   "outputs": [
    {
     "name": "stderr",
     "output_type": "stream",
     "text": [
      "/home/taihei/因果分析ゼミ/myenv/lib/python3.13/site-packages/sklearn/base.py:1389: DataConversionWarning: A column-vector y was passed when a 1d array was expected. Please change the shape of y to (n_samples,), for example using ravel().\n",
      "  return fit_method(estimator, *args, **kwargs)\n",
      "/home/taihei/因果分析ゼミ/myenv/lib/python3.13/site-packages/sklearn/base.py:1389: DataConversionWarning: A column-vector y was passed when a 1d array was expected. Please change the shape of y to (n_samples,), for example using ravel().\n",
      "  return fit_method(estimator, *args, **kwargs)\n"
     ]
    },
    {
     "data": {
      "text/html": [
       "<style>#sk-container-id-11 {\n",
       "  /* Definition of color scheme common for light and dark mode */\n",
       "  --sklearn-color-text: #000;\n",
       "  --sklearn-color-text-muted: #666;\n",
       "  --sklearn-color-line: gray;\n",
       "  /* Definition of color scheme for unfitted estimators */\n",
       "  --sklearn-color-unfitted-level-0: #fff5e6;\n",
       "  --sklearn-color-unfitted-level-1: #f6e4d2;\n",
       "  --sklearn-color-unfitted-level-2: #ffe0b3;\n",
       "  --sklearn-color-unfitted-level-3: chocolate;\n",
       "  /* Definition of color scheme for fitted estimators */\n",
       "  --sklearn-color-fitted-level-0: #f0f8ff;\n",
       "  --sklearn-color-fitted-level-1: #d4ebff;\n",
       "  --sklearn-color-fitted-level-2: #b3dbfd;\n",
       "  --sklearn-color-fitted-level-3: cornflowerblue;\n",
       "\n",
       "  /* Specific color for light theme */\n",
       "  --sklearn-color-text-on-default-background: var(--sg-text-color, var(--theme-code-foreground, var(--jp-content-font-color1, black)));\n",
       "  --sklearn-color-background: var(--sg-background-color, var(--theme-background, var(--jp-layout-color0, white)));\n",
       "  --sklearn-color-border-box: var(--sg-text-color, var(--theme-code-foreground, var(--jp-content-font-color1, black)));\n",
       "  --sklearn-color-icon: #696969;\n",
       "\n",
       "  @media (prefers-color-scheme: dark) {\n",
       "    /* Redefinition of color scheme for dark theme */\n",
       "    --sklearn-color-text-on-default-background: var(--sg-text-color, var(--theme-code-foreground, var(--jp-content-font-color1, white)));\n",
       "    --sklearn-color-background: var(--sg-background-color, var(--theme-background, var(--jp-layout-color0, #111)));\n",
       "    --sklearn-color-border-box: var(--sg-text-color, var(--theme-code-foreground, var(--jp-content-font-color1, white)));\n",
       "    --sklearn-color-icon: #878787;\n",
       "  }\n",
       "}\n",
       "\n",
       "#sk-container-id-11 {\n",
       "  color: var(--sklearn-color-text);\n",
       "}\n",
       "\n",
       "#sk-container-id-11 pre {\n",
       "  padding: 0;\n",
       "}\n",
       "\n",
       "#sk-container-id-11 input.sk-hidden--visually {\n",
       "  border: 0;\n",
       "  clip: rect(1px 1px 1px 1px);\n",
       "  clip: rect(1px, 1px, 1px, 1px);\n",
       "  height: 1px;\n",
       "  margin: -1px;\n",
       "  overflow: hidden;\n",
       "  padding: 0;\n",
       "  position: absolute;\n",
       "  width: 1px;\n",
       "}\n",
       "\n",
       "#sk-container-id-11 div.sk-dashed-wrapped {\n",
       "  border: 1px dashed var(--sklearn-color-line);\n",
       "  margin: 0 0.4em 0.5em 0.4em;\n",
       "  box-sizing: border-box;\n",
       "  padding-bottom: 0.4em;\n",
       "  background-color: var(--sklearn-color-background);\n",
       "}\n",
       "\n",
       "#sk-container-id-11 div.sk-container {\n",
       "  /* jupyter's `normalize.less` sets `[hidden] { display: none; }`\n",
       "     but bootstrap.min.css set `[hidden] { display: none !important; }`\n",
       "     so we also need the `!important` here to be able to override the\n",
       "     default hidden behavior on the sphinx rendered scikit-learn.org.\n",
       "     See: https://github.com/scikit-learn/scikit-learn/issues/21755 */\n",
       "  display: inline-block !important;\n",
       "  position: relative;\n",
       "}\n",
       "\n",
       "#sk-container-id-11 div.sk-text-repr-fallback {\n",
       "  display: none;\n",
       "}\n",
       "\n",
       "div.sk-parallel-item,\n",
       "div.sk-serial,\n",
       "div.sk-item {\n",
       "  /* draw centered vertical line to link estimators */\n",
       "  background-image: linear-gradient(var(--sklearn-color-text-on-default-background), var(--sklearn-color-text-on-default-background));\n",
       "  background-size: 2px 100%;\n",
       "  background-repeat: no-repeat;\n",
       "  background-position: center center;\n",
       "}\n",
       "\n",
       "/* Parallel-specific style estimator block */\n",
       "\n",
       "#sk-container-id-11 div.sk-parallel-item::after {\n",
       "  content: \"\";\n",
       "  width: 100%;\n",
       "  border-bottom: 2px solid var(--sklearn-color-text-on-default-background);\n",
       "  flex-grow: 1;\n",
       "}\n",
       "\n",
       "#sk-container-id-11 div.sk-parallel {\n",
       "  display: flex;\n",
       "  align-items: stretch;\n",
       "  justify-content: center;\n",
       "  background-color: var(--sklearn-color-background);\n",
       "  position: relative;\n",
       "}\n",
       "\n",
       "#sk-container-id-11 div.sk-parallel-item {\n",
       "  display: flex;\n",
       "  flex-direction: column;\n",
       "}\n",
       "\n",
       "#sk-container-id-11 div.sk-parallel-item:first-child::after {\n",
       "  align-self: flex-end;\n",
       "  width: 50%;\n",
       "}\n",
       "\n",
       "#sk-container-id-11 div.sk-parallel-item:last-child::after {\n",
       "  align-self: flex-start;\n",
       "  width: 50%;\n",
       "}\n",
       "\n",
       "#sk-container-id-11 div.sk-parallel-item:only-child::after {\n",
       "  width: 0;\n",
       "}\n",
       "\n",
       "/* Serial-specific style estimator block */\n",
       "\n",
       "#sk-container-id-11 div.sk-serial {\n",
       "  display: flex;\n",
       "  flex-direction: column;\n",
       "  align-items: center;\n",
       "  background-color: var(--sklearn-color-background);\n",
       "  padding-right: 1em;\n",
       "  padding-left: 1em;\n",
       "}\n",
       "\n",
       "\n",
       "/* Toggleable style: style used for estimator/Pipeline/ColumnTransformer box that is\n",
       "clickable and can be expanded/collapsed.\n",
       "- Pipeline and ColumnTransformer use this feature and define the default style\n",
       "- Estimators will overwrite some part of the style using the `sk-estimator` class\n",
       "*/\n",
       "\n",
       "/* Pipeline and ColumnTransformer style (default) */\n",
       "\n",
       "#sk-container-id-11 div.sk-toggleable {\n",
       "  /* Default theme specific background. It is overwritten whether we have a\n",
       "  specific estimator or a Pipeline/ColumnTransformer */\n",
       "  background-color: var(--sklearn-color-background);\n",
       "}\n",
       "\n",
       "/* Toggleable label */\n",
       "#sk-container-id-11 label.sk-toggleable__label {\n",
       "  cursor: pointer;\n",
       "  display: flex;\n",
       "  width: 100%;\n",
       "  margin-bottom: 0;\n",
       "  padding: 0.5em;\n",
       "  box-sizing: border-box;\n",
       "  text-align: center;\n",
       "  align-items: start;\n",
       "  justify-content: space-between;\n",
       "  gap: 0.5em;\n",
       "}\n",
       "\n",
       "#sk-container-id-11 label.sk-toggleable__label .caption {\n",
       "  font-size: 0.6rem;\n",
       "  font-weight: lighter;\n",
       "  color: var(--sklearn-color-text-muted);\n",
       "}\n",
       "\n",
       "#sk-container-id-11 label.sk-toggleable__label-arrow:before {\n",
       "  /* Arrow on the left of the label */\n",
       "  content: \"▸\";\n",
       "  float: left;\n",
       "  margin-right: 0.25em;\n",
       "  color: var(--sklearn-color-icon);\n",
       "}\n",
       "\n",
       "#sk-container-id-11 label.sk-toggleable__label-arrow:hover:before {\n",
       "  color: var(--sklearn-color-text);\n",
       "}\n",
       "\n",
       "/* Toggleable content - dropdown */\n",
       "\n",
       "#sk-container-id-11 div.sk-toggleable__content {\n",
       "  max-height: 0;\n",
       "  max-width: 0;\n",
       "  overflow: hidden;\n",
       "  text-align: left;\n",
       "  /* unfitted */\n",
       "  background-color: var(--sklearn-color-unfitted-level-0);\n",
       "}\n",
       "\n",
       "#sk-container-id-11 div.sk-toggleable__content.fitted {\n",
       "  /* fitted */\n",
       "  background-color: var(--sklearn-color-fitted-level-0);\n",
       "}\n",
       "\n",
       "#sk-container-id-11 div.sk-toggleable__content pre {\n",
       "  margin: 0.2em;\n",
       "  border-radius: 0.25em;\n",
       "  color: var(--sklearn-color-text);\n",
       "  /* unfitted */\n",
       "  background-color: var(--sklearn-color-unfitted-level-0);\n",
       "}\n",
       "\n",
       "#sk-container-id-11 div.sk-toggleable__content.fitted pre {\n",
       "  /* unfitted */\n",
       "  background-color: var(--sklearn-color-fitted-level-0);\n",
       "}\n",
       "\n",
       "#sk-container-id-11 input.sk-toggleable__control:checked~div.sk-toggleable__content {\n",
       "  /* Expand drop-down */\n",
       "  max-height: 200px;\n",
       "  max-width: 100%;\n",
       "  overflow: auto;\n",
       "}\n",
       "\n",
       "#sk-container-id-11 input.sk-toggleable__control:checked~label.sk-toggleable__label-arrow:before {\n",
       "  content: \"▾\";\n",
       "}\n",
       "\n",
       "/* Pipeline/ColumnTransformer-specific style */\n",
       "\n",
       "#sk-container-id-11 div.sk-label input.sk-toggleable__control:checked~label.sk-toggleable__label {\n",
       "  color: var(--sklearn-color-text);\n",
       "  background-color: var(--sklearn-color-unfitted-level-2);\n",
       "}\n",
       "\n",
       "#sk-container-id-11 div.sk-label.fitted input.sk-toggleable__control:checked~label.sk-toggleable__label {\n",
       "  background-color: var(--sklearn-color-fitted-level-2);\n",
       "}\n",
       "\n",
       "/* Estimator-specific style */\n",
       "\n",
       "/* Colorize estimator box */\n",
       "#sk-container-id-11 div.sk-estimator input.sk-toggleable__control:checked~label.sk-toggleable__label {\n",
       "  /* unfitted */\n",
       "  background-color: var(--sklearn-color-unfitted-level-2);\n",
       "}\n",
       "\n",
       "#sk-container-id-11 div.sk-estimator.fitted input.sk-toggleable__control:checked~label.sk-toggleable__label {\n",
       "  /* fitted */\n",
       "  background-color: var(--sklearn-color-fitted-level-2);\n",
       "}\n",
       "\n",
       "#sk-container-id-11 div.sk-label label.sk-toggleable__label,\n",
       "#sk-container-id-11 div.sk-label label {\n",
       "  /* The background is the default theme color */\n",
       "  color: var(--sklearn-color-text-on-default-background);\n",
       "}\n",
       "\n",
       "/* On hover, darken the color of the background */\n",
       "#sk-container-id-11 div.sk-label:hover label.sk-toggleable__label {\n",
       "  color: var(--sklearn-color-text);\n",
       "  background-color: var(--sklearn-color-unfitted-level-2);\n",
       "}\n",
       "\n",
       "/* Label box, darken color on hover, fitted */\n",
       "#sk-container-id-11 div.sk-label.fitted:hover label.sk-toggleable__label.fitted {\n",
       "  color: var(--sklearn-color-text);\n",
       "  background-color: var(--sklearn-color-fitted-level-2);\n",
       "}\n",
       "\n",
       "/* Estimator label */\n",
       "\n",
       "#sk-container-id-11 div.sk-label label {\n",
       "  font-family: monospace;\n",
       "  font-weight: bold;\n",
       "  display: inline-block;\n",
       "  line-height: 1.2em;\n",
       "}\n",
       "\n",
       "#sk-container-id-11 div.sk-label-container {\n",
       "  text-align: center;\n",
       "}\n",
       "\n",
       "/* Estimator-specific */\n",
       "#sk-container-id-11 div.sk-estimator {\n",
       "  font-family: monospace;\n",
       "  border: 1px dotted var(--sklearn-color-border-box);\n",
       "  border-radius: 0.25em;\n",
       "  box-sizing: border-box;\n",
       "  margin-bottom: 0.5em;\n",
       "  /* unfitted */\n",
       "  background-color: var(--sklearn-color-unfitted-level-0);\n",
       "}\n",
       "\n",
       "#sk-container-id-11 div.sk-estimator.fitted {\n",
       "  /* fitted */\n",
       "  background-color: var(--sklearn-color-fitted-level-0);\n",
       "}\n",
       "\n",
       "/* on hover */\n",
       "#sk-container-id-11 div.sk-estimator:hover {\n",
       "  /* unfitted */\n",
       "  background-color: var(--sklearn-color-unfitted-level-2);\n",
       "}\n",
       "\n",
       "#sk-container-id-11 div.sk-estimator.fitted:hover {\n",
       "  /* fitted */\n",
       "  background-color: var(--sklearn-color-fitted-level-2);\n",
       "}\n",
       "\n",
       "/* Specification for estimator info (e.g. \"i\" and \"?\") */\n",
       "\n",
       "/* Common style for \"i\" and \"?\" */\n",
       "\n",
       ".sk-estimator-doc-link,\n",
       "a:link.sk-estimator-doc-link,\n",
       "a:visited.sk-estimator-doc-link {\n",
       "  float: right;\n",
       "  font-size: smaller;\n",
       "  line-height: 1em;\n",
       "  font-family: monospace;\n",
       "  background-color: var(--sklearn-color-background);\n",
       "  border-radius: 1em;\n",
       "  height: 1em;\n",
       "  width: 1em;\n",
       "  text-decoration: none !important;\n",
       "  margin-left: 0.5em;\n",
       "  text-align: center;\n",
       "  /* unfitted */\n",
       "  border: var(--sklearn-color-unfitted-level-1) 1pt solid;\n",
       "  color: var(--sklearn-color-unfitted-level-1);\n",
       "}\n",
       "\n",
       ".sk-estimator-doc-link.fitted,\n",
       "a:link.sk-estimator-doc-link.fitted,\n",
       "a:visited.sk-estimator-doc-link.fitted {\n",
       "  /* fitted */\n",
       "  border: var(--sklearn-color-fitted-level-1) 1pt solid;\n",
       "  color: var(--sklearn-color-fitted-level-1);\n",
       "}\n",
       "\n",
       "/* On hover */\n",
       "div.sk-estimator:hover .sk-estimator-doc-link:hover,\n",
       ".sk-estimator-doc-link:hover,\n",
       "div.sk-label-container:hover .sk-estimator-doc-link:hover,\n",
       ".sk-estimator-doc-link:hover {\n",
       "  /* unfitted */\n",
       "  background-color: var(--sklearn-color-unfitted-level-3);\n",
       "  color: var(--sklearn-color-background);\n",
       "  text-decoration: none;\n",
       "}\n",
       "\n",
       "div.sk-estimator.fitted:hover .sk-estimator-doc-link.fitted:hover,\n",
       ".sk-estimator-doc-link.fitted:hover,\n",
       "div.sk-label-container:hover .sk-estimator-doc-link.fitted:hover,\n",
       ".sk-estimator-doc-link.fitted:hover {\n",
       "  /* fitted */\n",
       "  background-color: var(--sklearn-color-fitted-level-3);\n",
       "  color: var(--sklearn-color-background);\n",
       "  text-decoration: none;\n",
       "}\n",
       "\n",
       "/* Span, style for the box shown on hovering the info icon */\n",
       ".sk-estimator-doc-link span {\n",
       "  display: none;\n",
       "  z-index: 9999;\n",
       "  position: relative;\n",
       "  font-weight: normal;\n",
       "  right: .2ex;\n",
       "  padding: .5ex;\n",
       "  margin: .5ex;\n",
       "  width: min-content;\n",
       "  min-width: 20ex;\n",
       "  max-width: 50ex;\n",
       "  color: var(--sklearn-color-text);\n",
       "  box-shadow: 2pt 2pt 4pt #999;\n",
       "  /* unfitted */\n",
       "  background: var(--sklearn-color-unfitted-level-0);\n",
       "  border: .5pt solid var(--sklearn-color-unfitted-level-3);\n",
       "}\n",
       "\n",
       ".sk-estimator-doc-link.fitted span {\n",
       "  /* fitted */\n",
       "  background: var(--sklearn-color-fitted-level-0);\n",
       "  border: var(--sklearn-color-fitted-level-3);\n",
       "}\n",
       "\n",
       ".sk-estimator-doc-link:hover span {\n",
       "  display: block;\n",
       "}\n",
       "\n",
       "/* \"?\"-specific style due to the `<a>` HTML tag */\n",
       "\n",
       "#sk-container-id-11 a.estimator_doc_link {\n",
       "  float: right;\n",
       "  font-size: 1rem;\n",
       "  line-height: 1em;\n",
       "  font-family: monospace;\n",
       "  background-color: var(--sklearn-color-background);\n",
       "  border-radius: 1rem;\n",
       "  height: 1rem;\n",
       "  width: 1rem;\n",
       "  text-decoration: none;\n",
       "  /* unfitted */\n",
       "  color: var(--sklearn-color-unfitted-level-1);\n",
       "  border: var(--sklearn-color-unfitted-level-1) 1pt solid;\n",
       "}\n",
       "\n",
       "#sk-container-id-11 a.estimator_doc_link.fitted {\n",
       "  /* fitted */\n",
       "  border: var(--sklearn-color-fitted-level-1) 1pt solid;\n",
       "  color: var(--sklearn-color-fitted-level-1);\n",
       "}\n",
       "\n",
       "/* On hover */\n",
       "#sk-container-id-11 a.estimator_doc_link:hover {\n",
       "  /* unfitted */\n",
       "  background-color: var(--sklearn-color-unfitted-level-3);\n",
       "  color: var(--sklearn-color-background);\n",
       "  text-decoration: none;\n",
       "}\n",
       "\n",
       "#sk-container-id-11 a.estimator_doc_link.fitted:hover {\n",
       "  /* fitted */\n",
       "  background-color: var(--sklearn-color-fitted-level-3);\n",
       "}\n",
       "</style><div id=\"sk-container-id-11\" class=\"sk-top-container\"><div class=\"sk-text-repr-fallback\"><pre>RandomForestRegressor(max_depth=3)</pre><b>In a Jupyter environment, please rerun this cell to show the HTML representation or trust the notebook. <br />On GitHub, the HTML representation is unable to render, please try loading this page with nbviewer.org.</b></div><div class=\"sk-container\" hidden><div class=\"sk-item\"><div class=\"sk-estimator fitted sk-toggleable\"><input class=\"sk-toggleable__control sk-hidden--visually\" id=\"sk-estimator-id-11\" type=\"checkbox\" checked><label for=\"sk-estimator-id-11\" class=\"sk-toggleable__label fitted sk-toggleable__label-arrow\"><div><div>RandomForestRegressor</div></div><div><a class=\"sk-estimator-doc-link fitted\" rel=\"noreferrer\" target=\"_blank\" href=\"https://scikit-learn.org/1.6/modules/generated/sklearn.ensemble.RandomForestRegressor.html\">?<span>Documentation for RandomForestRegressor</span></a><span class=\"sk-estimator-doc-link fitted\">i<span>Fitted</span></span></div></label><div class=\"sk-toggleable__content fitted\"><pre>RandomForestRegressor(max_depth=3)</pre></div> </div></div></div></div>"
      ],
      "text/plain": [
       "RandomForestRegressor(max_depth=3)"
      ]
     },
     "execution_count": 119,
     "metadata": {},
     "output_type": "execute_result"
    }
   ],
   "source": [
    "# ランダムフォレストモデルを作成\n",
    "from sklearn.ensemble import RandomForestRegressor\n",
    "\n",
    "# 介入を受けていないモデル\n",
    "reg_0 = RandomForestRegressor(max_depth=3)\n",
    "reg_0.fit(df_0[[\"x\"]], df_0[[\"Y\"]])\n",
    "\n",
    "# 介入を受けたモデル\n",
    "reg_1 = RandomForestRegressor(max_depth=3)\n",
    "reg_1.fit(df_1[[\"x\"]], df_1[[\"Y\"]])"
   ]
  },
  {
   "cell_type": "markdown",
   "id": "45f18df7",
   "metadata": {},
   "source": [
    "#### ・本節の実装では説明を簡素化するために、検証用データを作成せずに、適当に木の深さを3に設定している ."
   ]
  },
  {
   "cell_type": "markdown",
   "id": "8a7936ea",
   "metadata": {},
   "source": [
    "#### 本来は木の深さが最適な値となるように、検証用データと訓練データに分割し、比較して決定する ."
   ]
  },
  {
   "cell_type": "markdown",
   "id": "4d9e5519",
   "metadata": {},
   "source": [
    "#### ・次に2つのモデルで各人の処置効果(ITE)を計算し、全員分を平均することで、ATEを求める ."
   ]
  },
  {
   "cell_type": "code",
   "execution_count": 120,
   "id": "981dc8aa",
   "metadata": {},
   "outputs": [
    {
     "name": "stdout",
     "output_type": "stream",
     "text": [
      "ATE： 0.6934822266783499\n"
     ]
    }
   ],
   "source": [
    "# ATEを求める\n",
    "mu_0 = reg_0.predict(df[[\"x\"]])\n",
    "mu_1 = reg_1.predict(df[[\"x\"]])\n",
    "\n",
    "ATE = (mu_1-mu_0).mean()\n",
    "print(\"ATE：\", ATE)"
   ]
  },
  {
   "cell_type": "markdown",
   "id": "4cd613f7",
   "metadata": {},
   "source": [
    "#### ・続いて処置群における平均処置効果ATTと、対照群における平均処置効果ATUを求める ."
   ]
  },
  {
   "cell_type": "markdown",
   "id": "0fbd3729",
   "metadata": {},
   "source": [
    "#### それぞれの処置効果を求めるのに必要な反実仮想の結果を、構築した回帰モデルから計算する ."
   ]
  },
  {
   "cell_type": "code",
   "execution_count": 121,
   "id": "f1ec3288",
   "metadata": {},
   "outputs": [
    {
     "name": "stdout",
     "output_type": "stream",
     "text": [
      "ATT： 0.7767712236644637\n",
      "ATU： 0.5970719136566836\n"
     ]
    }
   ],
   "source": [
    "# 処置群における平均処置効果ATTと、対照群における平均処置効果ATU\n",
    "ATT = df_1[\"Y\"] - reg_0.predict(df_1[[\"x\"]])\n",
    "ATU = reg_1.predict(df_0[[\"x\"]]) - df_0[\"Y\"]\n",
    "\n",
    "print(\"ATT：\", ATT.mean())\n",
    "print(\"ATU：\", ATU.mean())"
   ]
  },
  {
   "cell_type": "markdown",
   "id": "209228fe",
   "metadata": {},
   "source": [
    "#### ・最後に、推定された介入効果(仮に介入を受けた場合の効果)を各人ごとに求める ."
   ]
  },
  {
   "cell_type": "code",
   "execution_count": 122,
   "id": "02d01054",
   "metadata": {},
   "outputs": [
    {
     "data": {
      "text/plain": [
       "[<matplotlib.lines.Line2D at 0x76d825db3250>]"
      ]
     },
     "execution_count": 122,
     "metadata": {},
     "output_type": "execute_result"
    },
    {
     "name": "stderr",
     "output_type": "stream",
     "text": [
      "findfont: Font family 'IPAexGothic' not found.\n",
      "findfont: Font family 'IPAexGothic' not found.\n",
      "findfont: Font family 'IPAexGothic' not found.\n",
      "findfont: Font family 'IPAexGothic' not found.\n",
      "findfont: Font family 'IPAexGothic' not found.\n",
      "findfont: Font family 'IPAexGothic' not found.\n",
      "findfont: Font family 'IPAexGothic' not found.\n",
      "findfont: Font family 'IPAexGothic' not found.\n",
      "findfont: Font family 'IPAexGothic' not found.\n",
      "findfont: Font family 'IPAexGothic' not found.\n",
      "findfont: Font family 'IPAexGothic' not found.\n",
      "findfont: Font family 'IPAexGothic' not found.\n",
      "findfont: Font family 'IPAexGothic' not found.\n",
      "findfont: Font family 'IPAexGothic' not found.\n",
      "findfont: Font family 'IPAexGothic' not found.\n",
      "findfont: Font family 'IPAexGothic' not found.\n",
      "findfont: Font family 'IPAexGothic' not found.\n",
      "findfont: Font family 'IPAexGothic' not found.\n",
      "findfont: Font family 'IPAexGothic' not found.\n",
      "findfont: Font family 'IPAexGothic' not found.\n",
      "findfont: Font family 'IPAexGothic' not found.\n",
      "findfont: Font family 'IPAexGothic' not found.\n",
      "findfont: Font family 'IPAexGothic' not found.\n",
      "findfont: Font family 'IPAexGothic' not found.\n",
      "findfont: Font family 'IPAexGothic' not found.\n",
      "findfont: Font family 'IPAexGothic' not found.\n",
      "findfont: Font family 'IPAexGothic' not found.\n",
      "findfont: Font family 'IPAexGothic' not found.\n",
      "findfont: Font family 'IPAexGothic' not found.\n",
      "findfont: Font family 'IPAexGothic' not found.\n",
      "findfont: Font family 'IPAexGothic' not found.\n",
      "findfont: Font family 'IPAexGothic' not found.\n",
      "findfont: Font family 'IPAexGothic' not found.\n",
      "findfont: Font family 'IPAexGothic' not found.\n",
      "findfont: Font family 'IPAexGothic' not found.\n",
      "findfont: Font family 'IPAexGothic' not found.\n",
      "findfont: Font family 'IPAexGothic' not found.\n",
      "findfont: Font family 'IPAexGothic' not found.\n",
      "findfont: Font family 'IPAexGothic' not found.\n",
      "findfont: Font family 'IPAexGothic' not found.\n",
      "findfont: Font family 'IPAexGothic' not found.\n",
      "findfont: Font family 'IPAexGothic' not found.\n",
      "findfont: Font family 'IPAexGothic' not found.\n",
      "findfont: Font family 'IPAexGothic' not found.\n",
      "findfont: Font family 'IPAexGothic' not found.\n",
      "findfont: Font family 'IPAexGothic' not found.\n",
      "findfont: Font family 'IPAexGothic' not found.\n",
      "findfont: Font family 'IPAexGothic' not found.\n",
      "findfont: Font family 'IPAexGothic' not found.\n",
      "findfont: Font family 'IPAexGothic' not found.\n",
      "findfont: Font family 'IPAexGothic' not found.\n",
      "findfont: Font family 'IPAexGothic' not found.\n",
      "findfont: Font family 'IPAexGothic' not found.\n",
      "findfont: Font family 'IPAexGothic' not found.\n",
      "findfont: Font family 'IPAexGothic' not found.\n",
      "findfont: Font family 'IPAexGothic' not found.\n",
      "findfont: Font family 'IPAexGothic' not found.\n",
      "findfont: Font family 'IPAexGothic' not found.\n",
      "findfont: Font family 'IPAexGothic' not found.\n",
      "findfont: Font family 'IPAexGothic' not found.\n",
      "findfont: Font family 'IPAexGothic' not found.\n",
      "findfont: Font family 'IPAexGothic' not found.\n",
      "findfont: Font family 'IPAexGothic' not found.\n",
      "findfont: Font family 'IPAexGothic' not found.\n",
      "findfont: Font family 'IPAexGothic' not found.\n",
      "findfont: Font family 'IPAexGothic' not found.\n",
      "findfont: Font family 'IPAexGothic' not found.\n",
      "findfont: Font family 'IPAexGothic' not found.\n",
      "findfont: Font family 'IPAexGothic' not found.\n",
      "findfont: Font family 'IPAexGothic' not found.\n"
     ]
    },
    {
     "data": {
      "image/png": "[encoded data removed]",
      "text/plain": [
       "<Figure size 640x480 with 1 Axes>"
      ]
     },
     "metadata": {},
     "output_type": "display_data"
    }
   ],
   "source": [
    "# 推定された治療効果を各人ごとに求めます\n",
    "t_estimated = reg_1.predict(\n",
    "    df[[\"x\"]]) - reg_0.predict(df[[\"x\"]])\n",
    "plt.scatter(df[[\"x\"]], t_estimated,\n",
    "            label=\"estimated_treatment-effect\")\n",
    "\n",
    "# 正解のグラフを作成\n",
    "x_index = np.arange(-1, 1, 0.01)\n",
    "t_ans = np.zeros(len(x_index))\n",
    "for i in range(len(x_index)):\n",
    "    if x_index[i] < 0:\n",
    "        t_ans[i] = 0.5\n",
    "    elif x_index[i] >= 0 and x_index[i] < 0.5:\n",
    "        t_ans[i] = 0.7\n",
    "    elif x_index[i] >= 0.5:\n",
    "        t_ans[i] = 1.0\n",
    "\n",
    "# 正解を描画\n",
    "plt.plot(x_index, t_ans, color='black', ls='--', label='Baseline')"
   ]
  },
  {
   "cell_type": "markdown",
   "id": "0cb4c2b3",
   "metadata": {},
   "source": [
    "#### ・上の図を確認すると、[上司の部下育成の熱心さ]変数$x$に応じて、処置の効果(研修効果)が変化するという研修効果をきちんと推定できていることが読み取れる ."
   ]
  },
  {
   "cell_type": "markdown",
   "id": "642a7e17",
   "metadata": {},
   "source": [
    "#### 図の点線が正解の研修効果で、丸点が各人に対する研修効果(処置効果)の推定結果である ."
   ]
  },
  {
   "cell_type": "markdown",
   "id": "3d68101d",
   "metadata": {},
   "source": [
    "## S-Learner"
   ]
  },
  {
   "cell_type": "markdown",
   "id": "5d6c3e7b",
   "metadata": {},
   "source": [
    "#### ・T-Learnerとは異なり、1つのモデルのみを使用する .　そのため、処置を示す変数$Z$もモデルの中に説明変数として使用する ."
   ]
  },
  {
   "cell_type": "markdown",
   "id": "41b9c585",
   "metadata": {},
   "source": [
    "#### ・今回はランダムフォレストを使用して、S-Learnerを実現する .　S-Learnerの実装もT-Learnerのとき同様に、説明の簡易化のためデータは検証データに分けず、木の深さを適当に4に設定している ."
   ]
  },
  {
   "cell_type": "code",
   "execution_count": 123,
   "id": "e8f6495d",
   "metadata": {},
   "outputs": [
    {
     "name": "stderr",
     "output_type": "stream",
     "text": [
      "/home/taihei/因果分析ゼミ/myenv/lib/python3.13/site-packages/sklearn/base.py:1389: DataConversionWarning: A column-vector y was passed when a 1d array was expected. Please change the shape of y to (n_samples,), for example using ravel().\n",
      "  return fit_method(estimator, *args, **kwargs)\n"
     ]
    },
    {
     "data": {
      "text/html": [
       "<style>#sk-container-id-12 {\n",
       "  /* Definition of color scheme common for light and dark mode */\n",
       "  --sklearn-color-text: #000;\n",
       "  --sklearn-color-text-muted: #666;\n",
       "  --sklearn-color-line: gray;\n",
       "  /* Definition of color scheme for unfitted estimators */\n",
       "  --sklearn-color-unfitted-level-0: #fff5e6;\n",
       "  --sklearn-color-unfitted-level-1: #f6e4d2;\n",
       "  --sklearn-color-unfitted-level-2: #ffe0b3;\n",
       "  --sklearn-color-unfitted-level-3: chocolate;\n",
       "  /* Definition of color scheme for fitted estimators */\n",
       "  --sklearn-color-fitted-level-0: #f0f8ff;\n",
       "  --sklearn-color-fitted-level-1: #d4ebff;\n",
       "  --sklearn-color-fitted-level-2: #b3dbfd;\n",
       "  --sklearn-color-fitted-level-3: cornflowerblue;\n",
       "\n",
       "  /* Specific color for light theme */\n",
       "  --sklearn-color-text-on-default-background: var(--sg-text-color, var(--theme-code-foreground, var(--jp-content-font-color1, black)));\n",
       "  --sklearn-color-background: var(--sg-background-color, var(--theme-background, var(--jp-layout-color0, white)));\n",
       "  --sklearn-color-border-box: var(--sg-text-color, var(--theme-code-foreground, var(--jp-content-font-color1, black)));\n",
       "  --sklearn-color-icon: #696969;\n",
       "\n",
       "  @media (prefers-color-scheme: dark) {\n",
       "    /* Redefinition of color scheme for dark theme */\n",
       "    --sklearn-color-text-on-default-background: var(--sg-text-color, var(--theme-code-foreground, var(--jp-content-font-color1, white)));\n",
       "    --sklearn-color-background: var(--sg-background-color, var(--theme-background, var(--jp-layout-color0, #111)));\n",
       "    --sklearn-color-border-box: var(--sg-text-color, var(--theme-code-foreground, var(--jp-content-font-color1, white)));\n",
       "    --sklearn-color-icon: #878787;\n",
       "  }\n",
       "}\n",
       "\n",
       "#sk-container-id-12 {\n",
       "  color: var(--sklearn-color-text);\n",
       "}\n",
       "\n",
       "#sk-container-id-12 pre {\n",
       "  padding: 0;\n",
       "}\n",
       "\n",
       "#sk-container-id-12 input.sk-hidden--visually {\n",
       "  border: 0;\n",
       "  clip: rect(1px 1px 1px 1px);\n",
       "  clip: rect(1px, 1px, 1px, 1px);\n",
       "  height: 1px;\n",
       "  margin: -1px;\n",
       "  overflow: hidden;\n",
       "  padding: 0;\n",
       "  position: absolute;\n",
       "  width: 1px;\n",
       "}\n",
       "\n",
       "#sk-container-id-12 div.sk-dashed-wrapped {\n",
       "  border: 1px dashed var(--sklearn-color-line);\n",
       "  margin: 0 0.4em 0.5em 0.4em;\n",
       "  box-sizing: border-box;\n",
       "  padding-bottom: 0.4em;\n",
       "  background-color: var(--sklearn-color-background);\n",
       "}\n",
       "\n",
       "#sk-container-id-12 div.sk-container {\n",
       "  /* jupyter's `normalize.less` sets `[hidden] { display: none; }`\n",
       "     but bootstrap.min.css set `[hidden] { display: none !important; }`\n",
       "     so we also need the `!important` here to be able to override the\n",
       "     default hidden behavior on the sphinx rendered scikit-learn.org.\n",
       "     See: https://github.com/scikit-learn/scikit-learn/issues/21755 */\n",
       "  display: inline-block !important;\n",
       "  position: relative;\n",
       "}\n",
       "\n",
       "#sk-container-id-12 div.sk-text-repr-fallback {\n",
       "  display: none;\n",
       "}\n",
       "\n",
       "div.sk-parallel-item,\n",
       "div.sk-serial,\n",
       "div.sk-item {\n",
       "  /* draw centered vertical line to link estimators */\n",
       "  background-image: linear-gradient(var(--sklearn-color-text-on-default-background), var(--sklearn-color-text-on-default-background));\n",
       "  background-size: 2px 100%;\n",
       "  background-repeat: no-repeat;\n",
       "  background-position: center center;\n",
       "}\n",
       "\n",
       "/* Parallel-specific style estimator block */\n",
       "\n",
       "#sk-container-id-12 div.sk-parallel-item::after {\n",
       "  content: \"\";\n",
       "  width: 100%;\n",
       "  border-bottom: 2px solid var(--sklearn-color-text-on-default-background);\n",
       "  flex-grow: 1;\n",
       "}\n",
       "\n",
       "#sk-container-id-12 div.sk-parallel {\n",
       "  display: flex;\n",
       "  align-items: stretch;\n",
       "  justify-content: center;\n",
       "  background-color: var(--sklearn-color-background);\n",
       "  position: relative;\n",
       "}\n",
       "\n",
       "#sk-container-id-12 div.sk-parallel-item {\n",
       "  display: flex;\n",
       "  flex-direction: column;\n",
       "}\n",
       "\n",
       "#sk-container-id-12 div.sk-parallel-item:first-child::after {\n",
       "  align-self: flex-end;\n",
       "  width: 50%;\n",
       "}\n",
       "\n",
       "#sk-container-id-12 div.sk-parallel-item:last-child::after {\n",
       "  align-self: flex-start;\n",
       "  width: 50%;\n",
       "}\n",
       "\n",
       "#sk-container-id-12 div.sk-parallel-item:only-child::after {\n",
       "  width: 0;\n",
       "}\n",
       "\n",
       "/* Serial-specific style estimator block */\n",
       "\n",
       "#sk-container-id-12 div.sk-serial {\n",
       "  display: flex;\n",
       "  flex-direction: column;\n",
       "  align-items: center;\n",
       "  background-color: var(--sklearn-color-background);\n",
       "  padding-right: 1em;\n",
       "  padding-left: 1em;\n",
       "}\n",
       "\n",
       "\n",
       "/* Toggleable style: style used for estimator/Pipeline/ColumnTransformer box that is\n",
       "clickable and can be expanded/collapsed.\n",
       "- Pipeline and ColumnTransformer use this feature and define the default style\n",
       "- Estimators will overwrite some part of the style using the `sk-estimator` class\n",
       "*/\n",
       "\n",
       "/* Pipeline and ColumnTransformer style (default) */\n",
       "\n",
       "#sk-container-id-12 div.sk-toggleable {\n",
       "  /* Default theme specific background. It is overwritten whether we have a\n",
       "  specific estimator or a Pipeline/ColumnTransformer */\n",
       "  background-color: var(--sklearn-color-background);\n",
       "}\n",
       "\n",
       "/* Toggleable label */\n",
       "#sk-container-id-12 label.sk-toggleable__label {\n",
       "  cursor: pointer;\n",
       "  display: flex;\n",
       "  width: 100%;\n",
       "  margin-bottom: 0;\n",
       "  padding: 0.5em;\n",
       "  box-sizing: border-box;\n",
       "  text-align: center;\n",
       "  align-items: start;\n",
       "  justify-content: space-between;\n",
       "  gap: 0.5em;\n",
       "}\n",
       "\n",
       "#sk-container-id-12 label.sk-toggleable__label .caption {\n",
       "  font-size: 0.6rem;\n",
       "  font-weight: lighter;\n",
       "  color: var(--sklearn-color-text-muted);\n",
       "}\n",
       "\n",
       "#sk-container-id-12 label.sk-toggleable__label-arrow:before {\n",
       "  /* Arrow on the left of the label */\n",
       "  content: \"▸\";\n",
       "  float: left;\n",
       "  margin-right: 0.25em;\n",
       "  color: var(--sklearn-color-icon);\n",
       "}\n",
       "\n",
       "#sk-container-id-12 label.sk-toggleable__label-arrow:hover:before {\n",
       "  color: var(--sklearn-color-text);\n",
       "}\n",
       "\n",
       "/* Toggleable content - dropdown */\n",
       "\n",
       "#sk-container-id-12 div.sk-toggleable__content {\n",
       "  max-height: 0;\n",
       "  max-width: 0;\n",
       "  overflow: hidden;\n",
       "  text-align: left;\n",
       "  /* unfitted */\n",
       "  background-color: var(--sklearn-color-unfitted-level-0);\n",
       "}\n",
       "\n",
       "#sk-container-id-12 div.sk-toggleable__content.fitted {\n",
       "  /* fitted */\n",
       "  background-color: var(--sklearn-color-fitted-level-0);\n",
       "}\n",
       "\n",
       "#sk-container-id-12 div.sk-toggleable__content pre {\n",
       "  margin: 0.2em;\n",
       "  border-radius: 0.25em;\n",
       "  color: var(--sklearn-color-text);\n",
       "  /* unfitted */\n",
       "  background-color: var(--sklearn-color-unfitted-level-0);\n",
       "}\n",
       "\n",
       "#sk-container-id-12 div.sk-toggleable__content.fitted pre {\n",
       "  /* unfitted */\n",
       "  background-color: var(--sklearn-color-fitted-level-0);\n",
       "}\n",
       "\n",
       "#sk-container-id-12 input.sk-toggleable__control:checked~div.sk-toggleable__content {\n",
       "  /* Expand drop-down */\n",
       "  max-height: 200px;\n",
       "  max-width: 100%;\n",
       "  overflow: auto;\n",
       "}\n",
       "\n",
       "#sk-container-id-12 input.sk-toggleable__control:checked~label.sk-toggleable__label-arrow:before {\n",
       "  content: \"▾\";\n",
       "}\n",
       "\n",
       "/* Pipeline/ColumnTransformer-specific style */\n",
       "\n",
       "#sk-container-id-12 div.sk-label input.sk-toggleable__control:checked~label.sk-toggleable__label {\n",
       "  color: var(--sklearn-color-text);\n",
       "  background-color: var(--sklearn-color-unfitted-level-2);\n",
       "}\n",
       "\n",
       "#sk-container-id-12 div.sk-label.fitted input.sk-toggleable__control:checked~label.sk-toggleable__label {\n",
       "  background-color: var(--sklearn-color-fitted-level-2);\n",
       "}\n",
       "\n",
       "/* Estimator-specific style */\n",
       "\n",
       "/* Colorize estimator box */\n",
       "#sk-container-id-12 div.sk-estimator input.sk-toggleable__control:checked~label.sk-toggleable__label {\n",
       "  /* unfitted */\n",
       "  background-color: var(--sklearn-color-unfitted-level-2);\n",
       "}\n",
       "\n",
       "#sk-container-id-12 div.sk-estimator.fitted input.sk-toggleable__control:checked~label.sk-toggleable__label {\n",
       "  /* fitted */\n",
       "  background-color: var(--sklearn-color-fitted-level-2);\n",
       "}\n",
       "\n",
       "#sk-container-id-12 div.sk-label label.sk-toggleable__label,\n",
       "#sk-container-id-12 div.sk-label label {\n",
       "  /* The background is the default theme color */\n",
       "  color: var(--sklearn-color-text-on-default-background);\n",
       "}\n",
       "\n",
       "/* On hover, darken the color of the background */\n",
       "#sk-container-id-12 div.sk-label:hover label.sk-toggleable__label {\n",
       "  color: var(--sklearn-color-text);\n",
       "  background-color: var(--sklearn-color-unfitted-level-2);\n",
       "}\n",
       "\n",
       "/* Label box, darken color on hover, fitted */\n",
       "#sk-container-id-12 div.sk-label.fitted:hover label.sk-toggleable__label.fitted {\n",
       "  color: var(--sklearn-color-text);\n",
       "  background-color: var(--sklearn-color-fitted-level-2);\n",
       "}\n",
       "\n",
       "/* Estimator label */\n",
       "\n",
       "#sk-container-id-12 div.sk-label label {\n",
       "  font-family: monospace;\n",
       "  font-weight: bold;\n",
       "  display: inline-block;\n",
       "  line-height: 1.2em;\n",
       "}\n",
       "\n",
       "#sk-container-id-12 div.sk-label-container {\n",
       "  text-align: center;\n",
       "}\n",
       "\n",
       "/* Estimator-specific */\n",
       "#sk-container-id-12 div.sk-estimator {\n",
       "  font-family: monospace;\n",
       "  border: 1px dotted var(--sklearn-color-border-box);\n",
       "  border-radius: 0.25em;\n",
       "  box-sizing: border-box;\n",
       "  margin-bottom: 0.5em;\n",
       "  /* unfitted */\n",
       "  background-color: var(--sklearn-color-unfitted-level-0);\n",
       "}\n",
       "\n",
       "#sk-container-id-12 div.sk-estimator.fitted {\n",
       "  /* fitted */\n",
       "  background-color: var(--sklearn-color-fitted-level-0);\n",
       "}\n",
       "\n",
       "/* on hover */\n",
       "#sk-container-id-12 div.sk-estimator:hover {\n",
       "  /* unfitted */\n",
       "  background-color: var(--sklearn-color-unfitted-level-2);\n",
       "}\n",
       "\n",
       "#sk-container-id-12 div.sk-estimator.fitted:hover {\n",
       "  /* fitted */\n",
       "  background-color: var(--sklearn-color-fitted-level-2);\n",
       "}\n",
       "\n",
       "/* Specification for estimator info (e.g. \"i\" and \"?\") */\n",
       "\n",
       "/* Common style for \"i\" and \"?\" */\n",
       "\n",
       ".sk-estimator-doc-link,\n",
       "a:link.sk-estimator-doc-link,\n",
       "a:visited.sk-estimator-doc-link {\n",
       "  float: right;\n",
       "  font-size: smaller;\n",
       "  line-height: 1em;\n",
       "  font-family: monospace;\n",
       "  background-color: var(--sklearn-color-background);\n",
       "  border-radius: 1em;\n",
       "  height: 1em;\n",
       "  width: 1em;\n",
       "  text-decoration: none !important;\n",
       "  margin-left: 0.5em;\n",
       "  text-align: center;\n",
       "  /* unfitted */\n",
       "  border: var(--sklearn-color-unfitted-level-1) 1pt solid;\n",
       "  color: var(--sklearn-color-unfitted-level-1);\n",
       "}\n",
       "\n",
       ".sk-estimator-doc-link.fitted,\n",
       "a:link.sk-estimator-doc-link.fitted,\n",
       "a:visited.sk-estimator-doc-link.fitted {\n",
       "  /* fitted */\n",
       "  border: var(--sklearn-color-fitted-level-1) 1pt solid;\n",
       "  color: var(--sklearn-color-fitted-level-1);\n",
       "}\n",
       "\n",
       "/* On hover */\n",
       "div.sk-estimator:hover .sk-estimator-doc-link:hover,\n",
       ".sk-estimator-doc-link:hover,\n",
       "div.sk-label-container:hover .sk-estimator-doc-link:hover,\n",
       ".sk-estimator-doc-link:hover {\n",
       "  /* unfitted */\n",
       "  background-color: var(--sklearn-color-unfitted-level-3);\n",
       "  color: var(--sklearn-color-background);\n",
       "  text-decoration: none;\n",
       "}\n",
       "\n",
       "div.sk-estimator.fitted:hover .sk-estimator-doc-link.fitted:hover,\n",
       ".sk-estimator-doc-link.fitted:hover,\n",
       "div.sk-label-container:hover .sk-estimator-doc-link.fitted:hover,\n",
       ".sk-estimator-doc-link.fitted:hover {\n",
       "  /* fitted */\n",
       "  background-color: var(--sklearn-color-fitted-level-3);\n",
       "  color: var(--sklearn-color-background);\n",
       "  text-decoration: none;\n",
       "}\n",
       "\n",
       "/* Span, style for the box shown on hovering the info icon */\n",
       ".sk-estimator-doc-link span {\n",
       "  display: none;\n",
       "  z-index: 9999;\n",
       "  position: relative;\n",
       "  font-weight: normal;\n",
       "  right: .2ex;\n",
       "  padding: .5ex;\n",
       "  margin: .5ex;\n",
       "  width: min-content;\n",
       "  min-width: 20ex;\n",
       "  max-width: 50ex;\n",
       "  color: var(--sklearn-color-text);\n",
       "  box-shadow: 2pt 2pt 4pt #999;\n",
       "  /* unfitted */\n",
       "  background: var(--sklearn-color-unfitted-level-0);\n",
       "  border: .5pt solid var(--sklearn-color-unfitted-level-3);\n",
       "}\n",
       "\n",
       ".sk-estimator-doc-link.fitted span {\n",
       "  /* fitted */\n",
       "  background: var(--sklearn-color-fitted-level-0);\n",
       "  border: var(--sklearn-color-fitted-level-3);\n",
       "}\n",
       "\n",
       ".sk-estimator-doc-link:hover span {\n",
       "  display: block;\n",
       "}\n",
       "\n",
       "/* \"?\"-specific style due to the `<a>` HTML tag */\n",
       "\n",
       "#sk-container-id-12 a.estimator_doc_link {\n",
       "  float: right;\n",
       "  font-size: 1rem;\n",
       "  line-height: 1em;\n",
       "  font-family: monospace;\n",
       "  background-color: var(--sklearn-color-background);\n",
       "  border-radius: 1rem;\n",
       "  height: 1rem;\n",
       "  width: 1rem;\n",
       "  text-decoration: none;\n",
       "  /* unfitted */\n",
       "  color: var(--sklearn-color-unfitted-level-1);\n",
       "  border: var(--sklearn-color-unfitted-level-1) 1pt solid;\n",
       "}\n",
       "\n",
       "#sk-container-id-12 a.estimator_doc_link.fitted {\n",
       "  /* fitted */\n",
       "  border: var(--sklearn-color-fitted-level-1) 1pt solid;\n",
       "  color: var(--sklearn-color-fitted-level-1);\n",
       "}\n",
       "\n",
       "/* On hover */\n",
       "#sk-container-id-12 a.estimator_doc_link:hover {\n",
       "  /* unfitted */\n",
       "  background-color: var(--sklearn-color-unfitted-level-3);\n",
       "  color: var(--sklearn-color-background);\n",
       "  text-decoration: none;\n",
       "}\n",
       "\n",
       "#sk-container-id-12 a.estimator_doc_link.fitted:hover {\n",
       "  /* fitted */\n",
       "  background-color: var(--sklearn-color-fitted-level-3);\n",
       "}\n",
       "</style><div id=\"sk-container-id-12\" class=\"sk-top-container\"><div class=\"sk-text-repr-fallback\"><pre>RandomForestRegressor(max_depth=4)</pre><b>In a Jupyter environment, please rerun this cell to show the HTML representation or trust the notebook. <br />On GitHub, the HTML representation is unable to render, please try loading this page with nbviewer.org.</b></div><div class=\"sk-container\" hidden><div class=\"sk-item\"><div class=\"sk-estimator fitted sk-toggleable\"><input class=\"sk-toggleable__control sk-hidden--visually\" id=\"sk-estimator-id-12\" type=\"checkbox\" checked><label for=\"sk-estimator-id-12\" class=\"sk-toggleable__label fitted sk-toggleable__label-arrow\"><div><div>RandomForestRegressor</div></div><div><a class=\"sk-estimator-doc-link fitted\" rel=\"noreferrer\" target=\"_blank\" href=\"https://scikit-learn.org/1.6/modules/generated/sklearn.ensemble.RandomForestRegressor.html\">?<span>Documentation for RandomForestRegressor</span></a><span class=\"sk-estimator-doc-link fitted\">i<span>Fitted</span></span></div></label><div class=\"sk-toggleable__content fitted\"><pre>RandomForestRegressor(max_depth=4)</pre></div> </div></div></div></div>"
      ],
      "text/plain": [
       "RandomForestRegressor(max_depth=4)"
      ]
     },
     "execution_count": 123,
     "metadata": {},
     "output_type": "execute_result"
    }
   ],
   "source": [
    "# ランダムフォレストモデルを作成\n",
    "from sklearn.ensemble import RandomForestRegressor\n",
    "\n",
    "# モデルを学習\n",
    "reg = RandomForestRegressor(max_depth=4)\n",
    "X = df.loc[:, [\"x\", \"Z\"]]\n",
    "reg.fit(X, df[[\"Y\"]])"
   ]
  },
  {
   "cell_type": "markdown",
   "id": "906841c2",
   "metadata": {},
   "source": [
    "#### ・ATEを計算する .　今回はモデルが1つなので、処置$Z=0$と$1$の場合を1つのモデルから計算して求める ."
   ]
  },
  {
   "cell_type": "code",
   "execution_count": 124,
   "id": "e5fd40ac",
   "metadata": {},
   "outputs": [
    {
     "name": "stdout",
     "output_type": "stream",
     "text": [
      "ATE： 0.6911222919655602\n"
     ]
    }
   ],
   "source": [
    "# 処置が0と1の状態を作成する\n",
    "X_0 = X.copy()\n",
    "X_0[\"Z\"] = 0.0\n",
    "\n",
    "X_1 = X.copy()\n",
    "X_1[\"Z\"] = 1.0\n",
    "\n",
    "# ATEの計算\n",
    "ATE = (reg.predict(X_1)-reg.predict(X_0)).mean()\n",
    "print(\"ATE：\", ATE)"
   ]
  },
  {
   "cell_type": "markdown",
   "id": "63018221",
   "metadata": {},
   "source": [
    "#### ・最後に推定された処置効果を各人ごとに求める ."
   ]
  },
  {
   "cell_type": "code",
   "execution_count": 125,
   "id": "b3db16c9",
   "metadata": {},
   "outputs": [
    {
     "data": {
      "text/plain": [
       "[<matplotlib.lines.Line2D at 0x76d825c20550>]"
      ]
     },
     "execution_count": 125,
     "metadata": {},
     "output_type": "execute_result"
    },
    {
     "name": "stderr",
     "output_type": "stream",
     "text": [
      "findfont: Font family 'IPAexGothic' not found.\n",
      "findfont: Font family 'IPAexGothic' not found.\n",
      "findfont: Font family 'IPAexGothic' not found.\n",
      "findfont: Font family 'IPAexGothic' not found.\n",
      "findfont: Font family 'IPAexGothic' not found.\n",
      "findfont: Font family 'IPAexGothic' not found.\n",
      "findfont: Font family 'IPAexGothic' not found.\n",
      "findfont: Font family 'IPAexGothic' not found.\n",
      "findfont: Font family 'IPAexGothic' not found.\n",
      "findfont: Font family 'IPAexGothic' not found.\n",
      "findfont: Font family 'IPAexGothic' not found.\n",
      "findfont: Font family 'IPAexGothic' not found.\n",
      "findfont: Font family 'IPAexGothic' not found.\n",
      "findfont: Font family 'IPAexGothic' not found.\n",
      "findfont: Font family 'IPAexGothic' not found.\n",
      "findfont: Font family 'IPAexGothic' not found.\n",
      "findfont: Font family 'IPAexGothic' not found.\n",
      "findfont: Font family 'IPAexGothic' not found.\n",
      "findfont: Font family 'IPAexGothic' not found.\n",
      "findfont: Font family 'IPAexGothic' not found.\n",
      "findfont: Font family 'IPAexGothic' not found.\n",
      "findfont: Font family 'IPAexGothic' not found.\n",
      "findfont: Font family 'IPAexGothic' not found.\n",
      "findfont: Font family 'IPAexGothic' not found.\n",
      "findfont: Font family 'IPAexGothic' not found.\n",
      "findfont: Font family 'IPAexGothic' not found.\n",
      "findfont: Font family 'IPAexGothic' not found.\n",
      "findfont: Font family 'IPAexGothic' not found.\n",
      "findfont: Font family 'IPAexGothic' not found.\n",
      "findfont: Font family 'IPAexGothic' not found.\n",
      "findfont: Font family 'IPAexGothic' not found.\n",
      "findfont: Font family 'IPAexGothic' not found.\n",
      "findfont: Font family 'IPAexGothic' not found.\n",
      "findfont: Font family 'IPAexGothic' not found.\n",
      "findfont: Font family 'IPAexGothic' not found.\n",
      "findfont: Font family 'IPAexGothic' not found.\n",
      "findfont: Font family 'IPAexGothic' not found.\n",
      "findfont: Font family 'IPAexGothic' not found.\n",
      "findfont: Font family 'IPAexGothic' not found.\n",
      "findfont: Font family 'IPAexGothic' not found.\n",
      "findfont: Font family 'IPAexGothic' not found.\n",
      "findfont: Font family 'IPAexGothic' not found.\n",
      "findfont: Font family 'IPAexGothic' not found.\n",
      "findfont: Font family 'IPAexGothic' not found.\n",
      "findfont: Font family 'IPAexGothic' not found.\n",
      "findfont: Font family 'IPAexGothic' not found.\n",
      "findfont: Font family 'IPAexGothic' not found.\n",
      "findfont: Font family 'IPAexGothic' not found.\n",
      "findfont: Font family 'IPAexGothic' not found.\n",
      "findfont: Font family 'IPAexGothic' not found.\n",
      "findfont: Font family 'IPAexGothic' not found.\n",
      "findfont: Font family 'IPAexGothic' not found.\n",
      "findfont: Font family 'IPAexGothic' not found.\n",
      "findfont: Font family 'IPAexGothic' not found.\n",
      "findfont: Font family 'IPAexGothic' not found.\n",
      "findfont: Font family 'IPAexGothic' not found.\n",
      "findfont: Font family 'IPAexGothic' not found.\n",
      "findfont: Font family 'IPAexGothic' not found.\n",
      "findfont: Font family 'IPAexGothic' not found.\n",
      "findfont: Font family 'IPAexGothic' not found.\n",
      "findfont: Font family 'IPAexGothic' not found.\n",
      "findfont: Font family 'IPAexGothic' not found.\n",
      "findfont: Font family 'IPAexGothic' not found.\n",
      "findfont: Font family 'IPAexGothic' not found.\n",
      "findfont: Font family 'IPAexGothic' not found.\n",
      "findfont: Font family 'IPAexGothic' not found.\n",
      "findfont: Font family 'IPAexGothic' not found.\n",
      "findfont: Font family 'IPAexGothic' not found.\n",
      "findfont: Font family 'IPAexGothic' not found.\n",
      "findfont: Font family 'IPAexGothic' not found.\n"
     ]
    },
    {
     "data": {
      "image/png": "[encoded data removed]",
      "text/plain": [
       "<Figure size 640x480 with 1 Axes>"
      ]
     },
     "metadata": {},
     "output_type": "display_data"
    }
   ],
   "source": [
    "# 推定された治療効果を各人ごとに求めます\n",
    "t_estimated = reg.predict(X_1)-reg.predict(X_0)\n",
    "plt.scatter(df[[\"x\"]], t_estimated,\n",
    "            label=\"estimated_treatment-effect\")\n",
    "\n",
    "# 正解を描画\n",
    "plt.plot(x_index, t_ans, color='black', ls='--', label='Baseline')"
   ]
  },
  {
   "cell_type": "markdown",
   "id": "1c7d6bcb",
   "metadata": {},
   "source": [
    "#### ・結果はT-Learnerとほぼ同じ結果になっている .　[上司の部下育成の熱心さ]変数$x$に応じて、処置の効果(研修効果)が変化するという研修効果をきちんと推定できていることが読み取れる ."
   ]
  },
  {
   "cell_type": "markdown",
   "id": "ae7a3abe",
   "metadata": {},
   "source": [
    "## X-Learner"
   ]
  },
  {
   "cell_type": "markdown",
   "id": "3ca40065",
   "metadata": {},
   "source": [
    "#### ・X-Learnerは傾向スコアを用いて、T-Learnerの結果をさらに補正する手法のこと ."
   ]
  },
  {
   "cell_type": "markdown",
   "id": "c7a911d3",
   "metadata": {},
   "source": [
    "#### ・はじめにT-Learnerで介入を受けていない集団($Z^i=0$)と介入を受けた集団($Z^i=1$)のそれぞれについて、満足度$Y^i$を推定するモデルを作る ."
   ]
  },
  {
   "cell_type": "markdown",
   "id": "81d12ea1",
   "metadata": {},
   "source": [
    "#### 1つ目のモデルを$M_0$、2つ目のモデルを$M_1$と記載する ."
   ]
  },
  {
   "cell_type": "markdown",
   "id": "427bed05",
   "metadata": {},
   "source": [
    "#### ・続いて、処置群における平均処置効果ATTと、対照群における平均処置効果ATUを求める .　ここでATTを$\\hat{D}_1$,ATUを$\\hat{D}_0$とすると、"
   ]
  },
  {
   "cell_type": "markdown",
   "id": "78365e81",
   "metadata": {},
   "source": [
    "$$\n",
    "\\begin{aligned}\n",
    "\\hat{D}_0 &= M_1(x_0) - Y_0 \\\\\n",
    "\\hat{D}_1 &= Y_1 - M_0(x_1)\n",
    "\\end{aligned}\n",
    "$$"
   ]
  },
  {
   "cell_type": "markdown",
   "id": "75a6937f",
   "metadata": {},
   "source": [
    "#### となる .　ここで、$x_0$,$x_1$は処置$Z=0$と$Z=1$のそれぞれの集団を示す ."
   ]
  },
  {
   "cell_type": "markdown",
   "id": "957af1a5",
   "metadata": {},
   "source": [
    "#### ・X-Learnerではここでさらに、$\\hat{D}_0$を$x_0$から求めるモデル$M_2$と、$\\hat{D}_1$を$x_1$から求めるモデル$M_3$を作成する ."
   ]
  },
  {
   "cell_type": "markdown",
   "id": "8bdde999",
   "metadata": {},
   "source": [
    "$$\n",
    "\\begin{aligned}\n",
    "\\hat{\\tau}_0 &= \\hat{D}_0 = M_2(x_0) \\\\\n",
    "\\hat{\\tau}_1 &= \\hat{D}_1 = M_3(x_1)\n",
    "\\end{aligned}\n",
    "$$"
   ]
  },
  {
   "cell_type": "markdown",
   "id": "4f33f418",
   "metadata": {},
   "source": [
    "#### ・元の$M_0$,$M_1$を使用したATTとATUの推定式は、処置$Z=0$と$Z=1$のそれぞれの集団$x_0$と$x_1$に対してそれぞれATUとATTの片方しか求まらない ."
   ]
  },
  {
   "cell_type": "markdown",
   "id": "d9288a29",
   "metadata": {},
   "source": [
    "#### そのため全集団$x$に対してもATUを推定できるモデル$M_2$とATTを推定するモデル$M_3$をわざわざ構築している ."
   ]
  },
  {
   "cell_type": "markdown",
   "id": "c65b36d5",
   "metadata": {},
   "source": [
    "#### ・そしてさらに、傾向スコア$P(Z=z|X=x)$を推定するモデルを構築する .　このモデルを$g(x)$と表す ."
   ]
  },
  {
   "cell_type": "markdown",
   "id": "e01c7886",
   "metadata": {},
   "source": [
    "#### この傾向スコアの値で重み付けて、各人の処置効果(因果の大きさ)の推定値$\\hat{\\tau}$を、"
   ]
  },
  {
   "cell_type": "markdown",
   "id": "6b141d97",
   "metadata": {},
   "source": [
    "$$\n",
    "\\hat{\\tau} = g(x)\\hat{\\tau}_0(x) + (1 - g(x))\\hat{\\tau}_1(x)\n",
    "$$"
   ]
  },
  {
   "cell_type": "markdown",
   "id": "831e6574",
   "metadata": {},
   "source": [
    "#### とする ."
   ]
  },
  {
   "cell_type": "markdown",
   "id": "088c893f",
   "metadata": {},
   "source": [
    "#### ・処置$Z=0$になりやすい属性の人($g(x)$が0に近い人)については、$\\hat{\\tau}_1$の比重を大きくして因果関係を求める ."
   ]
  },
  {
   "cell_type": "markdown",
   "id": "02f946a7",
   "metadata": {},
   "source": [
    "#### また、処置$Z=1$になりやすい属性の人($g(x)$が1に近い人)については、$\\hat{\\tau}_0$の比重を大きくして因果効果を求める . "
   ]
  },
  {
   "cell_type": "markdown",
   "id": "b7be627f",
   "metadata": {},
   "source": [
    "### ・つまり、自分のデータを使わずに構築されたモデルでの推定結果に重きを置くことで、トータルとしての推定精度を上げたいという気持ちである ."
   ]
  },
  {
   "cell_type": "markdown",
   "id": "9ad9d935",
   "metadata": {},
   "source": [
    "#### ・実装は次の通りである .　まず、T-Learnerで$M_0$と$M_1$を作成する ."
   ]
  },
  {
   "cell_type": "code",
   "execution_count": 126,
   "id": "500321c1",
   "metadata": {},
   "outputs": [
    {
     "name": "stderr",
     "output_type": "stream",
     "text": [
      "/home/taihei/因果分析ゼミ/myenv/lib/python3.13/site-packages/sklearn/base.py:1389: DataConversionWarning: A column-vector y was passed when a 1d array was expected. Please change the shape of y to (n_samples,), for example using ravel().\n",
      "  return fit_method(estimator, *args, **kwargs)\n",
      "/home/taihei/因果分析ゼミ/myenv/lib/python3.13/site-packages/sklearn/base.py:1389: DataConversionWarning: A column-vector y was passed when a 1d array was expected. Please change the shape of y to (n_samples,), for example using ravel().\n",
      "  return fit_method(estimator, *args, **kwargs)\n"
     ]
    },
    {
     "data": {
      "text/html": [
       "<style>#sk-container-id-13 {\n",
       "  /* Definition of color scheme common for light and dark mode */\n",
       "  --sklearn-color-text: #000;\n",
       "  --sklearn-color-text-muted: #666;\n",
       "  --sklearn-color-line: gray;\n",
       "  /* Definition of color scheme for unfitted estimators */\n",
       "  --sklearn-color-unfitted-level-0: #fff5e6;\n",
       "  --sklearn-color-unfitted-level-1: #f6e4d2;\n",
       "  --sklearn-color-unfitted-level-2: #ffe0b3;\n",
       "  --sklearn-color-unfitted-level-3: chocolate;\n",
       "  /* Definition of color scheme for fitted estimators */\n",
       "  --sklearn-color-fitted-level-0: #f0f8ff;\n",
       "  --sklearn-color-fitted-level-1: #d4ebff;\n",
       "  --sklearn-color-fitted-level-2: #b3dbfd;\n",
       "  --sklearn-color-fitted-level-3: cornflowerblue;\n",
       "\n",
       "  /* Specific color for light theme */\n",
       "  --sklearn-color-text-on-default-background: var(--sg-text-color, var(--theme-code-foreground, var(--jp-content-font-color1, black)));\n",
       "  --sklearn-color-background: var(--sg-background-color, var(--theme-background, var(--jp-layout-color0, white)));\n",
       "  --sklearn-color-border-box: var(--sg-text-color, var(--theme-code-foreground, var(--jp-content-font-color1, black)));\n",
       "  --sklearn-color-icon: #696969;\n",
       "\n",
       "  @media (prefers-color-scheme: dark) {\n",
       "    /* Redefinition of color scheme for dark theme */\n",
       "    --sklearn-color-text-on-default-background: var(--sg-text-color, var(--theme-code-foreground, var(--jp-content-font-color1, white)));\n",
       "    --sklearn-color-background: var(--sg-background-color, var(--theme-background, var(--jp-layout-color0, #111)));\n",
       "    --sklearn-color-border-box: var(--sg-text-color, var(--theme-code-foreground, var(--jp-content-font-color1, white)));\n",
       "    --sklearn-color-icon: #878787;\n",
       "  }\n",
       "}\n",
       "\n",
       "#sk-container-id-13 {\n",
       "  color: var(--sklearn-color-text);\n",
       "}\n",
       "\n",
       "#sk-container-id-13 pre {\n",
       "  padding: 0;\n",
       "}\n",
       "\n",
       "#sk-container-id-13 input.sk-hidden--visually {\n",
       "  border: 0;\n",
       "  clip: rect(1px 1px 1px 1px);\n",
       "  clip: rect(1px, 1px, 1px, 1px);\n",
       "  height: 1px;\n",
       "  margin: -1px;\n",
       "  overflow: hidden;\n",
       "  padding: 0;\n",
       "  position: absolute;\n",
       "  width: 1px;\n",
       "}\n",
       "\n",
       "#sk-container-id-13 div.sk-dashed-wrapped {\n",
       "  border: 1px dashed var(--sklearn-color-line);\n",
       "  margin: 0 0.4em 0.5em 0.4em;\n",
       "  box-sizing: border-box;\n",
       "  padding-bottom: 0.4em;\n",
       "  background-color: var(--sklearn-color-background);\n",
       "}\n",
       "\n",
       "#sk-container-id-13 div.sk-container {\n",
       "  /* jupyter's `normalize.less` sets `[hidden] { display: none; }`\n",
       "     but bootstrap.min.css set `[hidden] { display: none !important; }`\n",
       "     so we also need the `!important` here to be able to override the\n",
       "     default hidden behavior on the sphinx rendered scikit-learn.org.\n",
       "     See: https://github.com/scikit-learn/scikit-learn/issues/21755 */\n",
       "  display: inline-block !important;\n",
       "  position: relative;\n",
       "}\n",
       "\n",
       "#sk-container-id-13 div.sk-text-repr-fallback {\n",
       "  display: none;\n",
       "}\n",
       "\n",
       "div.sk-parallel-item,\n",
       "div.sk-serial,\n",
       "div.sk-item {\n",
       "  /* draw centered vertical line to link estimators */\n",
       "  background-image: linear-gradient(var(--sklearn-color-text-on-default-background), var(--sklearn-color-text-on-default-background));\n",
       "  background-size: 2px 100%;\n",
       "  background-repeat: no-repeat;\n",
       "  background-position: center center;\n",
       "}\n",
       "\n",
       "/* Parallel-specific style estimator block */\n",
       "\n",
       "#sk-container-id-13 div.sk-parallel-item::after {\n",
       "  content: \"\";\n",
       "  width: 100%;\n",
       "  border-bottom: 2px solid var(--sklearn-color-text-on-default-background);\n",
       "  flex-grow: 1;\n",
       "}\n",
       "\n",
       "#sk-container-id-13 div.sk-parallel {\n",
       "  display: flex;\n",
       "  align-items: stretch;\n",
       "  justify-content: center;\n",
       "  background-color: var(--sklearn-color-background);\n",
       "  position: relative;\n",
       "}\n",
       "\n",
       "#sk-container-id-13 div.sk-parallel-item {\n",
       "  display: flex;\n",
       "  flex-direction: column;\n",
       "}\n",
       "\n",
       "#sk-container-id-13 div.sk-parallel-item:first-child::after {\n",
       "  align-self: flex-end;\n",
       "  width: 50%;\n",
       "}\n",
       "\n",
       "#sk-container-id-13 div.sk-parallel-item:last-child::after {\n",
       "  align-self: flex-start;\n",
       "  width: 50%;\n",
       "}\n",
       "\n",
       "#sk-container-id-13 div.sk-parallel-item:only-child::after {\n",
       "  width: 0;\n",
       "}\n",
       "\n",
       "/* Serial-specific style estimator block */\n",
       "\n",
       "#sk-container-id-13 div.sk-serial {\n",
       "  display: flex;\n",
       "  flex-direction: column;\n",
       "  align-items: center;\n",
       "  background-color: var(--sklearn-color-background);\n",
       "  padding-right: 1em;\n",
       "  padding-left: 1em;\n",
       "}\n",
       "\n",
       "\n",
       "/* Toggleable style: style used for estimator/Pipeline/ColumnTransformer box that is\n",
       "clickable and can be expanded/collapsed.\n",
       "- Pipeline and ColumnTransformer use this feature and define the default style\n",
       "- Estimators will overwrite some part of the style using the `sk-estimator` class\n",
       "*/\n",
       "\n",
       "/* Pipeline and ColumnTransformer style (default) */\n",
       "\n",
       "#sk-container-id-13 div.sk-toggleable {\n",
       "  /* Default theme specific background. It is overwritten whether we have a\n",
       "  specific estimator or a Pipeline/ColumnTransformer */\n",
       "  background-color: var(--sklearn-color-background);\n",
       "}\n",
       "\n",
       "/* Toggleable label */\n",
       "#sk-container-id-13 label.sk-toggleable__label {\n",
       "  cursor: pointer;\n",
       "  display: flex;\n",
       "  width: 100%;\n",
       "  margin-bottom: 0;\n",
       "  padding: 0.5em;\n",
       "  box-sizing: border-box;\n",
       "  text-align: center;\n",
       "  align-items: start;\n",
       "  justify-content: space-between;\n",
       "  gap: 0.5em;\n",
       "}\n",
       "\n",
       "#sk-container-id-13 label.sk-toggleable__label .caption {\n",
       "  font-size: 0.6rem;\n",
       "  font-weight: lighter;\n",
       "  color: var(--sklearn-color-text-muted);\n",
       "}\n",
       "\n",
       "#sk-container-id-13 label.sk-toggleable__label-arrow:before {\n",
       "  /* Arrow on the left of the label */\n",
       "  content: \"▸\";\n",
       "  float: left;\n",
       "  margin-right: 0.25em;\n",
       "  color: var(--sklearn-color-icon);\n",
       "}\n",
       "\n",
       "#sk-container-id-13 label.sk-toggleable__label-arrow:hover:before {\n",
       "  color: var(--sklearn-color-text);\n",
       "}\n",
       "\n",
       "/* Toggleable content - dropdown */\n",
       "\n",
       "#sk-container-id-13 div.sk-toggleable__content {\n",
       "  max-height: 0;\n",
       "  max-width: 0;\n",
       "  overflow: hidden;\n",
       "  text-align: left;\n",
       "  /* unfitted */\n",
       "  background-color: var(--sklearn-color-unfitted-level-0);\n",
       "}\n",
       "\n",
       "#sk-container-id-13 div.sk-toggleable__content.fitted {\n",
       "  /* fitted */\n",
       "  background-color: var(--sklearn-color-fitted-level-0);\n",
       "}\n",
       "\n",
       "#sk-container-id-13 div.sk-toggleable__content pre {\n",
       "  margin: 0.2em;\n",
       "  border-radius: 0.25em;\n",
       "  color: var(--sklearn-color-text);\n",
       "  /* unfitted */\n",
       "  background-color: var(--sklearn-color-unfitted-level-0);\n",
       "}\n",
       "\n",
       "#sk-container-id-13 div.sk-toggleable__content.fitted pre {\n",
       "  /* unfitted */\n",
       "  background-color: var(--sklearn-color-fitted-level-0);\n",
       "}\n",
       "\n",
       "#sk-container-id-13 input.sk-toggleable__control:checked~div.sk-toggleable__content {\n",
       "  /* Expand drop-down */\n",
       "  max-height: 200px;\n",
       "  max-width: 100%;\n",
       "  overflow: auto;\n",
       "}\n",
       "\n",
       "#sk-container-id-13 input.sk-toggleable__control:checked~label.sk-toggleable__label-arrow:before {\n",
       "  content: \"▾\";\n",
       "}\n",
       "\n",
       "/* Pipeline/ColumnTransformer-specific style */\n",
       "\n",
       "#sk-container-id-13 div.sk-label input.sk-toggleable__control:checked~label.sk-toggleable__label {\n",
       "  color: var(--sklearn-color-text);\n",
       "  background-color: var(--sklearn-color-unfitted-level-2);\n",
       "}\n",
       "\n",
       "#sk-container-id-13 div.sk-label.fitted input.sk-toggleable__control:checked~label.sk-toggleable__label {\n",
       "  background-color: var(--sklearn-color-fitted-level-2);\n",
       "}\n",
       "\n",
       "/* Estimator-specific style */\n",
       "\n",
       "/* Colorize estimator box */\n",
       "#sk-container-id-13 div.sk-estimator input.sk-toggleable__control:checked~label.sk-toggleable__label {\n",
       "  /* unfitted */\n",
       "  background-color: var(--sklearn-color-unfitted-level-2);\n",
       "}\n",
       "\n",
       "#sk-container-id-13 div.sk-estimator.fitted input.sk-toggleable__control:checked~label.sk-toggleable__label {\n",
       "  /* fitted */\n",
       "  background-color: var(--sklearn-color-fitted-level-2);\n",
       "}\n",
       "\n",
       "#sk-container-id-13 div.sk-label label.sk-toggleable__label,\n",
       "#sk-container-id-13 div.sk-label label {\n",
       "  /* The background is the default theme color */\n",
       "  color: var(--sklearn-color-text-on-default-background);\n",
       "}\n",
       "\n",
       "/* On hover, darken the color of the background */\n",
       "#sk-container-id-13 div.sk-label:hover label.sk-toggleable__label {\n",
       "  color: var(--sklearn-color-text);\n",
       "  background-color: var(--sklearn-color-unfitted-level-2);\n",
       "}\n",
       "\n",
       "/* Label box, darken color on hover, fitted */\n",
       "#sk-container-id-13 div.sk-label.fitted:hover label.sk-toggleable__label.fitted {\n",
       "  color: var(--sklearn-color-text);\n",
       "  background-color: var(--sklearn-color-fitted-level-2);\n",
       "}\n",
       "\n",
       "/* Estimator label */\n",
       "\n",
       "#sk-container-id-13 div.sk-label label {\n",
       "  font-family: monospace;\n",
       "  font-weight: bold;\n",
       "  display: inline-block;\n",
       "  line-height: 1.2em;\n",
       "}\n",
       "\n",
       "#sk-container-id-13 div.sk-label-container {\n",
       "  text-align: center;\n",
       "}\n",
       "\n",
       "/* Estimator-specific */\n",
       "#sk-container-id-13 div.sk-estimator {\n",
       "  font-family: monospace;\n",
       "  border: 1px dotted var(--sklearn-color-border-box);\n",
       "  border-radius: 0.25em;\n",
       "  box-sizing: border-box;\n",
       "  margin-bottom: 0.5em;\n",
       "  /* unfitted */\n",
       "  background-color: var(--sklearn-color-unfitted-level-0);\n",
       "}\n",
       "\n",
       "#sk-container-id-13 div.sk-estimator.fitted {\n",
       "  /* fitted */\n",
       "  background-color: var(--sklearn-color-fitted-level-0);\n",
       "}\n",
       "\n",
       "/* on hover */\n",
       "#sk-container-id-13 div.sk-estimator:hover {\n",
       "  /* unfitted */\n",
       "  background-color: var(--sklearn-color-unfitted-level-2);\n",
       "}\n",
       "\n",
       "#sk-container-id-13 div.sk-estimator.fitted:hover {\n",
       "  /* fitted */\n",
       "  background-color: var(--sklearn-color-fitted-level-2);\n",
       "}\n",
       "\n",
       "/* Specification for estimator info (e.g. \"i\" and \"?\") */\n",
       "\n",
       "/* Common style for \"i\" and \"?\" */\n",
       "\n",
       ".sk-estimator-doc-link,\n",
       "a:link.sk-estimator-doc-link,\n",
       "a:visited.sk-estimator-doc-link {\n",
       "  float: right;\n",
       "  font-size: smaller;\n",
       "  line-height: 1em;\n",
       "  font-family: monospace;\n",
       "  background-color: var(--sklearn-color-background);\n",
       "  border-radius: 1em;\n",
       "  height: 1em;\n",
       "  width: 1em;\n",
       "  text-decoration: none !important;\n",
       "  margin-left: 0.5em;\n",
       "  text-align: center;\n",
       "  /* unfitted */\n",
       "  border: var(--sklearn-color-unfitted-level-1) 1pt solid;\n",
       "  color: var(--sklearn-color-unfitted-level-1);\n",
       "}\n",
       "\n",
       ".sk-estimator-doc-link.fitted,\n",
       "a:link.sk-estimator-doc-link.fitted,\n",
       "a:visited.sk-estimator-doc-link.fitted {\n",
       "  /* fitted */\n",
       "  border: var(--sklearn-color-fitted-level-1) 1pt solid;\n",
       "  color: var(--sklearn-color-fitted-level-1);\n",
       "}\n",
       "\n",
       "/* On hover */\n",
       "div.sk-estimator:hover .sk-estimator-doc-link:hover,\n",
       ".sk-estimator-doc-link:hover,\n",
       "div.sk-label-container:hover .sk-estimator-doc-link:hover,\n",
       ".sk-estimator-doc-link:hover {\n",
       "  /* unfitted */\n",
       "  background-color: var(--sklearn-color-unfitted-level-3);\n",
       "  color: var(--sklearn-color-background);\n",
       "  text-decoration: none;\n",
       "}\n",
       "\n",
       "div.sk-estimator.fitted:hover .sk-estimator-doc-link.fitted:hover,\n",
       ".sk-estimator-doc-link.fitted:hover,\n",
       "div.sk-label-container:hover .sk-estimator-doc-link.fitted:hover,\n",
       ".sk-estimator-doc-link.fitted:hover {\n",
       "  /* fitted */\n",
       "  background-color: var(--sklearn-color-fitted-level-3);\n",
       "  color: var(--sklearn-color-background);\n",
       "  text-decoration: none;\n",
       "}\n",
       "\n",
       "/* Span, style for the box shown on hovering the info icon */\n",
       ".sk-estimator-doc-link span {\n",
       "  display: none;\n",
       "  z-index: 9999;\n",
       "  position: relative;\n",
       "  font-weight: normal;\n",
       "  right: .2ex;\n",
       "  padding: .5ex;\n",
       "  margin: .5ex;\n",
       "  width: min-content;\n",
       "  min-width: 20ex;\n",
       "  max-width: 50ex;\n",
       "  color: var(--sklearn-color-text);\n",
       "  box-shadow: 2pt 2pt 4pt #999;\n",
       "  /* unfitted */\n",
       "  background: var(--sklearn-color-unfitted-level-0);\n",
       "  border: .5pt solid var(--sklearn-color-unfitted-level-3);\n",
       "}\n",
       "\n",
       ".sk-estimator-doc-link.fitted span {\n",
       "  /* fitted */\n",
       "  background: var(--sklearn-color-fitted-level-0);\n",
       "  border: var(--sklearn-color-fitted-level-3);\n",
       "}\n",
       "\n",
       ".sk-estimator-doc-link:hover span {\n",
       "  display: block;\n",
       "}\n",
       "\n",
       "/* \"?\"-specific style due to the `<a>` HTML tag */\n",
       "\n",
       "#sk-container-id-13 a.estimator_doc_link {\n",
       "  float: right;\n",
       "  font-size: 1rem;\n",
       "  line-height: 1em;\n",
       "  font-family: monospace;\n",
       "  background-color: var(--sklearn-color-background);\n",
       "  border-radius: 1rem;\n",
       "  height: 1rem;\n",
       "  width: 1rem;\n",
       "  text-decoration: none;\n",
       "  /* unfitted */\n",
       "  color: var(--sklearn-color-unfitted-level-1);\n",
       "  border: var(--sklearn-color-unfitted-level-1) 1pt solid;\n",
       "}\n",
       "\n",
       "#sk-container-id-13 a.estimator_doc_link.fitted {\n",
       "  /* fitted */\n",
       "  border: var(--sklearn-color-fitted-level-1) 1pt solid;\n",
       "  color: var(--sklearn-color-fitted-level-1);\n",
       "}\n",
       "\n",
       "/* On hover */\n",
       "#sk-container-id-13 a.estimator_doc_link:hover {\n",
       "  /* unfitted */\n",
       "  background-color: var(--sklearn-color-unfitted-level-3);\n",
       "  color: var(--sklearn-color-background);\n",
       "  text-decoration: none;\n",
       "}\n",
       "\n",
       "#sk-container-id-13 a.estimator_doc_link.fitted:hover {\n",
       "  /* fitted */\n",
       "  background-color: var(--sklearn-color-fitted-level-3);\n",
       "}\n",
       "</style><div id=\"sk-container-id-13\" class=\"sk-top-container\"><div class=\"sk-text-repr-fallback\"><pre>RandomForestRegressor(max_depth=3)</pre><b>In a Jupyter environment, please rerun this cell to show the HTML representation or trust the notebook. <br />On GitHub, the HTML representation is unable to render, please try loading this page with nbviewer.org.</b></div><div class=\"sk-container\" hidden><div class=\"sk-item\"><div class=\"sk-estimator fitted sk-toggleable\"><input class=\"sk-toggleable__control sk-hidden--visually\" id=\"sk-estimator-id-13\" type=\"checkbox\" checked><label for=\"sk-estimator-id-13\" class=\"sk-toggleable__label fitted sk-toggleable__label-arrow\"><div><div>RandomForestRegressor</div></div><div><a class=\"sk-estimator-doc-link fitted\" rel=\"noreferrer\" target=\"_blank\" href=\"https://scikit-learn.org/1.6/modules/generated/sklearn.ensemble.RandomForestRegressor.html\">?<span>Documentation for RandomForestRegressor</span></a><span class=\"sk-estimator-doc-link fitted\">i<span>Fitted</span></span></div></label><div class=\"sk-toggleable__content fitted\"><pre>RandomForestRegressor(max_depth=3)</pre></div> </div></div></div></div>"
      ],
      "text/plain": [
       "RandomForestRegressor(max_depth=3)"
      ]
     },
     "execution_count": 126,
     "metadata": {},
     "output_type": "execute_result"
    }
   ],
   "source": [
    "# T-LearnerでM0とM1を求める\n",
    "from sklearn.ensemble import RandomForestRegressor\n",
    "\n",
    "# 集団を2つに分ける\n",
    "df_0 = df[df.Z == 0.0]  # 介入を受けていない集団\n",
    "df_1 = df[df.Z == 1.0]  # 介入を受けた集団\n",
    "\n",
    "# 介入を受けていないモデル\n",
    "M0 = RandomForestRegressor(max_depth=3)\n",
    "M0.fit(df_0[[\"x\"]], df_0[[\"Y\"]])\n",
    "\n",
    "# 介入を受けたモデル\n",
    "M1 = RandomForestRegressor(max_depth=3)\n",
    "M1.fit(df_1[[\"x\"]], df_1[[\"Y\"]])"
   ]
  },
  {
   "cell_type": "markdown",
   "id": "6a5423b6",
   "metadata": {},
   "source": [
    "#### ・次に$M_2$と$M_3$を作成する ."
   ]
  },
  {
   "cell_type": "code",
   "execution_count": 127,
   "id": "16926ab5",
   "metadata": {},
   "outputs": [
    {
     "data": {
      "text/html": [
       "<style>#sk-container-id-14 {\n",
       "  /* Definition of color scheme common for light and dark mode */\n",
       "  --sklearn-color-text: #000;\n",
       "  --sklearn-color-text-muted: #666;\n",
       "  --sklearn-color-line: gray;\n",
       "  /* Definition of color scheme for unfitted estimators */\n",
       "  --sklearn-color-unfitted-level-0: #fff5e6;\n",
       "  --sklearn-color-unfitted-level-1: #f6e4d2;\n",
       "  --sklearn-color-unfitted-level-2: #ffe0b3;\n",
       "  --sklearn-color-unfitted-level-3: chocolate;\n",
       "  /* Definition of color scheme for fitted estimators */\n",
       "  --sklearn-color-fitted-level-0: #f0f8ff;\n",
       "  --sklearn-color-fitted-level-1: #d4ebff;\n",
       "  --sklearn-color-fitted-level-2: #b3dbfd;\n",
       "  --sklearn-color-fitted-level-3: cornflowerblue;\n",
       "\n",
       "  /* Specific color for light theme */\n",
       "  --sklearn-color-text-on-default-background: var(--sg-text-color, var(--theme-code-foreground, var(--jp-content-font-color1, black)));\n",
       "  --sklearn-color-background: var(--sg-background-color, var(--theme-background, var(--jp-layout-color0, white)));\n",
       "  --sklearn-color-border-box: var(--sg-text-color, var(--theme-code-foreground, var(--jp-content-font-color1, black)));\n",
       "  --sklearn-color-icon: #696969;\n",
       "\n",
       "  @media (prefers-color-scheme: dark) {\n",
       "    /* Redefinition of color scheme for dark theme */\n",
       "    --sklearn-color-text-on-default-background: var(--sg-text-color, var(--theme-code-foreground, var(--jp-content-font-color1, white)));\n",
       "    --sklearn-color-background: var(--sg-background-color, var(--theme-background, var(--jp-layout-color0, #111)));\n",
       "    --sklearn-color-border-box: var(--sg-text-color, var(--theme-code-foreground, var(--jp-content-font-color1, white)));\n",
       "    --sklearn-color-icon: #878787;\n",
       "  }\n",
       "}\n",
       "\n",
       "#sk-container-id-14 {\n",
       "  color: var(--sklearn-color-text);\n",
       "}\n",
       "\n",
       "#sk-container-id-14 pre {\n",
       "  padding: 0;\n",
       "}\n",
       "\n",
       "#sk-container-id-14 input.sk-hidden--visually {\n",
       "  border: 0;\n",
       "  clip: rect(1px 1px 1px 1px);\n",
       "  clip: rect(1px, 1px, 1px, 1px);\n",
       "  height: 1px;\n",
       "  margin: -1px;\n",
       "  overflow: hidden;\n",
       "  padding: 0;\n",
       "  position: absolute;\n",
       "  width: 1px;\n",
       "}\n",
       "\n",
       "#sk-container-id-14 div.sk-dashed-wrapped {\n",
       "  border: 1px dashed var(--sklearn-color-line);\n",
       "  margin: 0 0.4em 0.5em 0.4em;\n",
       "  box-sizing: border-box;\n",
       "  padding-bottom: 0.4em;\n",
       "  background-color: var(--sklearn-color-background);\n",
       "}\n",
       "\n",
       "#sk-container-id-14 div.sk-container {\n",
       "  /* jupyter's `normalize.less` sets `[hidden] { display: none; }`\n",
       "     but bootstrap.min.css set `[hidden] { display: none !important; }`\n",
       "     so we also need the `!important` here to be able to override the\n",
       "     default hidden behavior on the sphinx rendered scikit-learn.org.\n",
       "     See: https://github.com/scikit-learn/scikit-learn/issues/21755 */\n",
       "  display: inline-block !important;\n",
       "  position: relative;\n",
       "}\n",
       "\n",
       "#sk-container-id-14 div.sk-text-repr-fallback {\n",
       "  display: none;\n",
       "}\n",
       "\n",
       "div.sk-parallel-item,\n",
       "div.sk-serial,\n",
       "div.sk-item {\n",
       "  /* draw centered vertical line to link estimators */\n",
       "  background-image: linear-gradient(var(--sklearn-color-text-on-default-background), var(--sklearn-color-text-on-default-background));\n",
       "  background-size: 2px 100%;\n",
       "  background-repeat: no-repeat;\n",
       "  background-position: center center;\n",
       "}\n",
       "\n",
       "/* Parallel-specific style estimator block */\n",
       "\n",
       "#sk-container-id-14 div.sk-parallel-item::after {\n",
       "  content: \"\";\n",
       "  width: 100%;\n",
       "  border-bottom: 2px solid var(--sklearn-color-text-on-default-background);\n",
       "  flex-grow: 1;\n",
       "}\n",
       "\n",
       "#sk-container-id-14 div.sk-parallel {\n",
       "  display: flex;\n",
       "  align-items: stretch;\n",
       "  justify-content: center;\n",
       "  background-color: var(--sklearn-color-background);\n",
       "  position: relative;\n",
       "}\n",
       "\n",
       "#sk-container-id-14 div.sk-parallel-item {\n",
       "  display: flex;\n",
       "  flex-direction: column;\n",
       "}\n",
       "\n",
       "#sk-container-id-14 div.sk-parallel-item:first-child::after {\n",
       "  align-self: flex-end;\n",
       "  width: 50%;\n",
       "}\n",
       "\n",
       "#sk-container-id-14 div.sk-parallel-item:last-child::after {\n",
       "  align-self: flex-start;\n",
       "  width: 50%;\n",
       "}\n",
       "\n",
       "#sk-container-id-14 div.sk-parallel-item:only-child::after {\n",
       "  width: 0;\n",
       "}\n",
       "\n",
       "/* Serial-specific style estimator block */\n",
       "\n",
       "#sk-container-id-14 div.sk-serial {\n",
       "  display: flex;\n",
       "  flex-direction: column;\n",
       "  align-items: center;\n",
       "  background-color: var(--sklearn-color-background);\n",
       "  padding-right: 1em;\n",
       "  padding-left: 1em;\n",
       "}\n",
       "\n",
       "\n",
       "/* Toggleable style: style used for estimator/Pipeline/ColumnTransformer box that is\n",
       "clickable and can be expanded/collapsed.\n",
       "- Pipeline and ColumnTransformer use this feature and define the default style\n",
       "- Estimators will overwrite some part of the style using the `sk-estimator` class\n",
       "*/\n",
       "\n",
       "/* Pipeline and ColumnTransformer style (default) */\n",
       "\n",
       "#sk-container-id-14 div.sk-toggleable {\n",
       "  /* Default theme specific background. It is overwritten whether we have a\n",
       "  specific estimator or a Pipeline/ColumnTransformer */\n",
       "  background-color: var(--sklearn-color-background);\n",
       "}\n",
       "\n",
       "/* Toggleable label */\n",
       "#sk-container-id-14 label.sk-toggleable__label {\n",
       "  cursor: pointer;\n",
       "  display: flex;\n",
       "  width: 100%;\n",
       "  margin-bottom: 0;\n",
       "  padding: 0.5em;\n",
       "  box-sizing: border-box;\n",
       "  text-align: center;\n",
       "  align-items: start;\n",
       "  justify-content: space-between;\n",
       "  gap: 0.5em;\n",
       "}\n",
       "\n",
       "#sk-container-id-14 label.sk-toggleable__label .caption {\n",
       "  font-size: 0.6rem;\n",
       "  font-weight: lighter;\n",
       "  color: var(--sklearn-color-text-muted);\n",
       "}\n",
       "\n",
       "#sk-container-id-14 label.sk-toggleable__label-arrow:before {\n",
       "  /* Arrow on the left of the label */\n",
       "  content: \"▸\";\n",
       "  float: left;\n",
       "  margin-right: 0.25em;\n",
       "  color: var(--sklearn-color-icon);\n",
       "}\n",
       "\n",
       "#sk-container-id-14 label.sk-toggleable__label-arrow:hover:before {\n",
       "  color: var(--sklearn-color-text);\n",
       "}\n",
       "\n",
       "/* Toggleable content - dropdown */\n",
       "\n",
       "#sk-container-id-14 div.sk-toggleable__content {\n",
       "  max-height: 0;\n",
       "  max-width: 0;\n",
       "  overflow: hidden;\n",
       "  text-align: left;\n",
       "  /* unfitted */\n",
       "  background-color: var(--sklearn-color-unfitted-level-0);\n",
       "}\n",
       "\n",
       "#sk-container-id-14 div.sk-toggleable__content.fitted {\n",
       "  /* fitted */\n",
       "  background-color: var(--sklearn-color-fitted-level-0);\n",
       "}\n",
       "\n",
       "#sk-container-id-14 div.sk-toggleable__content pre {\n",
       "  margin: 0.2em;\n",
       "  border-radius: 0.25em;\n",
       "  color: var(--sklearn-color-text);\n",
       "  /* unfitted */\n",
       "  background-color: var(--sklearn-color-unfitted-level-0);\n",
       "}\n",
       "\n",
       "#sk-container-id-14 div.sk-toggleable__content.fitted pre {\n",
       "  /* unfitted */\n",
       "  background-color: var(--sklearn-color-fitted-level-0);\n",
       "}\n",
       "\n",
       "#sk-container-id-14 input.sk-toggleable__control:checked~div.sk-toggleable__content {\n",
       "  /* Expand drop-down */\n",
       "  max-height: 200px;\n",
       "  max-width: 100%;\n",
       "  overflow: auto;\n",
       "}\n",
       "\n",
       "#sk-container-id-14 input.sk-toggleable__control:checked~label.sk-toggleable__label-arrow:before {\n",
       "  content: \"▾\";\n",
       "}\n",
       "\n",
       "/* Pipeline/ColumnTransformer-specific style */\n",
       "\n",
       "#sk-container-id-14 div.sk-label input.sk-toggleable__control:checked~label.sk-toggleable__label {\n",
       "  color: var(--sklearn-color-text);\n",
       "  background-color: var(--sklearn-color-unfitted-level-2);\n",
       "}\n",
       "\n",
       "#sk-container-id-14 div.sk-label.fitted input.sk-toggleable__control:checked~label.sk-toggleable__label {\n",
       "  background-color: var(--sklearn-color-fitted-level-2);\n",
       "}\n",
       "\n",
       "/* Estimator-specific style */\n",
       "\n",
       "/* Colorize estimator box */\n",
       "#sk-container-id-14 div.sk-estimator input.sk-toggleable__control:checked~label.sk-toggleable__label {\n",
       "  /* unfitted */\n",
       "  background-color: var(--sklearn-color-unfitted-level-2);\n",
       "}\n",
       "\n",
       "#sk-container-id-14 div.sk-estimator.fitted input.sk-toggleable__control:checked~label.sk-toggleable__label {\n",
       "  /* fitted */\n",
       "  background-color: var(--sklearn-color-fitted-level-2);\n",
       "}\n",
       "\n",
       "#sk-container-id-14 div.sk-label label.sk-toggleable__label,\n",
       "#sk-container-id-14 div.sk-label label {\n",
       "  /* The background is the default theme color */\n",
       "  color: var(--sklearn-color-text-on-default-background);\n",
       "}\n",
       "\n",
       "/* On hover, darken the color of the background */\n",
       "#sk-container-id-14 div.sk-label:hover label.sk-toggleable__label {\n",
       "  color: var(--sklearn-color-text);\n",
       "  background-color: var(--sklearn-color-unfitted-level-2);\n",
       "}\n",
       "\n",
       "/* Label box, darken color on hover, fitted */\n",
       "#sk-container-id-14 div.sk-label.fitted:hover label.sk-toggleable__label.fitted {\n",
       "  color: var(--sklearn-color-text);\n",
       "  background-color: var(--sklearn-color-fitted-level-2);\n",
       "}\n",
       "\n",
       "/* Estimator label */\n",
       "\n",
       "#sk-container-id-14 div.sk-label label {\n",
       "  font-family: monospace;\n",
       "  font-weight: bold;\n",
       "  display: inline-block;\n",
       "  line-height: 1.2em;\n",
       "}\n",
       "\n",
       "#sk-container-id-14 div.sk-label-container {\n",
       "  text-align: center;\n",
       "}\n",
       "\n",
       "/* Estimator-specific */\n",
       "#sk-container-id-14 div.sk-estimator {\n",
       "  font-family: monospace;\n",
       "  border: 1px dotted var(--sklearn-color-border-box);\n",
       "  border-radius: 0.25em;\n",
       "  box-sizing: border-box;\n",
       "  margin-bottom: 0.5em;\n",
       "  /* unfitted */\n",
       "  background-color: var(--sklearn-color-unfitted-level-0);\n",
       "}\n",
       "\n",
       "#sk-container-id-14 div.sk-estimator.fitted {\n",
       "  /* fitted */\n",
       "  background-color: var(--sklearn-color-fitted-level-0);\n",
       "}\n",
       "\n",
       "/* on hover */\n",
       "#sk-container-id-14 div.sk-estimator:hover {\n",
       "  /* unfitted */\n",
       "  background-color: var(--sklearn-color-unfitted-level-2);\n",
       "}\n",
       "\n",
       "#sk-container-id-14 div.sk-estimator.fitted:hover {\n",
       "  /* fitted */\n",
       "  background-color: var(--sklearn-color-fitted-level-2);\n",
       "}\n",
       "\n",
       "/* Specification for estimator info (e.g. \"i\" and \"?\") */\n",
       "\n",
       "/* Common style for \"i\" and \"?\" */\n",
       "\n",
       ".sk-estimator-doc-link,\n",
       "a:link.sk-estimator-doc-link,\n",
       "a:visited.sk-estimator-doc-link {\n",
       "  float: right;\n",
       "  font-size: smaller;\n",
       "  line-height: 1em;\n",
       "  font-family: monospace;\n",
       "  background-color: var(--sklearn-color-background);\n",
       "  border-radius: 1em;\n",
       "  height: 1em;\n",
       "  width: 1em;\n",
       "  text-decoration: none !important;\n",
       "  margin-left: 0.5em;\n",
       "  text-align: center;\n",
       "  /* unfitted */\n",
       "  border: var(--sklearn-color-unfitted-level-1) 1pt solid;\n",
       "  color: var(--sklearn-color-unfitted-level-1);\n",
       "}\n",
       "\n",
       ".sk-estimator-doc-link.fitted,\n",
       "a:link.sk-estimator-doc-link.fitted,\n",
       "a:visited.sk-estimator-doc-link.fitted {\n",
       "  /* fitted */\n",
       "  border: var(--sklearn-color-fitted-level-1) 1pt solid;\n",
       "  color: var(--sklearn-color-fitted-level-1);\n",
       "}\n",
       "\n",
       "/* On hover */\n",
       "div.sk-estimator:hover .sk-estimator-doc-link:hover,\n",
       ".sk-estimator-doc-link:hover,\n",
       "div.sk-label-container:hover .sk-estimator-doc-link:hover,\n",
       ".sk-estimator-doc-link:hover {\n",
       "  /* unfitted */\n",
       "  background-color: var(--sklearn-color-unfitted-level-3);\n",
       "  color: var(--sklearn-color-background);\n",
       "  text-decoration: none;\n",
       "}\n",
       "\n",
       "div.sk-estimator.fitted:hover .sk-estimator-doc-link.fitted:hover,\n",
       ".sk-estimator-doc-link.fitted:hover,\n",
       "div.sk-label-container:hover .sk-estimator-doc-link.fitted:hover,\n",
       ".sk-estimator-doc-link.fitted:hover {\n",
       "  /* fitted */\n",
       "  background-color: var(--sklearn-color-fitted-level-3);\n",
       "  color: var(--sklearn-color-background);\n",
       "  text-decoration: none;\n",
       "}\n",
       "\n",
       "/* Span, style for the box shown on hovering the info icon */\n",
       ".sk-estimator-doc-link span {\n",
       "  display: none;\n",
       "  z-index: 9999;\n",
       "  position: relative;\n",
       "  font-weight: normal;\n",
       "  right: .2ex;\n",
       "  padding: .5ex;\n",
       "  margin: .5ex;\n",
       "  width: min-content;\n",
       "  min-width: 20ex;\n",
       "  max-width: 50ex;\n",
       "  color: var(--sklearn-color-text);\n",
       "  box-shadow: 2pt 2pt 4pt #999;\n",
       "  /* unfitted */\n",
       "  background: var(--sklearn-color-unfitted-level-0);\n",
       "  border: .5pt solid var(--sklearn-color-unfitted-level-3);\n",
       "}\n",
       "\n",
       ".sk-estimator-doc-link.fitted span {\n",
       "  /* fitted */\n",
       "  background: var(--sklearn-color-fitted-level-0);\n",
       "  border: var(--sklearn-color-fitted-level-3);\n",
       "}\n",
       "\n",
       ".sk-estimator-doc-link:hover span {\n",
       "  display: block;\n",
       "}\n",
       "\n",
       "/* \"?\"-specific style due to the `<a>` HTML tag */\n",
       "\n",
       "#sk-container-id-14 a.estimator_doc_link {\n",
       "  float: right;\n",
       "  font-size: 1rem;\n",
       "  line-height: 1em;\n",
       "  font-family: monospace;\n",
       "  background-color: var(--sklearn-color-background);\n",
       "  border-radius: 1rem;\n",
       "  height: 1rem;\n",
       "  width: 1rem;\n",
       "  text-decoration: none;\n",
       "  /* unfitted */\n",
       "  color: var(--sklearn-color-unfitted-level-1);\n",
       "  border: var(--sklearn-color-unfitted-level-1) 1pt solid;\n",
       "}\n",
       "\n",
       "#sk-container-id-14 a.estimator_doc_link.fitted {\n",
       "  /* fitted */\n",
       "  border: var(--sklearn-color-fitted-level-1) 1pt solid;\n",
       "  color: var(--sklearn-color-fitted-level-1);\n",
       "}\n",
       "\n",
       "/* On hover */\n",
       "#sk-container-id-14 a.estimator_doc_link:hover {\n",
       "  /* unfitted */\n",
       "  background-color: var(--sklearn-color-unfitted-level-3);\n",
       "  color: var(--sklearn-color-background);\n",
       "  text-decoration: none;\n",
       "}\n",
       "\n",
       "#sk-container-id-14 a.estimator_doc_link.fitted:hover {\n",
       "  /* fitted */\n",
       "  background-color: var(--sklearn-color-fitted-level-3);\n",
       "}\n",
       "</style><div id=\"sk-container-id-14\" class=\"sk-top-container\"><div class=\"sk-text-repr-fallback\"><pre>RandomForestRegressor(max_depth=3)</pre><b>In a Jupyter environment, please rerun this cell to show the HTML representation or trust the notebook. <br />On GitHub, the HTML representation is unable to render, please try loading this page with nbviewer.org.</b></div><div class=\"sk-container\" hidden><div class=\"sk-item\"><div class=\"sk-estimator fitted sk-toggleable\"><input class=\"sk-toggleable__control sk-hidden--visually\" id=\"sk-estimator-id-14\" type=\"checkbox\" checked><label for=\"sk-estimator-id-14\" class=\"sk-toggleable__label fitted sk-toggleable__label-arrow\"><div><div>RandomForestRegressor</div></div><div><a class=\"sk-estimator-doc-link fitted\" rel=\"noreferrer\" target=\"_blank\" href=\"https://scikit-learn.org/1.6/modules/generated/sklearn.ensemble.RandomForestRegressor.html\">?<span>Documentation for RandomForestRegressor</span></a><span class=\"sk-estimator-doc-link fitted\">i<span>Fitted</span></span></div></label><div class=\"sk-toggleable__content fitted\"><pre>RandomForestRegressor(max_depth=3)</pre></div> </div></div></div></div>"
      ],
      "text/plain": [
       "RandomForestRegressor(max_depth=3)"
      ]
     },
     "execution_count": 127,
     "metadata": {},
     "output_type": "execute_result"
    }
   ],
   "source": [
    "# 推定された治療効果を各人ごとに求めます\n",
    "# tau_0 = reg_1.predict(df_0[[\"x\"]]) - df_0[\"Y\"]\n",
    "# tau_1 = df_1[\"Y\"] - reg_0.predict(df_1[[\"x\"]])\n",
    "\n",
    "# Issue 38ご指摘で判明：修正（2022/04/11）\n",
    "tau_0 = M1.predict(df_0[[\"x\"]]) - df_0[\"Y\"]\n",
    "tau_1 = df_1[\"Y\"] - M0.predict(df_1[[\"x\"]])\n",
    "\n",
    "\n",
    "# ATTとATUを求めるモデルを作成します\n",
    "M2 = RandomForestRegressor(max_depth=3)\n",
    "M2.fit(df_0[[\"x\"]], tau_0)\n",
    "\n",
    "M3 = RandomForestRegressor(max_depth=3)\n",
    "M3.fit(df_1[[\"x\"]], tau_1)"
   ]
  },
  {
   "cell_type": "markdown",
   "id": "99dd7ae9",
   "metadata": {},
   "source": [
    "#### ・最後に傾向スコアをロジスティック回帰したモデル$g(x)$を推定し、各人の処置効果(因果の大きさ)の推定値$\\hat{\\tau}$を求める ."
   ]
  },
  {
   "cell_type": "code",
   "execution_count": 128,
   "id": "7b138f08",
   "metadata": {},
   "outputs": [],
   "source": [
    "# 傾向スコアを求めます\n",
    "from sklearn.linear_model import LogisticRegression\n",
    "\n",
    "# 説明変数\n",
    "X = df[[\"x\"]]\n",
    "\n",
    "# 被説明変数（目的変数）\n",
    "Z = df[\"Z\"]\n",
    "\n",
    "# 回帰の実施\n",
    "g_x = LogisticRegression().fit(X, Z)\n",
    "g_x_val = g_x.predict_proba(X)\n",
    "\n",
    "# それぞれのモデルで全データの効果を予測し、傾向スコアで調整\n",
    "tau = g_x_val[:, 1]*M2.predict(df[[\"x\"]]) + g_x_val[:, 0]*M3.predict(df[[\"x\"]])"
   ]
  },
  {
   "cell_type": "code",
   "execution_count": 129,
   "id": "8aaf89c6",
   "metadata": {},
   "outputs": [
    {
     "data": {
      "text/plain": [
       "[<matplotlib.lines.Line2D at 0x76d8260f9f90>]"
      ]
     },
     "execution_count": 129,
     "metadata": {},
     "output_type": "execute_result"
    },
    {
     "name": "stderr",
     "output_type": "stream",
     "text": [
      "findfont: Font family 'IPAexGothic' not found.\n",
      "findfont: Font family 'IPAexGothic' not found.\n"
     ]
    },
    {
     "name": "stderr",
     "output_type": "stream",
     "text": [
      "findfont: Font family 'IPAexGothic' not found.\n",
      "findfont: Font family 'IPAexGothic' not found.\n",
      "findfont: Font family 'IPAexGothic' not found.\n",
      "findfont: Font family 'IPAexGothic' not found.\n",
      "findfont: Font family 'IPAexGothic' not found.\n",
      "findfont: Font family 'IPAexGothic' not found.\n",
      "findfont: Font family 'IPAexGothic' not found.\n",
      "findfont: Font family 'IPAexGothic' not found.\n",
      "findfont: Font family 'IPAexGothic' not found.\n",
      "findfont: Font family 'IPAexGothic' not found.\n",
      "findfont: Font family 'IPAexGothic' not found.\n",
      "findfont: Font family 'IPAexGothic' not found.\n",
      "findfont: Font family 'IPAexGothic' not found.\n",
      "findfont: Font family 'IPAexGothic' not found.\n",
      "findfont: Font family 'IPAexGothic' not found.\n",
      "findfont: Font family 'IPAexGothic' not found.\n",
      "findfont: Font family 'IPAexGothic' not found.\n",
      "findfont: Font family 'IPAexGothic' not found.\n",
      "findfont: Font family 'IPAexGothic' not found.\n",
      "findfont: Font family 'IPAexGothic' not found.\n",
      "findfont: Font family 'IPAexGothic' not found.\n",
      "findfont: Font family 'IPAexGothic' not found.\n",
      "findfont: Font family 'IPAexGothic' not found.\n",
      "findfont: Font family 'IPAexGothic' not found.\n",
      "findfont: Font family 'IPAexGothic' not found.\n",
      "findfont: Font family 'IPAexGothic' not found.\n",
      "findfont: Font family 'IPAexGothic' not found.\n",
      "findfont: Font family 'IPAexGothic' not found.\n",
      "findfont: Font family 'IPAexGothic' not found.\n",
      "findfont: Font family 'IPAexGothic' not found.\n",
      "findfont: Font family 'IPAexGothic' not found.\n",
      "findfont: Font family 'IPAexGothic' not found.\n",
      "findfont: Font family 'IPAexGothic' not found.\n",
      "findfont: Font family 'IPAexGothic' not found.\n",
      "findfont: Font family 'IPAexGothic' not found.\n",
      "findfont: Font family 'IPAexGothic' not found.\n",
      "findfont: Font family 'IPAexGothic' not found.\n",
      "findfont: Font family 'IPAexGothic' not found.\n",
      "findfont: Font family 'IPAexGothic' not found.\n",
      "findfont: Font family 'IPAexGothic' not found.\n",
      "findfont: Font family 'IPAexGothic' not found.\n",
      "findfont: Font family 'IPAexGothic' not found.\n",
      "findfont: Font family 'IPAexGothic' not found.\n",
      "findfont: Font family 'IPAexGothic' not found.\n",
      "findfont: Font family 'IPAexGothic' not found.\n",
      "findfont: Font family 'IPAexGothic' not found.\n",
      "findfont: Font family 'IPAexGothic' not found.\n",
      "findfont: Font family 'IPAexGothic' not found.\n",
      "findfont: Font family 'IPAexGothic' not found.\n",
      "findfont: Font family 'IPAexGothic' not found.\n",
      "findfont: Font family 'IPAexGothic' not found.\n",
      "findfont: Font family 'IPAexGothic' not found.\n",
      "findfont: Font family 'IPAexGothic' not found.\n",
      "findfont: Font family 'IPAexGothic' not found.\n",
      "findfont: Font family 'IPAexGothic' not found.\n",
      "findfont: Font family 'IPAexGothic' not found.\n",
      "findfont: Font family 'IPAexGothic' not found.\n",
      "findfont: Font family 'IPAexGothic' not found.\n",
      "findfont: Font family 'IPAexGothic' not found.\n",
      "findfont: Font family 'IPAexGothic' not found.\n",
      "findfont: Font family 'IPAexGothic' not found.\n",
      "findfont: Font family 'IPAexGothic' not found.\n",
      "findfont: Font family 'IPAexGothic' not found.\n",
      "findfont: Font family 'IPAexGothic' not found.\n"
     ]
    },
    {
     "data": {
      "image/png": "[encoded data removed]",
      "text/plain": [
       "<Figure size 640x480 with 1 Axes>"
      ]
     },
     "metadata": {},
     "output_type": "display_data"
    }
   ],
   "source": [
    "# 推定された治療効果を各人ごとに求めます\n",
    "plt.scatter(df[[\"x\"]], tau, label=\"estimated_treatment-effect\")\n",
    "\n",
    "# 正解を描画\n",
    "plt.plot(x_index, t_ans, color='black', ls='--', label='Baseline')"
   ]
  },
  {
   "cell_type": "markdown",
   "id": "34c58884",
   "metadata": {},
   "source": [
    "#### ・上の図を見ると、X-Learnerの方がT-Learnerよりも各人の研修効果の推定値がより正解の点線に収束しており、ばらつきが減っている ."
   ]
  },
  {
   "cell_type": "markdown",
   "id": "bd4de5b0",
   "metadata": {},
   "source": [
    "### ・本節では、「上司向け : 部下とのキャリア面談のポイント研修」の効果を因果推論したが、[上司の部下育成の熱心さ]変数$x$をどう測定するのかが困りどころである ."
   ]
  },
  {
   "cell_type": "markdown",
   "id": "4b220821",
   "metadata": {},
   "source": [
    "### 例えば、当該上司のそのまた上司が評価する、実際にその上司が部下育成に充てている時間をファクトとして計測するなどが考えられる ."
   ]
  },
  {
   "cell_type": "markdown",
   "id": "075554d7",
   "metadata": {},
   "source": [
    "### ・注意するべき点は、今回のケースでは実際に部下から聞くのは良くない点である ."
   ]
  },
  {
   "cell_type": "markdown",
   "id": "248fe9a8",
   "metadata": {},
   "source": [
    "### 部下に尋ねて変数$x$の値を決めるということは、[部下の面談の満足度]変数$Y$から、[上司の部下育成の熱心さ]変数$x$の方向へ因果の矢印が生まれることになる ."
   ]
  },
  {
   "cell_type": "markdown",
   "id": "9144f063",
   "metadata": {},
   "source": [
    "#### すると双方向の矢印になり、循環の関係になるので、DAGでなくなる ."
   ]
  },
  {
   "cell_type": "markdown",
   "id": "04354f70",
   "metadata": {},
   "source": [
    "### すなわち、部下に「上司は部下育成に熱心ですか？」と聞くと、[部下の面談の満足度]変数$Y$に依存した変数$x$を取得してしまうので、避けるべきである ."
   ]
  },
  {
   "cell_type": "markdown",
   "id": "2c0379dd",
   "metadata": {},
   "source": [
    "## 5-3 Doubly Robust Learningの実装"
   ]
  },
  {
   "cell_type": "markdown",
   "id": "ecb7d86b",
   "metadata": {},
   "source": [
    "#### ・Doubly Robust Learning(以後、DR-Learnerと呼ぶ)は、傾向スコアを4.3節のDR法と同じく、反実仮想(潜在的結果変数)の推定に利用し、より性能の高い機械学習モデルを構築する思想である ."
   ]
  },
  {
   "cell_type": "markdown",
   "id": "e51acb0c",
   "metadata": {},
   "source": [
    "#### ・具体的には、上司が研修を受講し$Z=1$である、とある「$i$さん」が処置を受けた場合に、キャリア面談の満足度$Y$,すなわち$Y_1^{i, \\mathrm{DR}}$を"
   ]
  },
  {
   "cell_type": "markdown",
   "id": "704e0cb5",
   "metadata": {},
   "source": [
    "$$\n",
    "Y_1^{i, \\mathrm{DR}} = M_1(x^i) + \\frac{Y^i - M_1(x^i)}{g(x^i)}\n",
    "$$"
   ]
  },
  {
   "cell_type": "markdown",
   "id": "68e4ca27",
   "metadata": {},
   "source": [
    "#### とする .　ここで、$M_1$は介入を受けた集団($Z^i=1$)で構築した満足度$Y^i$を推定するモデル、$x^i$は「$i$さん」の属性情報(今回は「$i$さん」の上司の部下育成の熱心度)、そして$g(x)$は$Z^i=1$となる傾向スコアを推定するモデルである ."
   ]
  },
  {
   "cell_type": "markdown",
   "id": "f6f60089",
   "metadata": {},
   "source": [
    "#### ・この式の気持ちとしては、$Y^i$を$Y^i_1$とみなすには、個別の誤差が乗っているので、それを少しでも緩和したい、というものになる ."
   ]
  },
  {
   "cell_type": "markdown",
   "id": "b6e0e824",
   "metadata": {},
   "source": [
    "#### なお、反実仮想は、$Y_0^{i, \\mathrm{DR}} = M_0(x^i)$として求める .　よって、「$i$さん」のITEは"
   ]
  },
  {
   "cell_type": "markdown",
   "id": "cc84d95e",
   "metadata": {},
   "source": [
    "$$\n",
    "Y_1^{i, \\mathrm{DR}} - Y_0^{i, \\mathrm{DR}}\n",
    "$$"
   ]
  },
  {
   "cell_type": "markdown",
   "id": "886f59b2",
   "metadata": {},
   "source": [
    "#### となる ."
   ]
  },
  {
   "cell_type": "markdown",
   "id": "4541e522",
   "metadata": {},
   "source": [
    "#### ・同様に、処置を受けていない人のITEは、$Y_0^{i, \\mathrm{DR}}$が"
   ]
  },
  {
   "cell_type": "markdown",
   "id": "cef6ca5e",
   "metadata": {},
   "source": [
    "$$\n",
    "Y_0^{i, \\mathrm{DR}} = M_0(x^i) + \\frac{Y^i - M_0(x^i)}{1 - g(x^i)}\n",
    "$$"
   ]
  },
  {
   "cell_type": "markdown",
   "id": "00cf22c2",
   "metadata": {},
   "source": [
    "#### となり、$Y_1^{i, \\mathrm{DR}}$は$M_1(x^i)$である .　ITEは$Y_1^{i, \\mathrm{DR}} - Y_0^{i, \\mathrm{DR}}$となる ."
   ]
  },
  {
   "cell_type": "markdown",
   "id": "f4fe6bd0",
   "metadata": {},
   "source": [
    "#### ・DR-Learnerではこうして介入を受けた集団($Z^i=1$)で求めたITEと介入を受けていない集団($Z^i=0$)で求めたITEを使用し、$x^i$からITEを推論する1つの機械学習モデル$M_{DR}$を最後に作成して、因果効果を推論する ."
   ]
  },
  {
   "cell_type": "markdown",
   "id": "4f76f209",
   "metadata": {},
   "source": [
    "## DR-Learnerの実装"
   ]
  },
  {
   "cell_type": "markdown",
   "id": "5ccaac71",
   "metadata": {},
   "source": [
    "#### ・本節では、機械学習モデル$M_0$,$M_1$,$M_{DR}$を全てランダムフォレストで作成することとする .　$M_0$,$M_1$は5.2節で解説したT-Learnerと同じになる ."
   ]
  },
  {
   "cell_type": "markdown",
   "id": "746dea05",
   "metadata": {},
   "source": [
    "### プログラム実行前などの設定"
   ]
  },
  {
   "cell_type": "code",
   "execution_count": 130,
   "id": "87d8f090",
   "metadata": {},
   "outputs": [],
   "source": [
    "# 乱数のシードを設定\n",
    "import random\n",
    "import numpy as np\n",
    "\n",
    "np.random.seed(1234)\n",
    "random.seed(1234)"
   ]
  },
  {
   "cell_type": "code",
   "execution_count": 131,
   "id": "19be4b96",
   "metadata": {},
   "outputs": [],
   "source": [
    "# 使用するパッケージ（ライブラリと関数）を定義\n",
    "# 標準正規分布の生成用\n",
    "from numpy.random import *\n",
    "\n",
    "# グラフの描画用\n",
    "import matplotlib.pyplot as plt\n",
    "\n",
    "# SciPy 平均0、分散1に正規化（標準化）関数\n",
    "import scipy.stats\n",
    "\n",
    "# シグモイド関数をimport\n",
    "from scipy.special import expit\n",
    "\n",
    "# その他\n",
    "import pandas as pd"
   ]
  },
  {
   "cell_type": "markdown",
   "id": "32e1afff",
   "metadata": {},
   "source": [
    "### データの作成"
   ]
  },
  {
   "cell_type": "code",
   "execution_count": 132,
   "id": "084fa9b0",
   "metadata": {},
   "outputs": [
    {
     "data": {
      "text/plain": [
       "<matplotlib.collections.PathCollection at 0x76d825b4bb10>"
      ]
     },
     "execution_count": 132,
     "metadata": {},
     "output_type": "execute_result"
    },
    {
     "name": "stderr",
     "output_type": "stream",
     "text": [
      "findfont: Font family 'IPAexGothic' not found.\n",
      "findfont: Font family 'IPAexGothic' not found.\n",
      "findfont: Font family 'IPAexGothic' not found.\n",
      "findfont: Font family 'IPAexGothic' not found.\n",
      "findfont: Font family 'IPAexGothic' not found.\n",
      "findfont: Font family 'IPAexGothic' not found.\n",
      "findfont: Font family 'IPAexGothic' not found.\n",
      "findfont: Font family 'IPAexGothic' not found.\n",
      "findfont: Font family 'IPAexGothic' not found.\n",
      "findfont: Font family 'IPAexGothic' not found.\n",
      "findfont: Font family 'IPAexGothic' not found.\n",
      "findfont: Font family 'IPAexGothic' not found.\n",
      "findfont: Font family 'IPAexGothic' not found.\n",
      "findfont: Font family 'IPAexGothic' not found.\n",
      "findfont: Font family 'IPAexGothic' not found.\n",
      "findfont: Font family 'IPAexGothic' not found.\n",
      "findfont: Font family 'IPAexGothic' not found.\n",
      "findfont: Font family 'IPAexGothic' not found.\n",
      "findfont: Font family 'IPAexGothic' not found.\n",
      "findfont: Font family 'IPAexGothic' not found.\n",
      "findfont: Font family 'IPAexGothic' not found.\n",
      "findfont: Font family 'IPAexGothic' not found.\n",
      "findfont: Font family 'IPAexGothic' not found.\n",
      "findfont: Font family 'IPAexGothic' not found.\n",
      "findfont: Font family 'IPAexGothic' not found.\n",
      "findfont: Font family 'IPAexGothic' not found.\n",
      "findfont: Font family 'IPAexGothic' not found.\n",
      "findfont: Font family 'IPAexGothic' not found.\n",
      "findfont: Font family 'IPAexGothic' not found.\n",
      "findfont: Font family 'IPAexGothic' not found.\n",
      "findfont: Font family 'IPAexGothic' not found.\n",
      "findfont: Font family 'IPAexGothic' not found.\n",
      "findfont: Font family 'IPAexGothic' not found.\n",
      "findfont: Font family 'IPAexGothic' not found.\n",
      "findfont: Font family 'IPAexGothic' not found.\n",
      "findfont: Font family 'IPAexGothic' not found.\n",
      "findfont: Font family 'IPAexGothic' not found.\n",
      "findfont: Font family 'IPAexGothic' not found.\n",
      "findfont: Font family 'IPAexGothic' not found.\n",
      "findfont: Font family 'IPAexGothic' not found.\n",
      "findfont: Font family 'IPAexGothic' not found.\n",
      "findfont: Font family 'IPAexGothic' not found.\n",
      "findfont: Font family 'IPAexGothic' not found.\n",
      "findfont: Font family 'IPAexGothic' not found.\n",
      "findfont: Font family 'IPAexGothic' not found.\n",
      "findfont: Font family 'IPAexGothic' not found.\n",
      "findfont: Font family 'IPAexGothic' not found.\n",
      "findfont: Font family 'IPAexGothic' not found.\n",
      "findfont: Font family 'IPAexGothic' not found.\n",
      "findfont: Font family 'IPAexGothic' not found.\n",
      "findfont: Font family 'IPAexGothic' not found.\n",
      "findfont: Font family 'IPAexGothic' not found.\n",
      "findfont: Font family 'IPAexGothic' not found.\n",
      "findfont: Font family 'IPAexGothic' not found.\n",
      "findfont: Font family 'IPAexGothic' not found.\n",
      "findfont: Font family 'IPAexGothic' not found.\n",
      "findfont: Font family 'IPAexGothic' not found.\n",
      "findfont: Font family 'IPAexGothic' not found.\n",
      "findfont: Font family 'IPAexGothic' not found.\n",
      "findfont: Font family 'IPAexGothic' not found.\n",
      "findfont: Font family 'IPAexGothic' not found.\n",
      "findfont: Font family 'IPAexGothic' not found.\n"
     ]
    },
    {
     "data": {
      "image/png": "[encoded data removed]",
      "text/plain": [
       "<Figure size 640x480 with 1 Axes>"
      ]
     },
     "metadata": {},
     "output_type": "display_data"
    }
   ],
   "source": [
    "# データ数\n",
    "num_data = 500\n",
    "\n",
    "# 部下育成への熱心さ\n",
    "x = np.random.uniform(low=-1, high=1, size=num_data)  # -1から1の一様乱数\n",
    "\n",
    "# 上司が「上司向け：部下とのキャリア面談のポイント研修」に参加したかどうか\n",
    "e_z = randn(num_data)  # ノイズの生成\n",
    "z_prob = expit(5.0*x+5*e_z)  # xの効果が反対になっていたのを修正Issue：#18\n",
    "Z = np.array([])\n",
    "\n",
    "# 上司が「上司向け：部下とのキャリア面談のポイント研修」に参加したかどうか\n",
    "for i in range(num_data):\n",
    "    Z_i = np.random.choice(2, size=1, p=[1-z_prob[i], z_prob[i]])[0]\n",
    "    Z = np.append(Z, Z_i)\n",
    "\n",
    "# 介入効果の非線形性：部下育成の熱心さxの値に応じて段階的に変化\n",
    "t = np.zeros(num_data)\n",
    "for i in range(num_data):\n",
    "    if x[i] < 0:\n",
    "        t[i] = 0.5\n",
    "    elif x[i] >= 0 and x[i] < 0.5:\n",
    "        t[i] = 0.7\n",
    "    elif x[i] >= 0.5:\n",
    "        t[i] = 1.0\n",
    "\n",
    "e_y = randn(num_data)\n",
    "Y = 2.0 + t*Z + 0.3*x + 0.1*e_y \n",
    "\n",
    "# 介入効果を図で確認\n",
    "plt.scatter(x, t, label=\"treatment-effect\")"
   ]
  },
  {
   "cell_type": "markdown",
   "id": "1c85914c",
   "metadata": {},
   "source": [
    "### データをまとめた表を作成し、可視化する"
   ]
  },
  {
   "cell_type": "code",
   "execution_count": 133,
   "id": "60ad7295",
   "metadata": {},
   "outputs": [
    {
     "data": {
      "text/html": [
       "<div>\n",
       "<style scoped>\n",
       "    .dataframe tbody tr th:only-of-type {\n",
       "        vertical-align: middle;\n",
       "    }\n",
       "\n",
       "    .dataframe tbody tr th {\n",
       "        vertical-align: top;\n",
       "    }\n",
       "\n",
       "    .dataframe thead th {\n",
       "        text-align: right;\n",
       "    }\n",
       "</style>\n",
       "<table border=\"1\" class=\"dataframe\">\n",
       "  <thead>\n",
       "    <tr style=\"text-align: right;\">\n",
       "      <th></th>\n",
       "      <th>x</th>\n",
       "      <th>Z</th>\n",
       "      <th>t</th>\n",
       "      <th>Y</th>\n",
       "    </tr>\n",
       "  </thead>\n",
       "  <tbody>\n",
       "    <tr>\n",
       "      <th>0</th>\n",
       "      <td>-0.616961</td>\n",
       "      <td>0.0</td>\n",
       "      <td>0.5</td>\n",
       "      <td>1.803183</td>\n",
       "    </tr>\n",
       "    <tr>\n",
       "      <th>1</th>\n",
       "      <td>0.244218</td>\n",
       "      <td>1.0</td>\n",
       "      <td>0.7</td>\n",
       "      <td>2.668873</td>\n",
       "    </tr>\n",
       "    <tr>\n",
       "      <th>2</th>\n",
       "      <td>-0.124545</td>\n",
       "      <td>0.0</td>\n",
       "      <td>0.5</td>\n",
       "      <td>2.193123</td>\n",
       "    </tr>\n",
       "    <tr>\n",
       "      <th>3</th>\n",
       "      <td>0.570717</td>\n",
       "      <td>1.0</td>\n",
       "      <td>1.0</td>\n",
       "      <td>3.245229</td>\n",
       "    </tr>\n",
       "    <tr>\n",
       "      <th>4</th>\n",
       "      <td>0.559952</td>\n",
       "      <td>1.0</td>\n",
       "      <td>1.0</td>\n",
       "      <td>3.139868</td>\n",
       "    </tr>\n",
       "  </tbody>\n",
       "</table>\n",
       "</div>"
      ],
      "text/plain": [
       "          x    Z    t         Y\n",
       "0 -0.616961  0.0  0.5  1.803183\n",
       "1  0.244218  1.0  0.7  2.668873\n",
       "2 -0.124545  0.0  0.5  2.193123\n",
       "3  0.570717  1.0  1.0  3.245229\n",
       "4  0.559952  1.0  1.0  3.139868"
      ]
     },
     "execution_count": 133,
     "metadata": {},
     "output_type": "execute_result"
    }
   ],
   "source": [
    "df = pd.DataFrame({'x': x,\n",
    "                   'Z': Z,\n",
    "                   't': t,\n",
    "                   'Y': Y,\n",
    "                   })\n",
    "\n",
    "#先頭を表示\n",
    "df.head()  "
   ]
  },
  {
   "cell_type": "code",
   "execution_count": 134,
   "id": "b7ca97c5",
   "metadata": {},
   "outputs": [
    {
     "data": {
      "text/plain": [
       "<matplotlib.collections.PathCollection at 0x76d825bdefd0>"
      ]
     },
     "execution_count": 134,
     "metadata": {},
     "output_type": "execute_result"
    },
    {
     "name": "stderr",
     "output_type": "stream",
     "text": [
      "findfont: Font family 'IPAexGothic' not found.\n",
      "findfont: Font family 'IPAexGothic' not found.\n",
      "findfont: Font family 'IPAexGothic' not found.\n",
      "findfont: Font family 'IPAexGothic' not found.\n",
      "findfont: Font family 'IPAexGothic' not found.\n",
      "findfont: Font family 'IPAexGothic' not found.\n",
      "findfont: Font family 'IPAexGothic' not found.\n",
      "findfont: Font family 'IPAexGothic' not found.\n",
      "findfont: Font family 'IPAexGothic' not found.\n",
      "findfont: Font family 'IPAexGothic' not found.\n",
      "findfont: Font family 'IPAexGothic' not found.\n",
      "findfont: Font family 'IPAexGothic' not found.\n",
      "findfont: Font family 'IPAexGothic' not found.\n",
      "findfont: Font family 'IPAexGothic' not found.\n",
      "findfont: Font family 'IPAexGothic' not found.\n",
      "findfont: Font family 'IPAexGothic' not found.\n",
      "findfont: Font family 'IPAexGothic' not found.\n",
      "findfont: Font family 'IPAexGothic' not found.\n",
      "findfont: Font family 'IPAexGothic' not found.\n",
      "findfont: Font family 'IPAexGothic' not found.\n",
      "findfont: Font family 'IPAexGothic' not found.\n",
      "findfont: Font family 'IPAexGothic' not found.\n",
      "findfont: Font family 'IPAexGothic' not found.\n",
      "findfont: Font family 'IPAexGothic' not found.\n",
      "findfont: Font family 'IPAexGothic' not found.\n",
      "findfont: Font family 'IPAexGothic' not found.\n",
      "findfont: Font family 'IPAexGothic' not found.\n",
      "findfont: Font family 'IPAexGothic' not found.\n",
      "findfont: Font family 'IPAexGothic' not found.\n",
      "findfont: Font family 'IPAexGothic' not found.\n",
      "findfont: Font family 'IPAexGothic' not found.\n",
      "findfont: Font family 'IPAexGothic' not found.\n",
      "findfont: Font family 'IPAexGothic' not found.\n",
      "findfont: Font family 'IPAexGothic' not found.\n",
      "findfont: Font family 'IPAexGothic' not found.\n",
      "findfont: Font family 'IPAexGothic' not found.\n",
      "findfont: Font family 'IPAexGothic' not found.\n",
      "findfont: Font family 'IPAexGothic' not found.\n",
      "findfont: Font family 'IPAexGothic' not found.\n",
      "findfont: Font family 'IPAexGothic' not found.\n",
      "findfont: Font family 'IPAexGothic' not found.\n",
      "findfont: Font family 'IPAexGothic' not found.\n",
      "findfont: Font family 'IPAexGothic' not found.\n",
      "findfont: Font family 'IPAexGothic' not found.\n",
      "findfont: Font family 'IPAexGothic' not found.\n",
      "findfont: Font family 'IPAexGothic' not found.\n",
      "findfont: Font family 'IPAexGothic' not found.\n",
      "findfont: Font family 'IPAexGothic' not found.\n",
      "findfont: Font family 'IPAexGothic' not found.\n",
      "findfont: Font family 'IPAexGothic' not found.\n",
      "findfont: Font family 'IPAexGothic' not found.\n",
      "findfont: Font family 'IPAexGothic' not found.\n",
      "findfont: Font family 'IPAexGothic' not found.\n",
      "findfont: Font family 'IPAexGothic' not found.\n",
      "findfont: Font family 'IPAexGothic' not found.\n",
      "findfont: Font family 'IPAexGothic' not found.\n",
      "findfont: Font family 'IPAexGothic' not found.\n",
      "findfont: Font family 'IPAexGothic' not found.\n"
     ]
    },
    {
     "data": {
      "image/png": "[encoded data removed]",
      "text/plain": [
       "<Figure size 640x480 with 1 Axes>"
      ]
     },
     "metadata": {},
     "output_type": "display_data"
    }
   ],
   "source": [
    "plt.scatter(x, Y)"
   ]
  },
  {
   "cell_type": "markdown",
   "id": "0a890626",
   "metadata": {},
   "source": [
    "#### ・まずは、$M_0$,$M_1$を求める ."
   ]
  },
  {
   "cell_type": "code",
   "execution_count": 135,
   "id": "cff37d2c",
   "metadata": {},
   "outputs": [
    {
     "name": "stderr",
     "output_type": "stream",
     "text": [
      "/home/taihei/因果分析ゼミ/myenv/lib/python3.13/site-packages/sklearn/base.py:1389: DataConversionWarning: A column-vector y was passed when a 1d array was expected. Please change the shape of y to (n_samples,), for example using ravel().\n",
      "  return fit_method(estimator, *args, **kwargs)\n",
      "/home/taihei/因果分析ゼミ/myenv/lib/python3.13/site-packages/sklearn/base.py:1389: DataConversionWarning: A column-vector y was passed when a 1d array was expected. Please change the shape of y to (n_samples,), for example using ravel().\n",
      "  return fit_method(estimator, *args, **kwargs)\n"
     ]
    },
    {
     "data": {
      "text/html": [
       "<style>#sk-container-id-15 {\n",
       "  /* Definition of color scheme common for light and dark mode */\n",
       "  --sklearn-color-text: #000;\n",
       "  --sklearn-color-text-muted: #666;\n",
       "  --sklearn-color-line: gray;\n",
       "  /* Definition of color scheme for unfitted estimators */\n",
       "  --sklearn-color-unfitted-level-0: #fff5e6;\n",
       "  --sklearn-color-unfitted-level-1: #f6e4d2;\n",
       "  --sklearn-color-unfitted-level-2: #ffe0b3;\n",
       "  --sklearn-color-unfitted-level-3: chocolate;\n",
       "  /* Definition of color scheme for fitted estimators */\n",
       "  --sklearn-color-fitted-level-0: #f0f8ff;\n",
       "  --sklearn-color-fitted-level-1: #d4ebff;\n",
       "  --sklearn-color-fitted-level-2: #b3dbfd;\n",
       "  --sklearn-color-fitted-level-3: cornflowerblue;\n",
       "\n",
       "  /* Specific color for light theme */\n",
       "  --sklearn-color-text-on-default-background: var(--sg-text-color, var(--theme-code-foreground, var(--jp-content-font-color1, black)));\n",
       "  --sklearn-color-background: var(--sg-background-color, var(--theme-background, var(--jp-layout-color0, white)));\n",
       "  --sklearn-color-border-box: var(--sg-text-color, var(--theme-code-foreground, var(--jp-content-font-color1, black)));\n",
       "  --sklearn-color-icon: #696969;\n",
       "\n",
       "  @media (prefers-color-scheme: dark) {\n",
       "    /* Redefinition of color scheme for dark theme */\n",
       "    --sklearn-color-text-on-default-background: var(--sg-text-color, var(--theme-code-foreground, var(--jp-content-font-color1, white)));\n",
       "    --sklearn-color-background: var(--sg-background-color, var(--theme-background, var(--jp-layout-color0, #111)));\n",
       "    --sklearn-color-border-box: var(--sg-text-color, var(--theme-code-foreground, var(--jp-content-font-color1, white)));\n",
       "    --sklearn-color-icon: #878787;\n",
       "  }\n",
       "}\n",
       "\n",
       "#sk-container-id-15 {\n",
       "  color: var(--sklearn-color-text);\n",
       "}\n",
       "\n",
       "#sk-container-id-15 pre {\n",
       "  padding: 0;\n",
       "}\n",
       "\n",
       "#sk-container-id-15 input.sk-hidden--visually {\n",
       "  border: 0;\n",
       "  clip: rect(1px 1px 1px 1px);\n",
       "  clip: rect(1px, 1px, 1px, 1px);\n",
       "  height: 1px;\n",
       "  margin: -1px;\n",
       "  overflow: hidden;\n",
       "  padding: 0;\n",
       "  position: absolute;\n",
       "  width: 1px;\n",
       "}\n",
       "\n",
       "#sk-container-id-15 div.sk-dashed-wrapped {\n",
       "  border: 1px dashed var(--sklearn-color-line);\n",
       "  margin: 0 0.4em 0.5em 0.4em;\n",
       "  box-sizing: border-box;\n",
       "  padding-bottom: 0.4em;\n",
       "  background-color: var(--sklearn-color-background);\n",
       "}\n",
       "\n",
       "#sk-container-id-15 div.sk-container {\n",
       "  /* jupyter's `normalize.less` sets `[hidden] { display: none; }`\n",
       "     but bootstrap.min.css set `[hidden] { display: none !important; }`\n",
       "     so we also need the `!important` here to be able to override the\n",
       "     default hidden behavior on the sphinx rendered scikit-learn.org.\n",
       "     See: https://github.com/scikit-learn/scikit-learn/issues/21755 */\n",
       "  display: inline-block !important;\n",
       "  position: relative;\n",
       "}\n",
       "\n",
       "#sk-container-id-15 div.sk-text-repr-fallback {\n",
       "  display: none;\n",
       "}\n",
       "\n",
       "div.sk-parallel-item,\n",
       "div.sk-serial,\n",
       "div.sk-item {\n",
       "  /* draw centered vertical line to link estimators */\n",
       "  background-image: linear-gradient(var(--sklearn-color-text-on-default-background), var(--sklearn-color-text-on-default-background));\n",
       "  background-size: 2px 100%;\n",
       "  background-repeat: no-repeat;\n",
       "  background-position: center center;\n",
       "}\n",
       "\n",
       "/* Parallel-specific style estimator block */\n",
       "\n",
       "#sk-container-id-15 div.sk-parallel-item::after {\n",
       "  content: \"\";\n",
       "  width: 100%;\n",
       "  border-bottom: 2px solid var(--sklearn-color-text-on-default-background);\n",
       "  flex-grow: 1;\n",
       "}\n",
       "\n",
       "#sk-container-id-15 div.sk-parallel {\n",
       "  display: flex;\n",
       "  align-items: stretch;\n",
       "  justify-content: center;\n",
       "  background-color: var(--sklearn-color-background);\n",
       "  position: relative;\n",
       "}\n",
       "\n",
       "#sk-container-id-15 div.sk-parallel-item {\n",
       "  display: flex;\n",
       "  flex-direction: column;\n",
       "}\n",
       "\n",
       "#sk-container-id-15 div.sk-parallel-item:first-child::after {\n",
       "  align-self: flex-end;\n",
       "  width: 50%;\n",
       "}\n",
       "\n",
       "#sk-container-id-15 div.sk-parallel-item:last-child::after {\n",
       "  align-self: flex-start;\n",
       "  width: 50%;\n",
       "}\n",
       "\n",
       "#sk-container-id-15 div.sk-parallel-item:only-child::after {\n",
       "  width: 0;\n",
       "}\n",
       "\n",
       "/* Serial-specific style estimator block */\n",
       "\n",
       "#sk-container-id-15 div.sk-serial {\n",
       "  display: flex;\n",
       "  flex-direction: column;\n",
       "  align-items: center;\n",
       "  background-color: var(--sklearn-color-background);\n",
       "  padding-right: 1em;\n",
       "  padding-left: 1em;\n",
       "}\n",
       "\n",
       "\n",
       "/* Toggleable style: style used for estimator/Pipeline/ColumnTransformer box that is\n",
       "clickable and can be expanded/collapsed.\n",
       "- Pipeline and ColumnTransformer use this feature and define the default style\n",
       "- Estimators will overwrite some part of the style using the `sk-estimator` class\n",
       "*/\n",
       "\n",
       "/* Pipeline and ColumnTransformer style (default) */\n",
       "\n",
       "#sk-container-id-15 div.sk-toggleable {\n",
       "  /* Default theme specific background. It is overwritten whether we have a\n",
       "  specific estimator or a Pipeline/ColumnTransformer */\n",
       "  background-color: var(--sklearn-color-background);\n",
       "}\n",
       "\n",
       "/* Toggleable label */\n",
       "#sk-container-id-15 label.sk-toggleable__label {\n",
       "  cursor: pointer;\n",
       "  display: flex;\n",
       "  width: 100%;\n",
       "  margin-bottom: 0;\n",
       "  padding: 0.5em;\n",
       "  box-sizing: border-box;\n",
       "  text-align: center;\n",
       "  align-items: start;\n",
       "  justify-content: space-between;\n",
       "  gap: 0.5em;\n",
       "}\n",
       "\n",
       "#sk-container-id-15 label.sk-toggleable__label .caption {\n",
       "  font-size: 0.6rem;\n",
       "  font-weight: lighter;\n",
       "  color: var(--sklearn-color-text-muted);\n",
       "}\n",
       "\n",
       "#sk-container-id-15 label.sk-toggleable__label-arrow:before {\n",
       "  /* Arrow on the left of the label */\n",
       "  content: \"▸\";\n",
       "  float: left;\n",
       "  margin-right: 0.25em;\n",
       "  color: var(--sklearn-color-icon);\n",
       "}\n",
       "\n",
       "#sk-container-id-15 label.sk-toggleable__label-arrow:hover:before {\n",
       "  color: var(--sklearn-color-text);\n",
       "}\n",
       "\n",
       "/* Toggleable content - dropdown */\n",
       "\n",
       "#sk-container-id-15 div.sk-toggleable__content {\n",
       "  max-height: 0;\n",
       "  max-width: 0;\n",
       "  overflow: hidden;\n",
       "  text-align: left;\n",
       "  /* unfitted */\n",
       "  background-color: var(--sklearn-color-unfitted-level-0);\n",
       "}\n",
       "\n",
       "#sk-container-id-15 div.sk-toggleable__content.fitted {\n",
       "  /* fitted */\n",
       "  background-color: var(--sklearn-color-fitted-level-0);\n",
       "}\n",
       "\n",
       "#sk-container-id-15 div.sk-toggleable__content pre {\n",
       "  margin: 0.2em;\n",
       "  border-radius: 0.25em;\n",
       "  color: var(--sklearn-color-text);\n",
       "  /* unfitted */\n",
       "  background-color: var(--sklearn-color-unfitted-level-0);\n",
       "}\n",
       "\n",
       "#sk-container-id-15 div.sk-toggleable__content.fitted pre {\n",
       "  /* unfitted */\n",
       "  background-color: var(--sklearn-color-fitted-level-0);\n",
       "}\n",
       "\n",
       "#sk-container-id-15 input.sk-toggleable__control:checked~div.sk-toggleable__content {\n",
       "  /* Expand drop-down */\n",
       "  max-height: 200px;\n",
       "  max-width: 100%;\n",
       "  overflow: auto;\n",
       "}\n",
       "\n",
       "#sk-container-id-15 input.sk-toggleable__control:checked~label.sk-toggleable__label-arrow:before {\n",
       "  content: \"▾\";\n",
       "}\n",
       "\n",
       "/* Pipeline/ColumnTransformer-specific style */\n",
       "\n",
       "#sk-container-id-15 div.sk-label input.sk-toggleable__control:checked~label.sk-toggleable__label {\n",
       "  color: var(--sklearn-color-text);\n",
       "  background-color: var(--sklearn-color-unfitted-level-2);\n",
       "}\n",
       "\n",
       "#sk-container-id-15 div.sk-label.fitted input.sk-toggleable__control:checked~label.sk-toggleable__label {\n",
       "  background-color: var(--sklearn-color-fitted-level-2);\n",
       "}\n",
       "\n",
       "/* Estimator-specific style */\n",
       "\n",
       "/* Colorize estimator box */\n",
       "#sk-container-id-15 div.sk-estimator input.sk-toggleable__control:checked~label.sk-toggleable__label {\n",
       "  /* unfitted */\n",
       "  background-color: var(--sklearn-color-unfitted-level-2);\n",
       "}\n",
       "\n",
       "#sk-container-id-15 div.sk-estimator.fitted input.sk-toggleable__control:checked~label.sk-toggleable__label {\n",
       "  /* fitted */\n",
       "  background-color: var(--sklearn-color-fitted-level-2);\n",
       "}\n",
       "\n",
       "#sk-container-id-15 div.sk-label label.sk-toggleable__label,\n",
       "#sk-container-id-15 div.sk-label label {\n",
       "  /* The background is the default theme color */\n",
       "  color: var(--sklearn-color-text-on-default-background);\n",
       "}\n",
       "\n",
       "/* On hover, darken the color of the background */\n",
       "#sk-container-id-15 div.sk-label:hover label.sk-toggleable__label {\n",
       "  color: var(--sklearn-color-text);\n",
       "  background-color: var(--sklearn-color-unfitted-level-2);\n",
       "}\n",
       "\n",
       "/* Label box, darken color on hover, fitted */\n",
       "#sk-container-id-15 div.sk-label.fitted:hover label.sk-toggleable__label.fitted {\n",
       "  color: var(--sklearn-color-text);\n",
       "  background-color: var(--sklearn-color-fitted-level-2);\n",
       "}\n",
       "\n",
       "/* Estimator label */\n",
       "\n",
       "#sk-container-id-15 div.sk-label label {\n",
       "  font-family: monospace;\n",
       "  font-weight: bold;\n",
       "  display: inline-block;\n",
       "  line-height: 1.2em;\n",
       "}\n",
       "\n",
       "#sk-container-id-15 div.sk-label-container {\n",
       "  text-align: center;\n",
       "}\n",
       "\n",
       "/* Estimator-specific */\n",
       "#sk-container-id-15 div.sk-estimator {\n",
       "  font-family: monospace;\n",
       "  border: 1px dotted var(--sklearn-color-border-box);\n",
       "  border-radius: 0.25em;\n",
       "  box-sizing: border-box;\n",
       "  margin-bottom: 0.5em;\n",
       "  /* unfitted */\n",
       "  background-color: var(--sklearn-color-unfitted-level-0);\n",
       "}\n",
       "\n",
       "#sk-container-id-15 div.sk-estimator.fitted {\n",
       "  /* fitted */\n",
       "  background-color: var(--sklearn-color-fitted-level-0);\n",
       "}\n",
       "\n",
       "/* on hover */\n",
       "#sk-container-id-15 div.sk-estimator:hover {\n",
       "  /* unfitted */\n",
       "  background-color: var(--sklearn-color-unfitted-level-2);\n",
       "}\n",
       "\n",
       "#sk-container-id-15 div.sk-estimator.fitted:hover {\n",
       "  /* fitted */\n",
       "  background-color: var(--sklearn-color-fitted-level-2);\n",
       "}\n",
       "\n",
       "/* Specification for estimator info (e.g. \"i\" and \"?\") */\n",
       "\n",
       "/* Common style for \"i\" and \"?\" */\n",
       "\n",
       ".sk-estimator-doc-link,\n",
       "a:link.sk-estimator-doc-link,\n",
       "a:visited.sk-estimator-doc-link {\n",
       "  float: right;\n",
       "  font-size: smaller;\n",
       "  line-height: 1em;\n",
       "  font-family: monospace;\n",
       "  background-color: var(--sklearn-color-background);\n",
       "  border-radius: 1em;\n",
       "  height: 1em;\n",
       "  width: 1em;\n",
       "  text-decoration: none !important;\n",
       "  margin-left: 0.5em;\n",
       "  text-align: center;\n",
       "  /* unfitted */\n",
       "  border: var(--sklearn-color-unfitted-level-1) 1pt solid;\n",
       "  color: var(--sklearn-color-unfitted-level-1);\n",
       "}\n",
       "\n",
       ".sk-estimator-doc-link.fitted,\n",
       "a:link.sk-estimator-doc-link.fitted,\n",
       "a:visited.sk-estimator-doc-link.fitted {\n",
       "  /* fitted */\n",
       "  border: var(--sklearn-color-fitted-level-1) 1pt solid;\n",
       "  color: var(--sklearn-color-fitted-level-1);\n",
       "}\n",
       "\n",
       "/* On hover */\n",
       "div.sk-estimator:hover .sk-estimator-doc-link:hover,\n",
       ".sk-estimator-doc-link:hover,\n",
       "div.sk-label-container:hover .sk-estimator-doc-link:hover,\n",
       ".sk-estimator-doc-link:hover {\n",
       "  /* unfitted */\n",
       "  background-color: var(--sklearn-color-unfitted-level-3);\n",
       "  color: var(--sklearn-color-background);\n",
       "  text-decoration: none;\n",
       "}\n",
       "\n",
       "div.sk-estimator.fitted:hover .sk-estimator-doc-link.fitted:hover,\n",
       ".sk-estimator-doc-link.fitted:hover,\n",
       "div.sk-label-container:hover .sk-estimator-doc-link.fitted:hover,\n",
       ".sk-estimator-doc-link.fitted:hover {\n",
       "  /* fitted */\n",
       "  background-color: var(--sklearn-color-fitted-level-3);\n",
       "  color: var(--sklearn-color-background);\n",
       "  text-decoration: none;\n",
       "}\n",
       "\n",
       "/* Span, style for the box shown on hovering the info icon */\n",
       ".sk-estimator-doc-link span {\n",
       "  display: none;\n",
       "  z-index: 9999;\n",
       "  position: relative;\n",
       "  font-weight: normal;\n",
       "  right: .2ex;\n",
       "  padding: .5ex;\n",
       "  margin: .5ex;\n",
       "  width: min-content;\n",
       "  min-width: 20ex;\n",
       "  max-width: 50ex;\n",
       "  color: var(--sklearn-color-text);\n",
       "  box-shadow: 2pt 2pt 4pt #999;\n",
       "  /* unfitted */\n",
       "  background: var(--sklearn-color-unfitted-level-0);\n",
       "  border: .5pt solid var(--sklearn-color-unfitted-level-3);\n",
       "}\n",
       "\n",
       ".sk-estimator-doc-link.fitted span {\n",
       "  /* fitted */\n",
       "  background: var(--sklearn-color-fitted-level-0);\n",
       "  border: var(--sklearn-color-fitted-level-3);\n",
       "}\n",
       "\n",
       ".sk-estimator-doc-link:hover span {\n",
       "  display: block;\n",
       "}\n",
       "\n",
       "/* \"?\"-specific style due to the `<a>` HTML tag */\n",
       "\n",
       "#sk-container-id-15 a.estimator_doc_link {\n",
       "  float: right;\n",
       "  font-size: 1rem;\n",
       "  line-height: 1em;\n",
       "  font-family: monospace;\n",
       "  background-color: var(--sklearn-color-background);\n",
       "  border-radius: 1rem;\n",
       "  height: 1rem;\n",
       "  width: 1rem;\n",
       "  text-decoration: none;\n",
       "  /* unfitted */\n",
       "  color: var(--sklearn-color-unfitted-level-1);\n",
       "  border: var(--sklearn-color-unfitted-level-1) 1pt solid;\n",
       "}\n",
       "\n",
       "#sk-container-id-15 a.estimator_doc_link.fitted {\n",
       "  /* fitted */\n",
       "  border: var(--sklearn-color-fitted-level-1) 1pt solid;\n",
       "  color: var(--sklearn-color-fitted-level-1);\n",
       "}\n",
       "\n",
       "/* On hover */\n",
       "#sk-container-id-15 a.estimator_doc_link:hover {\n",
       "  /* unfitted */\n",
       "  background-color: var(--sklearn-color-unfitted-level-3);\n",
       "  color: var(--sklearn-color-background);\n",
       "  text-decoration: none;\n",
       "}\n",
       "\n",
       "#sk-container-id-15 a.estimator_doc_link.fitted:hover {\n",
       "  /* fitted */\n",
       "  background-color: var(--sklearn-color-fitted-level-3);\n",
       "}\n",
       "</style><div id=\"sk-container-id-15\" class=\"sk-top-container\"><div class=\"sk-text-repr-fallback\"><pre>RandomForestRegressor(max_depth=3)</pre><b>In a Jupyter environment, please rerun this cell to show the HTML representation or trust the notebook. <br />On GitHub, the HTML representation is unable to render, please try loading this page with nbviewer.org.</b></div><div class=\"sk-container\" hidden><div class=\"sk-item\"><div class=\"sk-estimator fitted sk-toggleable\"><input class=\"sk-toggleable__control sk-hidden--visually\" id=\"sk-estimator-id-15\" type=\"checkbox\" checked><label for=\"sk-estimator-id-15\" class=\"sk-toggleable__label fitted sk-toggleable__label-arrow\"><div><div>RandomForestRegressor</div></div><div><a class=\"sk-estimator-doc-link fitted\" rel=\"noreferrer\" target=\"_blank\" href=\"https://scikit-learn.org/1.6/modules/generated/sklearn.ensemble.RandomForestRegressor.html\">?<span>Documentation for RandomForestRegressor</span></a><span class=\"sk-estimator-doc-link fitted\">i<span>Fitted</span></span></div></label><div class=\"sk-toggleable__content fitted\"><pre>RandomForestRegressor(max_depth=3)</pre></div> </div></div></div></div>"
      ],
      "text/plain": [
       "RandomForestRegressor(max_depth=3)"
      ]
     },
     "execution_count": 135,
     "metadata": {},
     "output_type": "execute_result"
    }
   ],
   "source": [
    "# ランダムフォレストモデルを作成\n",
    "from sklearn.ensemble import RandomForestRegressor\n",
    "\n",
    "# 集団を2つに分ける\n",
    "df_0 = df[df.Z == 0.0]  # 介入を受けていない集団\n",
    "df_1 = df[df.Z == 1.0]  # 介入を受けた集団\n",
    "\n",
    "# 介入を受けていないモデル\n",
    "M_0 = RandomForestRegressor(max_depth=3)\n",
    "M_0.fit(df_0[[\"x\"]], df_0[[\"Y\"]])\n",
    "\n",
    "# 介入を受けたモデル\n",
    "M_1 = RandomForestRegressor(max_depth=3)\n",
    "M_1.fit(df_1[[\"x\"]], df_1[[\"Y\"]])"
   ]
  },
  {
   "cell_type": "markdown",
   "id": "c4583226",
   "metadata": {},
   "source": [
    "#### ・次に、傾向スコア(propensity score)を推定する$g(x)$をロジスティック回帰で求める ."
   ]
  },
  {
   "cell_type": "code",
   "execution_count": 136,
   "id": "28ac92c0",
   "metadata": {},
   "outputs": [],
   "source": [
    "# 傾向スコアを求めます\n",
    "from sklearn.linear_model import LogisticRegression\n",
    "\n",
    "# 説明変数\n",
    "X = df[[\"x\"]]\n",
    "\n",
    "# 被説明変数（目的変数）\n",
    "Z = df[\"Z\"]\n",
    "\n",
    "# 回帰の実施\n",
    "g_x = LogisticRegression().fit(X, Z)\n",
    "g_x_val = g_x.predict_proba(X)"
   ]
  },
  {
   "cell_type": "code",
   "execution_count": 137,
   "id": "63892165",
   "metadata": {},
   "outputs": [
    {
     "name": "stderr",
     "output_type": "stream",
     "text": [
      "/tmp/ipykernel_1501657/3022560860.py:4: SettingWithCopyWarning: \n",
      "A value is trying to be set on a copy of a slice from a DataFrame.\n",
      "Try using .loc[row_indexer,col_indexer] = value instead\n",
      "\n",
      "See the caveats in the documentation: https://pandas.pydata.org/pandas-docs/stable/user_guide/indexing.html#returning-a-view-versus-a-copy\n",
      "  df_1[\"ITE\"] = Y_1 - M_0.predict(df_1[[\"x\"]])\n",
      "/tmp/ipykernel_1501657/3022560860.py:9: SettingWithCopyWarning: \n",
      "A value is trying to be set on a copy of a slice from a DataFrame.\n",
      "Try using .loc[row_indexer,col_indexer] = value instead\n",
      "\n",
      "See the caveats in the documentation: https://pandas.pydata.org/pandas-docs/stable/user_guide/indexing.html#returning-a-view-versus-a-copy\n",
      "  df_0[\"ITE\"] = M_1.predict(df_0[[\"x\"]]) - Y_0\n"
     ]
    },
    {
     "data": {
      "text/html": [
       "<div>\n",
       "<style scoped>\n",
       "    .dataframe tbody tr th:only-of-type {\n",
       "        vertical-align: middle;\n",
       "    }\n",
       "\n",
       "    .dataframe tbody tr th {\n",
       "        vertical-align: top;\n",
       "    }\n",
       "\n",
       "    .dataframe thead th {\n",
       "        text-align: right;\n",
       "    }\n",
       "</style>\n",
       "<table border=\"1\" class=\"dataframe\">\n",
       "  <thead>\n",
       "    <tr style=\"text-align: right;\">\n",
       "      <th></th>\n",
       "      <th>x</th>\n",
       "      <th>Z</th>\n",
       "      <th>t</th>\n",
       "      <th>Y</th>\n",
       "      <th>ITE</th>\n",
       "    </tr>\n",
       "  </thead>\n",
       "  <tbody>\n",
       "    <tr>\n",
       "      <th>0</th>\n",
       "      <td>-0.616961</td>\n",
       "      <td>0.0</td>\n",
       "      <td>0.5</td>\n",
       "      <td>1.803183</td>\n",
       "      <td>0.514193</td>\n",
       "    </tr>\n",
       "    <tr>\n",
       "      <th>2</th>\n",
       "      <td>-0.124545</td>\n",
       "      <td>0.0</td>\n",
       "      <td>0.5</td>\n",
       "      <td>2.193123</td>\n",
       "      <td>0.081816</td>\n",
       "    </tr>\n",
       "    <tr>\n",
       "      <th>5</th>\n",
       "      <td>-0.454815</td>\n",
       "      <td>0.0</td>\n",
       "      <td>0.5</td>\n",
       "      <td>1.973293</td>\n",
       "      <td>0.333947</td>\n",
       "    </tr>\n",
       "    <tr>\n",
       "      <th>6</th>\n",
       "      <td>-0.447071</td>\n",
       "      <td>0.0</td>\n",
       "      <td>0.5</td>\n",
       "      <td>1.953387</td>\n",
       "      <td>0.364890</td>\n",
       "    </tr>\n",
       "    <tr>\n",
       "      <th>9</th>\n",
       "      <td>0.751865</td>\n",
       "      <td>0.0</td>\n",
       "      <td>1.0</td>\n",
       "      <td>2.289369</td>\n",
       "      <td>0.776162</td>\n",
       "    </tr>\n",
       "  </tbody>\n",
       "</table>\n",
       "</div>"
      ],
      "text/plain": [
       "          x    Z    t         Y       ITE\n",
       "0 -0.616961  0.0  0.5  1.803183  0.514193\n",
       "2 -0.124545  0.0  0.5  2.193123  0.081816\n",
       "5 -0.454815  0.0  0.5  1.973293  0.333947\n",
       "6 -0.447071  0.0  0.5  1.953387  0.364890\n",
       "9  0.751865  0.0  1.0  2.289369  0.776162"
      ]
     },
     "execution_count": 137,
     "metadata": {},
     "output_type": "execute_result"
    }
   ],
   "source": [
    "# 処置群\n",
    "Y_1 = M_1.predict(df_1[[\"x\"]]) + (df_1[\"Y\"] - M_1.predict(df_1[[\"x\"]])) / \\\n",
    "    g_x.predict_proba(df_1[[\"x\"]])[:, 1]  # [:,1]はZ=1側の確率\n",
    "df_1[\"ITE\"] = Y_1 - M_0.predict(df_1[[\"x\"]])\n",
    "\n",
    "# 非処置群\n",
    "Y_0 = M_0.predict(df_0[[\"x\"]]) + (df_0[\"Y\"] - M_0.predict(df_0[[\"x\"]])) / \\\n",
    "    g_x.predict_proba(df_0[[\"x\"]])[:, 0]  # [:,0]はZ=0側の確率\n",
    "df_0[\"ITE\"] = M_1.predict(df_0[[\"x\"]]) - Y_0\n",
    "\n",
    "# 表を結合する\n",
    "df_DR = pd.concat([df_0, df_1])\n",
    "df_DR.head()"
   ]
  },
  {
   "cell_type": "markdown",
   "id": "fe0bfc9a",
   "metadata": {},
   "source": [
    "#### ・構築した3つのモデルからDoubly Robustに基づいたITEを求める .　そしてITEを求めるモデル$M_{DR}$を作成する .　最後にモデル$M_{DR}$から各人ごとに推定された処置効果を求める ."
   ]
  },
  {
   "cell_type": "code",
   "execution_count": 138,
   "id": "02b40fed",
   "metadata": {},
   "outputs": [
    {
     "name": "stderr",
     "output_type": "stream",
     "text": [
      "/home/taihei/因果分析ゼミ/myenv/lib/python3.13/site-packages/sklearn/base.py:1389: DataConversionWarning: A column-vector y was passed when a 1d array was expected. Please change the shape of y to (n_samples,), for example using ravel().\n",
      "  return fit_method(estimator, *args, **kwargs)\n"
     ]
    },
    {
     "data": {
      "text/plain": [
       "[<matplotlib.lines.Line2D at 0x76d825a3ae90>]"
      ]
     },
     "execution_count": 138,
     "metadata": {},
     "output_type": "execute_result"
    },
    {
     "name": "stderr",
     "output_type": "stream",
     "text": [
      "findfont: Font family 'IPAexGothic' not found.\n",
      "findfont: Font family 'IPAexGothic' not found.\n",
      "findfont: Font family 'IPAexGothic' not found.\n",
      "findfont: Font family 'IPAexGothic' not found.\n",
      "findfont: Font family 'IPAexGothic' not found.\n",
      "findfont: Font family 'IPAexGothic' not found.\n",
      "findfont: Font family 'IPAexGothic' not found.\n",
      "findfont: Font family 'IPAexGothic' not found.\n",
      "findfont: Font family 'IPAexGothic' not found.\n",
      "findfont: Font family 'IPAexGothic' not found.\n",
      "findfont: Font family 'IPAexGothic' not found.\n",
      "findfont: Font family 'IPAexGothic' not found.\n",
      "findfont: Font family 'IPAexGothic' not found.\n",
      "findfont: Font family 'IPAexGothic' not found.\n",
      "findfont: Font family 'IPAexGothic' not found.\n",
      "findfont: Font family 'IPAexGothic' not found.\n",
      "findfont: Font family 'IPAexGothic' not found.\n",
      "findfont: Font family 'IPAexGothic' not found.\n",
      "findfont: Font family 'IPAexGothic' not found.\n",
      "findfont: Font family 'IPAexGothic' not found.\n",
      "findfont: Font family 'IPAexGothic' not found.\n",
      "findfont: Font family 'IPAexGothic' not found.\n",
      "findfont: Font family 'IPAexGothic' not found.\n",
      "findfont: Font family 'IPAexGothic' not found.\n",
      "findfont: Font family 'IPAexGothic' not found.\n",
      "findfont: Font family 'IPAexGothic' not found.\n",
      "findfont: Font family 'IPAexGothic' not found.\n",
      "findfont: Font family 'IPAexGothic' not found.\n",
      "findfont: Font family 'IPAexGothic' not found.\n",
      "findfont: Font family 'IPAexGothic' not found.\n",
      "findfont: Font family 'IPAexGothic' not found.\n",
      "findfont: Font family 'IPAexGothic' not found.\n",
      "findfont: Font family 'IPAexGothic' not found.\n",
      "findfont: Font family 'IPAexGothic' not found.\n",
      "findfont: Font family 'IPAexGothic' not found.\n",
      "findfont: Font family 'IPAexGothic' not found.\n",
      "findfont: Font family 'IPAexGothic' not found.\n",
      "findfont: Font family 'IPAexGothic' not found.\n",
      "findfont: Font family 'IPAexGothic' not found.\n",
      "findfont: Font family 'IPAexGothic' not found.\n",
      "findfont: Font family 'IPAexGothic' not found.\n",
      "findfont: Font family 'IPAexGothic' not found.\n",
      "findfont: Font family 'IPAexGothic' not found.\n",
      "findfont: Font family 'IPAexGothic' not found.\n",
      "findfont: Font family 'IPAexGothic' not found.\n",
      "findfont: Font family 'IPAexGothic' not found.\n",
      "findfont: Font family 'IPAexGothic' not found.\n",
      "findfont: Font family 'IPAexGothic' not found.\n",
      "findfont: Font family 'IPAexGothic' not found.\n",
      "findfont: Font family 'IPAexGothic' not found.\n",
      "findfont: Font family 'IPAexGothic' not found.\n",
      "findfont: Font family 'IPAexGothic' not found.\n",
      "findfont: Font family 'IPAexGothic' not found.\n",
      "findfont: Font family 'IPAexGothic' not found.\n",
      "findfont: Font family 'IPAexGothic' not found.\n",
      "findfont: Font family 'IPAexGothic' not found.\n",
      "findfont: Font family 'IPAexGothic' not found.\n",
      "findfont: Font family 'IPAexGothic' not found.\n",
      "findfont: Font family 'IPAexGothic' not found.\n",
      "findfont: Font family 'IPAexGothic' not found.\n",
      "findfont: Font family 'IPAexGothic' not found.\n",
      "findfont: Font family 'IPAexGothic' not found.\n",
      "findfont: Font family 'IPAexGothic' not found.\n",
      "findfont: Font family 'IPAexGothic' not found.\n",
      "findfont: Font family 'IPAexGothic' not found.\n",
      "findfont: Font family 'IPAexGothic' not found.\n",
      "findfont: Font family 'IPAexGothic' not found.\n",
      "findfont: Font family 'IPAexGothic' not found.\n",
      "findfont: Font family 'IPAexGothic' not found.\n",
      "findfont: Font family 'IPAexGothic' not found.\n"
     ]
    },
    {
     "data": {
      "image/png": "[encoded data removed]",
      "text/plain": [
       "<Figure size 640x480 with 1 Axes>"
      ]
     },
     "metadata": {},
     "output_type": "display_data"
    }
   ],
   "source": [
    "# モデルM_DRを構築し、各人の治療効果をモデルから求める\n",
    "\n",
    "# モデルM_DR\n",
    "M_DR = RandomForestRegressor(max_depth=3)\n",
    "M_DR.fit(df_DR[[\"x\"]], df_DR[[\"ITE\"]])\n",
    "\n",
    "\n",
    "# 推定された治療効果を各人ごとに求めます\n",
    "t_estimated = M_DR.predict(df_DR[[\"x\"]])\n",
    "plt.scatter(df_DR[[\"x\"]], t_estimated,\n",
    "            label=\"estimated_treatment-effect\")\n",
    "\n",
    "# 正解のグラフを作成\n",
    "x_index = np.arange(-1, 1, 0.01)\n",
    "t_ans = np.zeros(len(x_index))\n",
    "for i in range(len(x_index)):\n",
    "    if x_index[i] < 0:\n",
    "        t_ans[i] = 0.5\n",
    "    elif x_index[i] >= 0 and x_index[i] < 0.5:\n",
    "        t_ans[i] = 0.7\n",
    "    elif x_index[i] >= 0.5:\n",
    "        t_ans[i] = 1.0\n",
    "\n",
    "\n",
    "# 正解を描画\n",
    "plt.plot(x_index, t_ans, color='black', ls='--', label='Baseline')"
   ]
  },
  {
   "cell_type": "markdown",
   "id": "197a48ec",
   "metadata": {},
   "source": [
    "### ・本節でも解説と実装を簡素化するために、ランダムフォレストのハイパーパラメータmax_depthについては決め打ちで適当に設定している ."
   ]
  },
  {
   "cell_type": "markdown",
   "id": "139f0612",
   "metadata": {},
   "source": [
    "### ・本来はデータを訓練データと検証データに分ける、もしくはn-foldクロスバリデーションするなどして、適切なハイパーパラメータを設定した性能の良い(すなわち、検証データでの性能が高く、未知のデータでも性能が高くなりそうな = 汎化性能が高そう)なモデルを構築して使用している ."
   ]
  },
  {
   "cell_type": "markdown",
   "id": "f69e76e8",
   "metadata": {},
   "source": [
    "## 次回"
   ]
  },
  {
   "cell_type": "markdown",
   "id": "899f4c57",
   "metadata": {},
   "source": [
    "#### ・第6章から『第2部 因果探索』に入る ."
   ]
  },
  {
   "cell_type": "markdown",
   "id": "7793d965",
   "metadata": {},
   "source": [
    "#### ・観測したデータの因果関係が自明ではない場合、すなわち、変数間の因果の矢印の方向や有無が分からない状態において、観測データから因果ダイアグラムを求める手法について学ぶ ."
   ]
  }
 ],
 "metadata": {
  "kernelspec": {
   "display_name": "myenv",
   "language": "python",
   "name": "python3"
  },
  "language_info": {
   "codemirror_mode": {
    "name": "ipython",
    "version": 3
   },
   "file_extension": ".py",
   "mimetype": "text/x-python",
   "name": "python",
   "nbconvert_exporter": "python",
   "pygments_lexer": "ipython3",
   "version": "3.13.3"
  }
 },
 "nbformat": 4,
 "nbformat_minor": 5
}
