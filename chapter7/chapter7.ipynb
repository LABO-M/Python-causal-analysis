{
 "cells": [
  {
   "cell_type": "markdown",
   "id": "58df826a",
   "metadata": {},
   "source": [
    "# 第7章 ベイジアンネットワークの実装"
   ]
  },
  {
   "cell_type": "markdown",
   "id": "9862eac4",
   "metadata": {},
   "source": [
    "#### ・本章では、ベイジアンネットワークを活用した因果探索について解説、実装する ."
   ]
  },
  {
   "cell_type": "markdown",
   "id": "8ac00f71",
   "metadata": {},
   "source": [
    "## 7-1 ベイジアンネットワークとは"
   ]
  },
  {
   "cell_type": "markdown",
   "id": "7fe642e9",
   "metadata": {},
   "source": [
    "#### ・第3章で解説したグラフ表現(因果ダイアグラム)によるネットワーク図をベースとした、変数間の関係性を表す手法 ."
   ]
  },
  {
   "cell_type": "markdown",
   "id": "6f891dc0",
   "metadata": {},
   "source": [
    "#### そのため、有向(Directed)で非循環(Acyclic)なグラフであるDAG(Directed Acyclic Graph)の概念、及び因果推論においてどの変数を考慮すべきかを判断するd分離の概念は、ベイジアンネットワークでも共通である ."
   ]
  },
  {
   "cell_type": "markdown",
   "id": "54ac541f",
   "metadata": {},
   "source": [
    "#### 非循環ではないネットワークを扱う手法もあるが、今回はDAGである因果ダイアグラムを対象とする ."
   ]
  },
  {
   "cell_type": "markdown",
   "id": "ab39e9e3",
   "metadata": {},
   "source": [
    "## スケルトンとPDAG(Partially DAG)"
   ]
  },
  {
   "cell_type": "markdown",
   "id": "431b227b",
   "metadata": {},
   "source": [
    "#### ・スケルトンとは骨格構造のことであり、DAGにおいて、因果の方向を示す矢印がないグラフを示す ."
   ]
  },
  {
   "cell_type": "markdown",
   "id": "a3474ed4",
   "metadata": {},
   "source": [
    "#### スケルトンは、最終的なDAGにおいてどのノードとどのノードの間に繋がり(エッジ)が存在するのかの情報を与えてくれる ."
   ]
  },
  {
   "cell_type": "markdown",
   "id": "301ff82f",
   "metadata": {},
   "source": [
    "#### ・PDAGはスケルトンとDAGの中間にあたる存在である .　一部の辺(エッジ)には因果の方向を示す矢印があるが、その他のエッジは無向となっているグラフを指す ."
   ]
  },
  {
   "cell_type": "markdown",
   "id": "d1134fae",
   "metadata": {},
   "source": [
    "![alt text](pict1.png)"
   ]
  },
  {
   "cell_type": "markdown",
   "id": "39528da8",
   "metadata": {},
   "source": [
    "## ベイジアンネットワークのノード間の関係性"
   ]
  },
  {
   "cell_type": "markdown",
   "id": "ce9062b2",
   "metadata": {},
   "source": [
    "#### ・第6章のLiNGAMにおいては、構造方程式モデルを用意して、数式を利用して変数間の関係性を表現した ."
   ]
  },
  {
   "cell_type": "markdown",
   "id": "b2470bf4",
   "metadata": {},
   "source": [
    "#### ・ベイジアンネットワークでは構造方程式を用いず、因果関係のあるノード間の関係性を、\"条件付き確率表(CPT : Conditional Probabilities Tables)と呼ばれる手法を利用する ."
   ]
  },
  {
   "cell_type": "markdown",
   "id": "671d4ee4",
   "metadata": {},
   "source": [
    "#### ・前出の図7.1.1における、変数$x_1$,$x_2$,$x_3$のCPTを例に示す(図7.1.2).　ここで変数$x_1$,$x_2$,$x_3$はすべて0か1となる2値変数とする ."
   ]
  },
  {
   "cell_type": "markdown",
   "id": "1da791bb",
   "metadata": {},
   "source": [
    "![alt text](pict2.png)"
   ]
  },
  {
   "cell_type": "markdown",
   "id": "89aab051",
   "metadata": {},
   "source": [
    "#### ・図7.1.2では、変数$x_1$は確率60%で0、40%で1の値となる .　変数$x_2$は確率40%で0、60%で1の値となる ."
   ]
  },
  {
   "cell_type": "markdown",
   "id": "fcf5653e",
   "metadata": {},
   "source": [
    "#### 変数$x_3$は変数$x_1$、変数$x_2$から因果の矢印が伸びており、因果関係にあるため、変数$x_1$と変数$x_2$の値に応じて値が変わる ."
   ]
  },
  {
   "cell_type": "markdown",
   "id": "77d0310c",
   "metadata": {},
   "source": [
    "#### 変数$x_3$がとる値の確率は$P(x_3=0|x_1,x_2)$で示される .　$x_3$のみが記載されているが、$x_3$の値は0か1なので、0のときの確率を1.0から引き算したものが$x_3 = 1$の確率となる ."
   ]
  },
  {
   "cell_type": "markdown",
   "id": "07d81a58",
   "metadata": {},
   "source": [
    "#### そのため、$P(x_3=1|x_1,x_2)$の表は、図7.1.2では掲載を省略している ."
   ]
  },
  {
   "cell_type": "markdown",
   "id": "c40e6a60",
   "metadata": {},
   "source": [
    "#### ・例えば、$x_1=0$、$x_2=1$の場合、$x_3$は30%の確率で0、70%の確率で1になるということを示している ."
   ]
  },
  {
   "cell_type": "markdown",
   "id": "98c683a4",
   "metadata": {},
   "source": [
    "#### ・ベイジアンネットワークにおいては変数間の関係を条件付き確率表CPTで表せるよう、変数を離散値として扱うことが一般的である ."
   ]
  },
  {
   "cell_type": "markdown",
   "id": "96777b0b",
   "metadata": {},
   "source": [
    "#### 連続値として扱う手法も存在しますが、本書では変数を離散値に限る ."
   ]
  },
  {
   "cell_type": "markdown",
   "id": "ebb92bef",
   "metadata": {},
   "source": [
    "#### 仮に変数が連続値である場合には、ビンで区切ることで離散値に変換し、離散変数として扱う(連続変数の離散化については7.5節で扱う) ."
   ]
  },
  {
   "cell_type": "markdown",
   "id": "636eae37",
   "metadata": {},
   "source": [
    "## 7-2 ネットワークの当てはまりの良さを測る方法"
   ]
  },
  {
   "cell_type": "markdown",
   "id": "a7ffaed5",
   "metadata": {},
   "source": [
    "#### ・ベイジアンネットワークにおいて、データに対するネットワークの当てはまりの良さを示す指標は複数存在する ."
   ]
  },
  {
   "cell_type": "markdown",
   "id": "9b9d36d1",
   "metadata": {},
   "source": [
    "#### AIC(Akaike information criterion)\n",
    "#### BIC(Bayesian information criterion)\n",
    "#### MDL符号(minimum description length)\n",
    "#### BDe(Bayesian Dirichlet equivalent)\n",
    "#### BDeu(Bayesian Dirichlet equivalent uniform)\n",
    "#### K2"
   ]
  },
  {
   "cell_type": "markdown",
   "id": "5cf3b28b",
   "metadata": {},
   "source": [
    "#### ・本書ではBICを取り上げ、その概要を解説する .　BICは以下の式で計算される ."
   ]
  },
  {
   "cell_type": "markdown",
   "id": "d789dcd6",
   "metadata": {},
   "source": [
    "$$\n",
    "BIC_m = -2\\, l_m(\\theta_m \\mid X) + k_m (\\log N)\n",
    "$$"
   ]
  },
  {
   "cell_type": "markdown",
   "id": "b1501fdb",
   "metadata": {},
   "source": [
    "#### ・ここで下付き文字のmはモデルを表す .　すなわち、現在対象としているベイジアンネットワークのDAGです .　$X$は実測されたデータを示す ."
   ]
  },
  {
   "cell_type": "markdown",
   "id": "59a4218e",
   "metadata": {},
   "source": [
    "#### $k_m$はモデルのパラメータ数を、$N$は実測されたデータ数を示す .　$l_m(\\theta_m \\mid X)$はデータ$X$のもとでのモデルの対数尤度である ."
   ]
  },
  {
   "cell_type": "markdown",
   "id": "fc4f3061",
   "metadata": {},
   "source": [
    "#### そして、$\\theta_m $がベイジアンネットワークの構造、すなわち条件付き確率表CPTを示す ."
   ]
  },
  {
   "cell_type": "markdown",
   "id": "2f402465",
   "metadata": {},
   "source": [
    "![alt text](pict3.png)"
   ]
  },
  {
   "cell_type": "markdown",
   "id": "5cb64742",
   "metadata": {},
   "source": [
    "#### ・図7.2.1の左側の図がモデルmを示す .　モデルのパラメータ数$k_m$はCPT(条件付き確率表)の行数となり6である .　"
   ]
  },
  {
   "cell_type": "markdown",
   "id": "7d97fb02",
   "metadata": {},
   "source": [
    "#### 図7.2.1ではCPTは8行ありますが、すべて2値変数なので、0の確率$P(0)$が分かれば、1の確率は\"$1.0-P(0)$\"である ."
   ]
  },
  {
   "cell_type": "markdown",
   "id": "1e670523",
   "metadata": {},
   "source": [
    "#### そのため、変数$x_1$と変数$x_2$の表はパラメータ数としては1行より、パラメータ数は6となる ."
   ]
  },
  {
   "cell_type": "markdown",
   "id": "2efeef2d",
   "metadata": {},
   "source": [
    "### プログラム実行前の設定"
   ]
  },
  {
   "cell_type": "code",
   "execution_count": 1,
   "id": "6f4a5c7d",
   "metadata": {},
   "outputs": [],
   "source": [
    "# 乱数のシードを設定\n",
    "import random\n",
    "import numpy as np\n",
    "\n",
    "np.random.seed(1234)\n",
    "random.seed(1234)"
   ]
  },
  {
   "cell_type": "code",
   "execution_count": 2,
   "id": "11e9be63",
   "metadata": {},
   "outputs": [],
   "source": [
    "# 使用するパッケージ（ライブラリと関数）を定義\n",
    "from numpy.random import *\n",
    "import pandas as pd"
   ]
  },
  {
   "cell_type": "markdown",
   "id": "173a81ce",
   "metadata": {},
   "source": [
    "#### ・次に、図7.2.1のベイジアンネットワークから、例えば以下の表7.2.1に示す10個のデータ$X$が観測されたとする ."
   ]
  },
  {
   "cell_type": "markdown",
   "id": "7bb9f5e6",
   "metadata": {},
   "source": [
    "![alt text](pict4.png)"
   ]
  },
  {
   "cell_type": "markdown",
   "id": "3cbcabea",
   "metadata": {},
   "source": [
    "#### 表7.2.1のデータ$X$を生成したコードは以下のようになる ."
   ]
  },
  {
   "cell_type": "code",
   "execution_count": 3,
   "id": "65fc843d",
   "metadata": {},
   "outputs": [
    {
     "data": {
      "text/html": [
       "<div>\n",
       "<style scoped>\n",
       "    .dataframe tbody tr th:only-of-type {\n",
       "        vertical-align: middle;\n",
       "    }\n",
       "\n",
       "    .dataframe tbody tr th {\n",
       "        vertical-align: top;\n",
       "    }\n",
       "\n",
       "    .dataframe thead th {\n",
       "        text-align: right;\n",
       "    }\n",
       "</style>\n",
       "<table border=\"1\" class=\"dataframe\">\n",
       "  <thead>\n",
       "    <tr style=\"text-align: right;\">\n",
       "      <th></th>\n",
       "      <th>x1</th>\n",
       "      <th>x2</th>\n",
       "    </tr>\n",
       "  </thead>\n",
       "  <tbody>\n",
       "    <tr>\n",
       "      <th>0</th>\n",
       "      <td>0</td>\n",
       "      <td>0</td>\n",
       "    </tr>\n",
       "    <tr>\n",
       "      <th>1</th>\n",
       "      <td>1</td>\n",
       "      <td>1</td>\n",
       "    </tr>\n",
       "    <tr>\n",
       "      <th>2</th>\n",
       "      <td>0</td>\n",
       "      <td>1</td>\n",
       "    </tr>\n",
       "    <tr>\n",
       "      <th>3</th>\n",
       "      <td>1</td>\n",
       "      <td>1</td>\n",
       "    </tr>\n",
       "    <tr>\n",
       "      <th>4</th>\n",
       "      <td>1</td>\n",
       "      <td>0</td>\n",
       "    </tr>\n",
       "  </tbody>\n",
       "</table>\n",
       "</div>"
      ],
      "text/plain": [
       "   x1  x2\n",
       "0   0   0\n",
       "1   1   1\n",
       "2   0   1\n",
       "3   1   1\n",
       "4   1   0"
      ]
     },
     "execution_count": 3,
     "metadata": {},
     "output_type": "execute_result"
    }
   ],
   "source": [
    "# データ数\n",
    "num_data = 10\n",
    "\n",
    "# x1：0か1の値をnum_data個生成、0の確率は0.6、1の確率は0.4\n",
    "x1 = np.random.choice([0, 1], num_data, p=[0.6, 0.4])\n",
    "\n",
    "# x2：0か1の値をnum_data個生成、0の確率は0.4、1の確率は0.6\n",
    "x2 = np.random.choice([0, 1], num_data, p=[0.4, 0.6])\n",
    "\n",
    "# 2変数で表にする\n",
    "df = pd.DataFrame({'x1': x1,\n",
    "                   'x2': x2,\n",
    "                   })\n",
    "\n",
    "# 表の先頭を表示\n",
    "df.head()"
   ]
  },
  {
   "cell_type": "markdown",
   "id": "9181b2f8",
   "metadata": {},
   "source": [
    "#### 上記で変数$x_1$と変数$x_2$を生成したのち、その値に応じて、変数$x_3$を生成する ."
   ]
  },
  {
   "cell_type": "code",
   "execution_count": 4,
   "id": "98cc6ac3",
   "metadata": {},
   "outputs": [
    {
     "data": {
      "text/html": [
       "<div>\n",
       "<style scoped>\n",
       "    .dataframe tbody tr th:only-of-type {\n",
       "        vertical-align: middle;\n",
       "    }\n",
       "\n",
       "    .dataframe tbody tr th {\n",
       "        vertical-align: top;\n",
       "    }\n",
       "\n",
       "    .dataframe thead th {\n",
       "        text-align: right;\n",
       "    }\n",
       "</style>\n",
       "<table border=\"1\" class=\"dataframe\">\n",
       "  <thead>\n",
       "    <tr style=\"text-align: right;\">\n",
       "      <th></th>\n",
       "      <th>x1</th>\n",
       "      <th>x2</th>\n",
       "      <th>x3</th>\n",
       "    </tr>\n",
       "  </thead>\n",
       "  <tbody>\n",
       "    <tr>\n",
       "      <th>0</th>\n",
       "      <td>0</td>\n",
       "      <td>0</td>\n",
       "      <td>1</td>\n",
       "    </tr>\n",
       "    <tr>\n",
       "      <th>1</th>\n",
       "      <td>1</td>\n",
       "      <td>1</td>\n",
       "      <td>1</td>\n",
       "    </tr>\n",
       "    <tr>\n",
       "      <th>2</th>\n",
       "      <td>0</td>\n",
       "      <td>1</td>\n",
       "      <td>0</td>\n",
       "    </tr>\n",
       "    <tr>\n",
       "      <th>3</th>\n",
       "      <td>1</td>\n",
       "      <td>1</td>\n",
       "      <td>1</td>\n",
       "    </tr>\n",
       "    <tr>\n",
       "      <th>4</th>\n",
       "      <td>1</td>\n",
       "      <td>0</td>\n",
       "      <td>1</td>\n",
       "    </tr>\n",
       "    <tr>\n",
       "      <th>5</th>\n",
       "      <td>0</td>\n",
       "      <td>1</td>\n",
       "      <td>1</td>\n",
       "    </tr>\n",
       "    <tr>\n",
       "      <th>6</th>\n",
       "      <td>0</td>\n",
       "      <td>1</td>\n",
       "      <td>1</td>\n",
       "    </tr>\n",
       "    <tr>\n",
       "      <th>7</th>\n",
       "      <td>1</td>\n",
       "      <td>0</td>\n",
       "      <td>1</td>\n",
       "    </tr>\n",
       "    <tr>\n",
       "      <th>8</th>\n",
       "      <td>1</td>\n",
       "      <td>1</td>\n",
       "      <td>1</td>\n",
       "    </tr>\n",
       "    <tr>\n",
       "      <th>9</th>\n",
       "      <td>1</td>\n",
       "      <td>1</td>\n",
       "      <td>1</td>\n",
       "    </tr>\n",
       "  </tbody>\n",
       "</table>\n",
       "</div>"
      ],
      "text/plain": [
       "   x1  x2  x3\n",
       "0   0   0   1\n",
       "1   1   1   1\n",
       "2   0   1   0\n",
       "3   1   1   1\n",
       "4   1   0   1\n",
       "5   0   1   1\n",
       "6   0   1   1\n",
       "7   1   0   1\n",
       "8   1   1   1\n",
       "9   1   1   1"
      ]
     },
     "execution_count": 4,
     "metadata": {},
     "output_type": "execute_result"
    }
   ],
   "source": [
    "# 変数x3：0か1の値をnum_data個生成する\n",
    "# (x1,x2)= (0,0)のとき、0の確率は0.2\n",
    "# (x1,x2)= (1,0)のとき、0の確率は0.3\n",
    "# (x1,x2)= (0,1)のとき、0の確率は0.4\n",
    "# (x1,x2)= (1,1)のとき、0の確率は0.1\n",
    "\n",
    "x3 = []\n",
    "for i in range(num_data):\n",
    "  if x1[i] == 0 and x2[i] == 0:\n",
    "    x3_value = np.random.choice([0, 1], 1, p=[0.2, 0.8])\n",
    "    x3.append(x3_value[0])  # x3はリストになっているので、0番目の要素を取り出して追加\n",
    "  elif x1[i] == 0 and x2[i] == 1:\n",
    "    x3_value = np.random.choice([0, 1], 1, p=[0.3, 0.7])\n",
    "    x3.append(x3_value[0])\n",
    "  elif x1[i] == 1 and x2[i] == 0:\n",
    "    x3_value = np.random.choice([0, 1], 1, p=[0.4, 0.6])\n",
    "    x3.append(x3_value[0])\n",
    "  elif x1[i] == 1 and x2[i] == 1:\n",
    "    x3_value = np.random.choice([0, 1], 1, p=[0.1, 0.9])\n",
    "    x3.append(x3_value[0])\n",
    "\n",
    "df[\"x3\"] = x3\n",
    "\n",
    "# データXの表示\n",
    "df"
   ]
  },
  {
   "cell_type": "markdown",
   "id": "dfc09046",
   "metadata": {},
   "source": [
    "#### ・ここで、注意点として、ベイジアンネットワークのモデルmはDAGの形を規定し、変数間の因果の有無、因果の方向性は指定するが、CPT(条件付き確率表)の具体的な確率値、例えば$P(x_1=0)$の値などは規定しない ."
   ]
  },
  {
   "cell_type": "markdown",
   "id": "0ff3ed50",
   "metadata": {},
   "source": [
    "#### このCPTの具体的な確率値は得られたデータから計算し、そして計算した確率値のもとでデータの対数尤度を$l_m(\\theta_m \\mid X)$として求める ."
   ]
  },
  {
   "cell_type": "markdown",
   "id": "851baae2",
   "metadata": {},
   "source": [
    "#### ・対数尤度とは、統計モデルが観測データをどの程度適切に説明できるかを測る尺度のこと ."
   ]
  },
  {
   "cell_type": "markdown",
   "id": "75357758",
   "metadata": {},
   "source": [
    "#### ・CPT(条件付き確率表)の具体的な確率値を$\\hat{\\theta}_{i,j,k}$と表す .　ここで$i$は変数$i$を示す .　$j$は変数$i$の条件のとあるパターンを示す ."
   ]
  },
  {
   "cell_type": "markdown",
   "id": "630ee8d7",
   "metadata": {},
   "source": [
    "#### 例えば今回の変数$x_3$であれば、4つのパターンが存在する .　最後に$k$は変数$i$の値を示す ."
   ]
  },
  {
   "cell_type": "markdown",
   "id": "2662da42",
   "metadata": {},
   "source": [
    "#### ・CPT(条件付き確率表)の具体的な確率値$\\hat{\\theta}_{i,j,k}$は"
   ]
  },
  {
   "cell_type": "markdown",
   "id": "09db7725",
   "metadata": {},
   "source": [
    "$$\n",
    "\\hat{\\theta}_{i,j,k} = \\frac{N_{ijk}}{N_{ij}}\n",
    "$$"
   ]
  },
  {
   "cell_type": "markdown",
   "id": "b7bb8bf8",
   "metadata": {},
   "source": [
    "#### として計算される .　ここで、${N_{ijk}}$は変数$i$がとある条件パターン$j$で値$k$となったデータ数である .　${N_{ij}}$は変数$i$がとある条件パターン$j$であったデータ数である ."
   ]
  },
  {
   "cell_type": "markdown",
   "id": "3c7bf8c3",
   "metadata": {},
   "source": [
    "#### ただし、上記の計算式は、データが多項分布に従い、データの生成確率はすべてハイパーパラメータ0のディリクレ分布を仮定している ."
   ]
  },
  {
   "cell_type": "markdown",
   "id": "e7aac9af",
   "metadata": {},
   "source": [
    "#### ・変数$x_1$から順番に、正解のDAGの形、モデルmを与えて、表7.2.1のデータ$X$に対する$\\hat{\\theta}_{i,j,k}$を計算してみる ."
   ]
  },
  {
   "cell_type": "markdown",
   "id": "550db379",
   "metadata": {},
   "source": [
    "#### ・変数$x_1$は条件付き確率ではないので、条件パターン$j$は存在しない .　よって$\\hat{\\theta}_{1,[],0}$は10個のデータから変数$x_1$が0の数を求めると4つであり、$N_{1[]0} = 4$である .\n",
    "\n"
   ]
  },
  {
   "cell_type": "markdown",
   "id": "d02d26a4",
   "metadata": {},
   "source": [
    "$$\n",
    "\\hat{\\theta}_{1,[],0} = \\frac{4}{10} = 0.4\n",
    "$$"
   ]
  },
  {
   "cell_type": "markdown",
   "id": "3abfd299",
   "metadata": {},
   "source": [
    "#### となる .　$\\hat{\\theta}_{1,[],0}$はすなわち、$P(x_1=0)$の推定値なので、$\\hat{\\theta}_{1,[],1}$は$1-\\hat{\\theta}_{1,[],0}$となり、0.6と求まる ."
   ]
  },
  {
   "cell_type": "markdown",
   "id": "1112715f",
   "metadata": {},
   "source": [
    "#### $P(x_1=0)=0.4$と$P(x_1=1)=0.6$が推定値で、真の答えは0.6と0.4だったので、正しい確率値が推定できていない .　これはデータ数が10個と少ないためである ."
   ]
  },
  {
   "cell_type": "markdown",
   "id": "4ef423ba",
   "metadata": {},
   "source": [
    "#### ・同様にして変数$x_2$の$\\hat{\\theta}_{2,[],0}$を求めると、"
   ]
  },
  {
   "cell_type": "markdown",
   "id": "c83c7bf5",
   "metadata": {},
   "source": [
    "$$\n",
    "\\hat{\\theta}_{2,[],0} = \\frac{3}{10} = 0.3\n",
    "$$"
   ]
  },
  {
   "cell_type": "markdown",
   "id": "b2d98e6e",
   "metadata": {},
   "source": [
    "#### となる .　よって$\\hat{\\theta}_{2,[],1}$は0.7である .　真の答えの0.4と0.6からは若干ずれているが、まずまずの確率が推定されている ."
   ]
  },
  {
   "cell_type": "markdown",
   "id": "c0ee9277",
   "metadata": {},
   "source": [
    "#### ・最後に変数$x_3$のCPT(条件付き確率)を推定する .　変数$x_3$は変数$x_1$と変数$x_2$から因果を持ち、その条件付き確率で表されるため、条件パターン$j$は$[0,0]$,$[0,1]$,$[1,0]$,$[1,1]$の4つとなる ."
   ]
  },
  {
   "cell_type": "markdown",
   "id": "b2a0d6a2",
   "metadata": {},
   "source": [
    "#### $\\hat{\\theta}_{3,[0,0],0}$を求めると、$(x_1,x_2,x_3)=(0,0,0)$のデータが観測されておらず、$(x_1,x_2,x_3)=(0,0,1)$のデータは1つのため、"
   ]
  },
  {
   "cell_type": "markdown",
   "id": "c9a06bd9",
   "metadata": {},
   "source": [
    "$$\n",
    "\\hat{\\theta}_{3,[0,0],0} = \\frac{0}{1} = 0.0\n",
    "$$"
   ]
  },
  {
   "cell_type": "markdown",
   "id": "8e222d5c",
   "metadata": {},
   "source": [
    "#### となる .　$\\hat{\\theta}_{3,[0,0],1}$は1.0となる .　正解の0.2と0.8とは少しずれた推定結果である ."
   ]
  },
  {
   "cell_type": "markdown",
   "id": "38dcc0a0",
   "metadata": {},
   "source": [
    "#### ・同様に他のパターンも計算する .　条件パターン$j=[0,1]$の場合は"
   ]
  },
  {
   "cell_type": "markdown",
   "id": "9327e098",
   "metadata": {},
   "source": [
    "$$\n",
    "\\hat{\\theta}_{3,[0,1],0} = \\frac{1}{3} = 0.33\n",
    "$$"
   ]
  },
  {
   "cell_type": "markdown",
   "id": "625d0318",
   "metadata": {},
   "source": [
    "#### となり、$\\hat{\\theta}_{3,[0,1],1}$は0.67である .　$\\hat{\\theta}_{3,[1,0],0}$は "
   ]
  },
  {
   "cell_type": "markdown",
   "id": "0066dd00",
   "metadata": {},
   "source": [
    "$$\n",
    "\\hat{\\theta}_{3,[1,0],0} = \\frac{0}{2} = 0.0\n",
    "$$"
   ]
  },
  {
   "cell_type": "markdown",
   "id": "aeb4d343",
   "metadata": {},
   "source": [
    "#### となり、$\\hat{\\theta}_{3,[1,0],1}$は1.0である .　$\\hat{\\theta}_{3,[1,1],0}$は"
   ]
  },
  {
   "cell_type": "markdown",
   "id": "c1de59b8",
   "metadata": {},
   "source": [
    "$$\n",
    "\\hat{\\theta}_{3,[1,1],0} = \\frac{0}{4} = 0.0\n",
    "$$"
   ]
  },
  {
   "cell_type": "markdown",
   "id": "e13ab338",
   "metadata": {},
   "source": [
    "#### となり、$\\hat{\\theta}_{3,[1,1],1}$は1.0となる ."
   ]
  },
  {
   "cell_type": "markdown",
   "id": "b13863df",
   "metadata": {},
   "source": [
    "#### ・以上で正解のDAGの構成mのもとでの、表7.2.1のデータ$X$に対する$\\hat{\\theta}_{i,j,k}$をすべて計算することができた .　最後に推定したCPT(条件付き確率表)を使用してデータ$X$の対数尤度$l_m(\\theta_m \\mid X)$を求める .　"
   ]
  },
  {
   "cell_type": "markdown",
   "id": "6be0dc7c",
   "metadata": {},
   "source": [
    "#### ただし、$l_m(\\theta_m \\mid X)$そのものの値ではなく、$l_m(\\theta_m \\mid X)$に比例する値を計算する .　正確な$l_m(\\theta_m \\mid X)$の値は計算が大変なため、代わりに比例する値を計算する(複数のDAGの妥当性を比較するうえでは比例値を比較することで問題ない) ."
   ]
  },
  {
   "cell_type": "markdown",
   "id": "2950555d",
   "metadata": {},
   "source": [
    "#### ・$l_m(\\theta_m \\mid X)$に比例する値は、"
   ]
  },
  {
   "cell_type": "markdown",
   "id": "2745de53",
   "metadata": {},
   "source": [
    "$$\n",
    "l_m(\\theta_m \\mid X) \\propto \\sum_i \\sum_j \\sum_k (N_{ijk}) \\log \\hat{\\theta}_{i,j,k}\n",
    "$$"
   ]
  },
  {
   "cell_type": "markdown",
   "id": "2de93842",
   "metadata": {},
   "source": [
    "#### で計算される .　表7.2.1の場合は、"
   ]
  },
  {
   "cell_type": "markdown",
   "id": "11daf50f",
   "metadata": {},
   "source": [
    "$$\n",
    "l_m(\\theta_m \\mid X) \\propto 4 \\times \\log 0.4 + 6 \\times \\log 0.6 + 3 \\times \\log 0.3 + 7 \\times \\log 0.7 + 1 \\times \\log 1.0 + 1 \\times \\log 0.33 \\\\\n",
    "+ 2 \\times \\log 0.67 + 2 \\times \\log 1.0 + 4 \\times \\log 1.0 = -14.7\n",
    "$$"
   ]
  },
  {
   "cell_type": "markdown",
   "id": "d909d2f9",
   "metadata": {},
   "source": [
    "#### となる ."
   ]
  },
  {
   "cell_type": "markdown",
   "id": "0d748548",
   "metadata": {},
   "source": [
    "#### ・最後にBICの計算に戻ると、"
   ]
  },
  {
   "cell_type": "markdown",
   "id": "0b948cbc",
   "metadata": {},
   "source": [
    "$$\n",
    "BIC_m = -2\\, l_m(\\theta_m \\mid X) + k_m (\\log N)\n",
    "$$"
   ]
  },
  {
   "cell_type": "markdown",
   "id": "022d7dee",
   "metadata": {},
   "source": [
    "#### であったので、"
   ]
  },
  {
   "cell_type": "markdown",
   "id": "baf98507",
   "metadata": {},
   "source": [
    "$$\n",
    "BIC_m = -2 \\times -14.7 + 6 \\times (\\log 10) = 43.3\n",
    "$$"
   ]
  },
  {
   "cell_type": "markdown",
   "id": "6c1f4808",
   "metadata": {},
   "source": [
    "#### となります ."
   ]
  },
  {
   "cell_type": "markdown",
   "id": "010c8758",
   "metadata": {},
   "source": [
    "#### ・以上により、正解のDAG、すなわちとあるベイジアンネットワークmに対する、計測されたデータのBIC値を計算することができた ."
   ]
  },
  {
   "cell_type": "markdown",
   "id": "aab35c51",
   "metadata": {},
   "source": [
    "#### 実際には正解のDAGの形mは不明なので、複数のDAGのBIC値を比較することになる ."
   ]
  },
  {
   "cell_type": "markdown",
   "id": "459e7bb8",
   "metadata": {},
   "source": [
    "#### ・ここまで手計算でBICを求めたが、実装時にはベイジアンネットワークのライブラリを活用する .　ベイジアンネットワークを扱えるPythonのライブラリはいくつか種類が存在するが、本書ではpgmpy(Python library for Probabilistic Graphical Models)を利用する ."
   ]
  },
  {
   "cell_type": "code",
   "execution_count": 8,
   "id": "b7ac696a",
   "metadata": {},
   "outputs": [
    {
     "name": "stdout",
     "output_type": "stream",
     "text": [
      "Requirement already satisfied: pgmpy==0.1.9 in /home/taihei/因果分析ゼミ/myenv/lib/python3.13/site-packages (0.1.9)\n"
     ]
    }
   ],
   "source": [
    "!pip install pgmpy==0.1.9"
   ]
  },
  {
   "cell_type": "markdown",
   "id": "4031d1b8",
   "metadata": {},
   "source": [
    "#### 正解のDAGを与える ."
   ]
  },
  {
   "cell_type": "code",
   "execution_count": null,
   "id": "33f02382",
   "metadata": {},
   "outputs": [
    {
     "ename": "ImportError",
     "evalue": "cannot import name 'config' from 'pgmpy' (/home/taihei/因果分析ゼミ/myenv/lib/python3.13/site-packages/pgmpy/__init__.py)",
     "output_type": "error",
     "traceback": [
      "\u001b[31m---------------------------------------------------------------------------\u001b[39m",
      "\u001b[31mImportError\u001b[39m                               Traceback (most recent call last)",
      "\u001b[36mCell\u001b[39m\u001b[36m \u001b[39m\u001b[32mIn[19]\u001b[39m\u001b[32m, line 2\u001b[39m\n\u001b[32m      1\u001b[39m \u001b[38;5;66;03m# 正解のDAGを与える\u001b[39;00m\n\u001b[32m----> \u001b[39m\u001b[32m2\u001b[39m \u001b[38;5;28;01mfrom\u001b[39;00m\u001b[38;5;250m \u001b[39m\u001b[34;01mpgmpy\u001b[39;00m\u001b[34;01m.\u001b[39;00m\u001b[34;01mmodels\u001b[39;00m\u001b[38;5;250m \u001b[39m\u001b[38;5;28;01mimport\u001b[39;00m BayesianModel\n\u001b[32m      3\u001b[39m model = BayesianModel([(\u001b[33m'\u001b[39m\u001b[33mx1\u001b[39m\u001b[33m'\u001b[39m, \u001b[33m'\u001b[39m\u001b[33mx3\u001b[39m\u001b[33m'\u001b[39m), (\u001b[33m'\u001b[39m\u001b[33mx2\u001b[39m\u001b[33m'\u001b[39m, \u001b[33m'\u001b[39m\u001b[33mx3\u001b[39m\u001b[33m'\u001b[39m)])  \u001b[38;5;66;03m# x1 -> x3 <- x2\u001b[39;00m\n",
      "\u001b[36mFile \u001b[39m\u001b[32m~/因果分析ゼミ/myenv/lib/python3.13/site-packages/pgmpy/models/__init__.py:2\u001b[39m\n\u001b[32m      1\u001b[39m \u001b[38;5;28;01mfrom\u001b[39;00m\u001b[38;5;250m \u001b[39m\u001b[34;01m.\u001b[39;00m\u001b[34;01mBayesianNetwork\u001b[39;00m\u001b[38;5;250m \u001b[39m\u001b[38;5;28;01mimport\u001b[39;00m BayesianNetwork\n\u001b[32m----> \u001b[39m\u001b[32m2\u001b[39m \u001b[38;5;28;01mfrom\u001b[39;00m\u001b[38;5;250m \u001b[39m\u001b[34;01m.\u001b[39;00m\u001b[34;01mClusterGraph\u001b[39;00m\u001b[38;5;250m \u001b[39m\u001b[38;5;28;01mimport\u001b[39;00m ClusterGraph\n\u001b[32m      3\u001b[39m \u001b[38;5;28;01mfrom\u001b[39;00m\u001b[38;5;250m \u001b[39m\u001b[34;01m.\u001b[39;00m\u001b[34;01mDiscreteBayesianNetwork\u001b[39;00m\u001b[38;5;250m \u001b[39m\u001b[38;5;28;01mimport\u001b[39;00m DiscreteBayesianNetwork\n\u001b[32m      4\u001b[39m \u001b[38;5;28;01mfrom\u001b[39;00m\u001b[38;5;250m \u001b[39m\u001b[34;01m.\u001b[39;00m\u001b[34;01mDynamicBayesianNetwork\u001b[39;00m\u001b[38;5;250m \u001b[39m\u001b[38;5;28;01mimport\u001b[39;00m DynamicBayesianNetwork\n",
      "\u001b[36mFile \u001b[39m\u001b[32m~/因果分析ゼミ/myenv/lib/python3.13/site-packages/pgmpy/models/ClusterGraph.py:8\u001b[39m\n\u001b[32m      5\u001b[39m \u001b[38;5;28;01mimport\u001b[39;00m\u001b[38;5;250m \u001b[39m\u001b[34;01mnumpy\u001b[39;00m\u001b[38;5;250m \u001b[39m\u001b[38;5;28;01mas\u001b[39;00m\u001b[38;5;250m \u001b[39m\u001b[34;01mnp\u001b[39;00m\n\u001b[32m      7\u001b[39m \u001b[38;5;28;01mfrom\u001b[39;00m\u001b[38;5;250m \u001b[39m\u001b[34;01mpgmpy\u001b[39;00m\u001b[34;01m.\u001b[39;00m\u001b[34;01mbase\u001b[39;00m\u001b[38;5;250m \u001b[39m\u001b[38;5;28;01mimport\u001b[39;00m UndirectedGraph\n\u001b[32m----> \u001b[39m\u001b[32m8\u001b[39m \u001b[38;5;28;01mfrom\u001b[39;00m\u001b[38;5;250m \u001b[39m\u001b[34;01mpgmpy\u001b[39;00m\u001b[34;01m.\u001b[39;00m\u001b[34;01mfactors\u001b[39;00m\u001b[38;5;250m \u001b[39m\u001b[38;5;28;01mimport\u001b[39;00m FactorDict, factor_product\n\u001b[32m      9\u001b[39m \u001b[38;5;28;01mfrom\u001b[39;00m\u001b[38;5;250m \u001b[39m\u001b[34;01mpgmpy\u001b[39;00m\u001b[34;01m.\u001b[39;00m\u001b[34;01mutils\u001b[39;00m\u001b[38;5;250m \u001b[39m\u001b[38;5;28;01mimport\u001b[39;00m compat_fns\n\u001b[32m     12\u001b[39m \u001b[38;5;28;01mclass\u001b[39;00m\u001b[38;5;250m \u001b[39m\u001b[34;01mClusterGraph\u001b[39;00m(UndirectedGraph):\n",
      "\u001b[36mFile \u001b[39m\u001b[32m~/因果分析ゼミ/myenv/lib/python3.13/site-packages/pgmpy/factors/__init__.py:3\u001b[39m\n\u001b[32m      1\u001b[39m \u001b[38;5;28;01mfrom\u001b[39;00m\u001b[38;5;250m \u001b[39m\u001b[34;01m.\u001b[39;00m\u001b[34;01mbase\u001b[39;00m\u001b[38;5;250m \u001b[39m\u001b[38;5;28;01mimport\u001b[39;00m factor_divide, factor_product, factor_sum_product\n\u001b[32m      2\u001b[39m \u001b[38;5;28;01mfrom\u001b[39;00m\u001b[38;5;250m \u001b[39m\u001b[34;01m.\u001b[39;00m\u001b[34;01mFactorSet\u001b[39;00m\u001b[38;5;250m \u001b[39m\u001b[38;5;28;01mimport\u001b[39;00m FactorSet, factorset_divide, factorset_product\n\u001b[32m----> \u001b[39m\u001b[32m3\u001b[39m \u001b[38;5;28;01mfrom\u001b[39;00m\u001b[38;5;250m \u001b[39m\u001b[34;01m.\u001b[39;00m\u001b[34;01mFactorDict\u001b[39;00m\u001b[38;5;250m \u001b[39m\u001b[38;5;28;01mimport\u001b[39;00m FactorDict\n\u001b[32m      5\u001b[39m __all__ = [\n\u001b[32m      6\u001b[39m     \u001b[33m\"\u001b[39m\u001b[33mFactorSet\u001b[39m\u001b[33m\"\u001b[39m,\n\u001b[32m      7\u001b[39m     \u001b[33m\"\u001b[39m\u001b[33mfactorset_divide\u001b[39m\u001b[33m\"\u001b[39m,\n\u001b[32m   (...)\u001b[39m\u001b[32m     12\u001b[39m     \u001b[33m\"\u001b[39m\u001b[33mFactorDict\u001b[39m\u001b[33m\"\u001b[39m,\n\u001b[32m     13\u001b[39m ]\n",
      "\u001b[36mFile \u001b[39m\u001b[32m~/因果分析ゼミ/myenv/lib/python3.13/site-packages/pgmpy/factors/FactorDict.py:10\u001b[39m\n\u001b[32m      7\u001b[39m \u001b[38;5;28;01mfrom\u001b[39;00m\u001b[38;5;250m \u001b[39m\u001b[34;01msklearn\u001b[39;00m\u001b[34;01m.\u001b[39;00m\u001b[34;01mpreprocessing\u001b[39;00m\u001b[38;5;250m \u001b[39m\u001b[38;5;28;01mimport\u001b[39;00m OrdinalEncoder\n\u001b[32m      9\u001b[39m \u001b[38;5;28;01mfrom\u001b[39;00m\u001b[38;5;250m \u001b[39m\u001b[34;01mpgmpy\u001b[39;00m\u001b[34;01m.\u001b[39;00m\u001b[34;01mfactors\u001b[39;00m\u001b[34;01m.\u001b[39;00m\u001b[34;01mbase\u001b[39;00m\u001b[38;5;250m \u001b[39m\u001b[38;5;28;01mimport\u001b[39;00m factor_product\n\u001b[32m---> \u001b[39m\u001b[32m10\u001b[39m \u001b[38;5;28;01mfrom\u001b[39;00m\u001b[38;5;250m \u001b[39m\u001b[34;01mpgmpy\u001b[39;00m\u001b[34;01m.\u001b[39;00m\u001b[34;01mfactors\u001b[39;00m\u001b[34;01m.\u001b[39;00m\u001b[34;01mdiscrete\u001b[39;00m\u001b[38;5;250m \u001b[39m\u001b[38;5;28;01mimport\u001b[39;00m DiscreteFactor\n\u001b[32m     13\u001b[39m \u001b[38;5;28;01mclass\u001b[39;00m\u001b[38;5;250m \u001b[39m\u001b[34;01mFactorDict\u001b[39;00m(\u001b[38;5;28mdict\u001b[39m):\n\u001b[32m     14\u001b[39m     \u001b[38;5;129m@classmethod\u001b[39m\n\u001b[32m     15\u001b[39m     \u001b[38;5;28;01mdef\u001b[39;00m\u001b[38;5;250m \u001b[39m\u001b[34mfrom_dataframe\u001b[39m(\u001b[38;5;28mcls\u001b[39m, df, marginals):\n",
      "\u001b[36mFile \u001b[39m\u001b[32m~/因果分析ゼミ/myenv/lib/python3.13/site-packages/pgmpy/factors/discrete/__init__.py:1\u001b[39m\n\u001b[32m----> \u001b[39m\u001b[32m1\u001b[39m \u001b[38;5;28;01mfrom\u001b[39;00m\u001b[38;5;250m \u001b[39m\u001b[34;01m.\u001b[39;00m\u001b[34;01mDiscreteFactor\u001b[39;00m\u001b[38;5;250m \u001b[39m\u001b[38;5;28;01mimport\u001b[39;00m DiscreteFactor, State\n\u001b[32m      2\u001b[39m \u001b[38;5;28;01mfrom\u001b[39;00m\u001b[38;5;250m \u001b[39m\u001b[34;01m.\u001b[39;00m\u001b[34;01mCPD\u001b[39;00m\u001b[38;5;250m \u001b[39m\u001b[38;5;28;01mimport\u001b[39;00m TabularCPD\n\u001b[32m      3\u001b[39m \u001b[38;5;28;01mfrom\u001b[39;00m\u001b[38;5;250m \u001b[39m\u001b[34;01m.\u001b[39;00m\u001b[34;01mJointProbabilityDistribution\u001b[39;00m\u001b[38;5;250m \u001b[39m\u001b[38;5;28;01mimport\u001b[39;00m JointProbabilityDistribution\n",
      "\u001b[36mFile \u001b[39m\u001b[32m~/因果分析ゼミ/myenv/lib/python3.13/site-packages/pgmpy/factors/discrete/DiscreteFactor.py:8\u001b[39m\n\u001b[32m      5\u001b[39m \u001b[38;5;28;01mimport\u001b[39;00m\u001b[38;5;250m \u001b[39m\u001b[34;01mpandas\u001b[39;00m\u001b[38;5;250m \u001b[39m\u001b[38;5;28;01mas\u001b[39;00m\u001b[38;5;250m \u001b[39m\u001b[34;01mpd\u001b[39;00m\n\u001b[32m      6\u001b[39m \u001b[38;5;28;01mimport\u001b[39;00m\u001b[38;5;250m \u001b[39m\u001b[34;01mtorch\u001b[39;00m\n\u001b[32m----> \u001b[39m\u001b[32m8\u001b[39m \u001b[38;5;28;01mfrom\u001b[39;00m\u001b[38;5;250m \u001b[39m\u001b[34;01mpgmpy\u001b[39;00m\u001b[38;5;250m \u001b[39m\u001b[38;5;28;01mimport\u001b[39;00m config\n\u001b[32m      9\u001b[39m \u001b[38;5;28;01mfrom\u001b[39;00m\u001b[38;5;250m \u001b[39m\u001b[34;01mpgmpy\u001b[39;00m\u001b[34;01m.\u001b[39;00m\u001b[34;01mextern\u001b[39;00m\u001b[38;5;250m \u001b[39m\u001b[38;5;28;01mimport\u001b[39;00m tabulate\n\u001b[32m     10\u001b[39m \u001b[38;5;28;01mfrom\u001b[39;00m\u001b[38;5;250m \u001b[39m\u001b[34;01mpgmpy\u001b[39;00m\u001b[34;01m.\u001b[39;00m\u001b[34;01mfactors\u001b[39;00m\u001b[34;01m.\u001b[39;00m\u001b[34;01mbase\u001b[39;00m\u001b[38;5;250m \u001b[39m\u001b[38;5;28;01mimport\u001b[39;00m BaseFactor\n",
      "\u001b[31mImportError\u001b[39m: cannot import name 'config' from 'pgmpy' (/home/taihei/因果分析ゼミ/myenv/lib/python3.13/site-packages/pgmpy/__init__.py)"
     ]
    }
   ],
   "source": [
    "# 正解のDAGを与える\n",
    "from pgmpy.models import BayesianModel\n",
    "model = BayesianModel([('x1', 'x3'), ('x2', 'x3')])  # x1 -> x3 <- x2\n"
   ]
  },
  {
   "cell_type": "markdown",
   "id": "e1dec973",
   "metadata": {},
   "source": [
    "#### 次に、CPT(条件付き確率表)を計算するベースとなる各パターンでのデータ数を描画、確認する ."
   ]
  },
  {
   "cell_type": "code",
   "execution_count": null,
   "id": "9fbc77b7",
   "metadata": {},
   "outputs": [],
   "source": [
    "# 各データパターンの個数を表示する\n",
    "from pgmpy.estimators import ParameterEstimator\n",
    "pe = ParameterEstimator(model, df)\n",
    "print(\"\\n\", pe.state_counts('x1'))\n",
    "print(\"\\n\", pe.state_counts('x2'))\n",
    "print(\"\\n\", pe.state_counts('x3'))"
   ]
  },
  {
   "cell_type": "markdown",
   "id": "b389aa00",
   "metadata": {},
   "source": [
    "#### 次に、CPT(条件付き確率表)を推定する ."
   ]
  },
  {
   "cell_type": "code",
   "execution_count": null,
   "id": "fc91d112",
   "metadata": {},
   "outputs": [],
   "source": [
    "# CPT（条件付き確率表）を推定する\n",
    "from pgmpy.estimators import BayesianEstimator\n",
    "\n",
    "estimator = BayesianEstimator(model, df)\n",
    "\n",
    "cpd_x1 = estimator.estimate_cpd(\n",
    "    'x1', prior_type=\"dirichlet\", pseudo_counts=[[0], [0]])\n",
    "cpd_x2 = estimator.estimate_cpd(\n",
    "    'x2', prior_type=\"dirichlet\", pseudo_counts=[[0], [0]])\n",
    "cpd_x3 = estimator.estimate_cpd('x3', prior_type=\"dirichlet\", pseudo_counts=[\n",
    "                                [0, 0, 0, 0], [0, 0, 0, 0]])\n",
    "# 注意：pseudo_countsはハイパーパラメータ0のディリクレ分布の設定を与えています。\n",
    "\n",
    "print(cpd_x1)\n",
    "print(cpd_x2)\n",
    "print(cpd_x3)"
   ]
  },
  {
   "cell_type": "markdown",
   "id": "25b8191b",
   "metadata": {},
   "source": [
    "#### 手計算で求めた結果と同じCPTが得られている .　最後にBICを計算する ."
   ]
  },
  {
   "cell_type": "code",
   "execution_count": null,
   "id": "7c9d4318",
   "metadata": {},
   "outputs": [],
   "source": [
    "# BICを求める\n",
    "from pgmpy.estimators import BicScore\n",
    "bic = BicScore(df)\n",
    "print(bic.score(model))"
   ]
  },
  {
   "cell_type": "markdown",
   "id": "40f4cfd9",
   "metadata": {},
   "source": [
    "#### ・先ほど手計算したBICの値43.3と、pgmpyの出力値が異なっており、43.3ではなく-21.7になっている .　これはpgmpyのBIC計算が、手計算した式"
   ]
  },
  {
   "cell_type": "markdown",
   "id": "e6a36ceb",
   "metadata": {},
   "source": [
    "$$\n",
    "BIC_m = -2\\, l_m(\\theta_m \\mid X) + k_m (\\log N)\n",
    "$$"
   ]
  },
  {
   "cell_type": "markdown",
   "id": "b637c2cf",
   "metadata": {},
   "source": [
    "#### ではなく、"
   ]
  },
  {
   "cell_type": "markdown",
   "id": "2f2f9a0f",
   "metadata": {},
   "source": [
    "$$\n",
    "BIC_m = l_m(\\theta_m \\mid X) - 0.5 \\times k_m (\\log N) = -14.7 - 0.5 \\times 6 \\times (\\log 10)\n",
    "$$"
   ]
  },
  {
   "cell_type": "markdown",
   "id": "37984d68",
   "metadata": {},
   "source": [
    "#### として計算されているためである .　手計算した式に-0.5が掛け算されている .　BICの計算にもいくつか種類があり、手計算したものは基本的に良く使用されるもの、pgmpyの計算式も使用される ."
   ]
  },
  {
   "cell_type": "markdown",
   "id": "1689dc01",
   "metadata": {},
   "source": [
    "#### ・最後に正解ではないDAGでのBICを計算してみる .　正解のDAGは変数$x_3$が変数$x_1$と変数$x_2$から因果を持つ構造であったが、変数$x_2$から変数$x_1$,$x_3$に因果関係があるとする ."
   ]
  },
  {
   "cell_type": "code",
   "execution_count": null,
   "id": "8cc2d6b4",
   "metadata": {},
   "outputs": [],
   "source": [
    "# 正解ではないDAGを与える\n",
    "from pgmpy.models import BayesianModel\n",
    "model = BayesianModel([('x2', 'x1'), ('x2', 'x3')])  # x1 <- x2 -> x3\n",
    "bic = BicScore(df)\n",
    "print(bic.score(model))"
   ]
  },
  {
   "cell_type": "markdown",
   "id": "28baa4f2",
   "metadata": {},
   "source": [
    "#### ・先ほどの正解のDAGでのBICが-21.6であったのに対して、-21.4と大きな値になった .　ここで使用しているpgmpyのBICの定義では、より大きな値になるほど(負の方向に小さくなるほど)良いモデルであるため、今回はたまたま正解ではないDAGの方が値が良くなっている ."
   ]
  },
  {
   "cell_type": "markdown",
   "id": "2e6bdd26",
   "metadata": {},
   "source": [
    "#### 原因としてデータ数が少ないことが主であると考えられる ."
   ]
  },
  {
   "cell_type": "markdown",
   "id": "7bf9b1ad",
   "metadata": {},
   "source": [
    "## 7-3 変数間の独立性の検定"
   ]
  },
  {
   "cell_type": "markdown",
   "id": "6f87bdc3",
   "metadata": {},
   "source": [
    "#### ・本節では観測したデータから、2つの変数の間に因果関係が存在しているのか、それとも独立な変数なのかを判定する手法について解説する ."
   ]
  },
  {
   "cell_type": "markdown",
   "id": "ecf28451",
   "metadata": {},
   "source": [
    "#### ただし、独立性を確かめる手法で、変数間の因果関係の有無は分かるが、因果の方向性は分からない .　また2変数が独立でなかった場合に、直接的な因果関係にあるのか、別の変数を介した間接的な因果関係にあるのかは分からない ."
   ]
  },
  {
   "cell_type": "markdown",
   "id": "a713916d",
   "metadata": {},
   "source": [
    "#### ・しかしこの独立性の検定を繰り返して利用することで、どの変数間に因果関係があるのかを明らかにし、DAGを推定するベースとなるスケルトンを求めることができる ."
   ]
  },
  {
   "cell_type": "markdown",
   "id": "e11f38ab",
   "metadata": {},
   "source": [
    "#### ・はじめに独立性の検定の仕組みを解説し、次に疑似データに対して独立性検定の実装、実施を行う ."
   ]
  },
  {
   "cell_type": "markdown",
   "id": "926269dd",
   "metadata": {},
   "source": [
    "## 独立性の検定"
   ]
  },
  {
   "cell_type": "markdown",
   "id": "66bc150e",
   "metadata": {},
   "source": [
    "#### ・変数間の条件付きの独立性の検定について解説する ."
   ]
  },
  {
   "cell_type": "markdown",
   "id": "8c10cb1b",
   "metadata": {},
   "source": [
    "#### ・ここで\"条件\"を$C$と表すことにする .　例えば、変数$x_3=1$などである .　条件$C$が存在しないケースもある ."
   ]
  },
  {
   "cell_type": "markdown",
   "id": "937402c2",
   "metadata": {},
   "source": [
    "#### ・次に独立性を検定したい変数を$x_1$,$x_2$とここでは仮定する ."
   ]
  },
  {
   "cell_type": "markdown",
   "id": "56ab7a81",
   "metadata": {},
   "source": [
    "#### すると、2変数間の条件付き独立関数は$CI(x_i,x_j|C)$と表現され、上記の例の場合、$CI(x_1,x_2|x_3=1)$と記載される .　ここで、CIはConditional independence(条件付き独立)を意味する ."
   ]
  },
  {
   "cell_type": "markdown",
   "id": "232f1611",
   "metadata": {},
   "source": [
    "#### ・この$CI(x_1,x_2|x_3=1)$の検定として、\"独立性のカイ二乗検定\"や\"G^2テスト\"(G-square testもしくはG検定と呼ぶ)が使用される .　本書では独立性のカイ二乗検定について解説する ."
   ]
  },
  {
   "cell_type": "markdown",
   "id": "219123d2",
   "metadata": {},
   "source": [
    "## 独立性のカイ二乗検定"
   ]
  },
  {
   "cell_type": "markdown",
   "id": "71232c04",
   "metadata": {},
   "source": [
    "#### ・統計検定では帰無仮説と呼ばれる仮説を検討する .　独立性の検定の場合は、帰無仮説は「変数$x_1$と変数$x_2$は独立である」である .　帰無仮説は$H_0$で表記される ."
   ]
  },
  {
   "cell_type": "markdown",
   "id": "45ab269f",
   "metadata": {},
   "source": [
    "#### ・帰無仮説が棄却されると、「変数$x_1$と変数$x_2$は独立ではない」と判定できる .　帰無仮説が棄却できない場合は、「変数$x_1$と変数$x_2$は独立」と判定できるわけではなく、「変数$x_1$と変数$x_2$は独立なのか独立ではないのかは判断できない」という判定になる ."
   ]
  },
  {
   "cell_type": "markdown",
   "id": "ecfbf70a",
   "metadata": {},
   "source": [
    "#### ・ここで、カイ二乗統計量と呼ばれる指標をデータから計算し、カイ二乗統計量の値が「変数$x_1$と変数$x_2$は独立である」と仮定した場合に比べて、著しく大きければ前提である独立という仮定がおかしかったということになる .　すると、最初に立てた帰無仮説が棄却できる ."
   ]
  },
  {
   "cell_type": "markdown",
   "id": "bcf53b97",
   "metadata": {},
   "source": [
    "#### ・表7.3.1のようなデータが得られていたとする .　表7.3.1は独立性の検定をしたいデータ$X$の各条件での頻度(各個数)となっている .　今回は変数$x_1$と変数$x_2$は独立ではなく、因果関係にあるとする ."
   ]
  },
  {
   "cell_type": "markdown",
   "id": "cd80992e",
   "metadata": {},
   "source": [
    "![alt text](pict5.png)"
   ]
  },
  {
   "cell_type": "markdown",
   "id": "c6cf3da8",
   "metadata": {},
   "source": [
    "#### 以下の実装により、表7.3.1のデータを生成している ."
   ]
  },
  {
   "cell_type": "code",
   "execution_count": null,
   "id": "76cba22e",
   "metadata": {},
   "outputs": [],
   "source": [
    "# 乱数のシードを設定\n",
    "import random\n",
    "import numpy as np\n",
    "\n",
    "np.random.seed(1234)\n",
    "random.seed(1234)"
   ]
  },
  {
   "cell_type": "code",
   "execution_count": null,
   "id": "e6d4dc96",
   "metadata": {},
   "outputs": [],
   "source": [
    "# 使用するパッケージ（ライブラリと関数）を定義\n",
    "from numpy.random import *\n",
    "import pandas as pd"
   ]
  },
  {
   "cell_type": "code",
   "execution_count": null,
   "id": "ff03b26c",
   "metadata": {},
   "outputs": [],
   "source": [
    "# データ数\n",
    "num_data = 100\n",
    "\n",
    "# x1：0か1の値をnum_data個生成、0の確率は0.6、1の確率は0.4\n",
    "x1 = np.random.choice([0, 1], num_data, p=[0.6, 0.4])\n",
    "\n",
    "# x2：0か1の値をnum_data個生成、0の確率は0.4、1の確率は0.6\n",
    "x2 = np.random.choice([0, 1], num_data, p=[0.4, 0.6])\n",
    "\n",
    "# x2はx1と因果関係にあるとする\n",
    "x2 = x2*x1\n",
    "\n",
    "# 2変数で表にする\n",
    "df = pd.DataFrame({'x1': x1,\n",
    "                   'x2': x2,\n",
    "                   })\n",
    "\n",
    "# 表の先頭を表示\n",
    "df.head()"
   ]
  },
  {
   "cell_type": "code",
   "execution_count": null,
   "id": "952afce7",
   "metadata": {},
   "outputs": [],
   "source": [
    "# 各カウント\n",
    "print(((df[\"x1\"] == 0) & (df[\"x2\"] == 0)).sum())\n",
    "print(((df[\"x1\"] == 1) & (df[\"x2\"] == 0)).sum())\n",
    "print(((df[\"x1\"] == 0) & (df[\"x2\"] == 1)).sum())\n",
    "print(((df[\"x1\"] == 1) & (df[\"x2\"] == 1)).sum())"
   ]
  },
  {
   "cell_type": "markdown",
   "id": "593c1dcb",
   "metadata": {},
   "source": [
    "#### ・表7.3.1の変数$x_1$と変数$x_2$の分布表(度数分布表)からカイ二乗統計量を計算する .　カイ二乗統計量は、"
   ]
  },
  {
   "cell_type": "markdown",
   "id": "83921191",
   "metadata": {},
   "source": [
    "$$\n",
    "\\chi^2 = \\sum_{i=1}^r \\sum_{j=1}^c \\frac{(n_{ij} - E_{ij})^2}{E_{ij}}\n",
    "$$"
   ]
  },
  {
   "cell_type": "markdown",
   "id": "7f3b0386",
   "metadata": {},
   "source": [
    "#### で計算される .　ここで、$r$は度数分布表の行数、$c$は列数である .　$n_{ij}$は$i$行目$j$列目の度数を示す .　$E_{ij}$は$i$行目$j$列目の推定期待度数である ."
   ]
  },
  {
   "cell_type": "markdown",
   "id": "9abfa55e",
   "metadata": {},
   "source": [
    "#### ・推定期待度数とは、変数$x_1$と変数$x_2$が独立であったとすればどの程度の値になるかを示し、"
   ]
  },
  {
   "cell_type": "markdown",
   "id": "0557651a",
   "metadata": {},
   "source": [
    "$$\n",
    "E_{ij} = \\frac{n_i \\times n_j}{N}\n",
    "$$"
   ]
  },
  {
   "cell_type": "markdown",
   "id": "287c3af3",
   "metadata": {},
   "source": [
    "#### で計算される .　ここで$n_i$は$i$行目のデータの総数、$n_j$は$j$列目のデータの総数、$N$は全データ数である ."
   ]
  },
  {
   "cell_type": "markdown",
   "id": "30b34b45",
   "metadata": {},
   "source": [
    "#### ・表7.3.2に推定期待度数の表を示す .　これは例えば$E_{11}$の推定期待度数は、"
   ]
  },
  {
   "cell_type": "markdown",
   "id": "242cd01f",
   "metadata": {},
   "source": [
    "$$\n",
    "E_{11} = \\frac{58\\times67}{100}\n",
    "$$"
   ]
  },
  {
   "cell_type": "markdown",
   "id": "edf5f194",
   "metadata": {},
   "source": [
    "#### のように計算される ."
   ]
  },
  {
   "cell_type": "markdown",
   "id": "15be7691",
   "metadata": {},
   "source": [
    "![alt text](pict6.png)"
   ]
  },
  {
   "cell_type": "markdown",
   "id": "5203f6f1",
   "metadata": {},
   "source": [
    "#### 表7.3.1の観測データの度数と、表7.3.2の推定期待度数より、カイ二乗統計量は"
   ]
  },
  {
   "cell_type": "markdown",
   "id": "d38bb872",
   "metadata": {},
   "source": [
    "$$\n",
    "\\chi^2 = \n",
    "\\frac{(58 - 38.9)^2}{38.9}\n",
    "+ \\frac{(0 - 19.1)^2}{19.1}\n",
    "+ \\frac{(9 - 28.1)^2}{28.1}\n",
    "+ \\frac{(33 - 13.9)^2}{13.9}\n",
    "= 68.0\n",
    "$$"
   ]
  },
  {
   "cell_type": "markdown",
   "id": "39731156",
   "metadata": {},
   "source": [
    "#### となる ."
   ]
  },
  {
   "cell_type": "markdown",
   "id": "5fa8bdbf",
   "metadata": {},
   "source": [
    "#### ・次にこのカイ二乗統計量と、変数$x_1$と変数$x_2$が独立である場合の値と比較する ."
   ]
  },
  {
   "cell_type": "markdown",
   "id": "862810cb",
   "metadata": {},
   "source": [
    "#### ・カイ二乗統計量は度数分布表の行数、列数で値が大きく変わるので、その点を調整してあげる必要がある .　行数や列数が多いほどカイ二乗統計量の値も大きくなる ."
   ]
  },
  {
   "cell_type": "markdown",
   "id": "0444d334",
   "metadata": {},
   "source": [
    "#### その調整のための考慮する量を自由度と呼ぶ ."
   ]
  },
  {
   "cell_type": "markdown",
   "id": "8f27e280",
   "metadata": {},
   "source": [
    "#### ・自由度は度数分布表の行数$r$、列数$c$を利用して、$(r-1)(c-1)$と計算する .　1を引くのは確率や度数は全体のデータ数が分かっていれば、最後の行や列の値は、その他の行と列から計算(1.0-その他の総和)で計算できるからである ."
   ]
  },
  {
   "cell_type": "markdown",
   "id": "e8e387e6",
   "metadata": {},
   "source": [
    "#### ・最後にこの自由度での変数$x_1$と変数$x_2$は独立である場合のカイ二乗統計量と比較して、今回のデータから得られたカイ二乗統計量が、どれくらい滅多にないことなのかを求める ."
   ]
  },
  {
   "cell_type": "markdown",
   "id": "d81fb5fa",
   "metadata": {},
   "source": [
    "#### そのためには、カイ二乗分布表と比べることになる ."
   ]
  },
  {
   "cell_type": "markdown",
   "id": "e2badcd6",
   "metadata": {},
   "source": [
    "![alt text](pict7.png)"
   ]
  },
  {
   "cell_type": "markdown",
   "id": "ad12fb58",
   "metadata": {},
   "source": [
    "#### ・カイ二乗分布表から、自由度1の変数$x_1$と変数$x_2$が独立である場合のカイ二乗統計量は50%の確率で0.455以下と分かる .　同様に90%の確率で2.71以下、95%の確率で3.84以下と分かる ."
   ]
  },
  {
   "cell_type": "markdown",
   "id": "2c86a03e",
   "metadata": {},
   "source": [
    "#### ・どれくらい珍しいデータであれば、それは独立でない変数から生まれたと判定するのかは、有意確率$p$をあらかじめ決めておくことになる ."
   ]
  },
  {
   "cell_type": "markdown",
   "id": "50c50006",
   "metadata": {},
   "source": [
    "#### 一般的には$p=0.05$で、5%以下でしか発生しないようなデータが得られた場合は、初めに立てた帰無仮説、すなわち今回の場合は「変数$x_1$と変数$x_2$は独立である」に無理があったと判定して、2つの変数は関連している、因果の関係にあると判断する ."
   ]
  },
  {
   "cell_type": "markdown",
   "id": "0cdb9cb9",
   "metadata": {},
   "source": [
    "#### ・今回のデータから得られたカイ二乗統計量は68.0であり、自由度1のカイ二乗分布表は95%の確率で3.84以下です ."
   ]
  },
  {
   "cell_type": "markdown",
   "id": "8e533e42",
   "metadata": {},
   "source": [
    "#### 言い換えると、3.84以上の値を取るのは5%以下の珍しいケースであるということである ."
   ]
  },
  {
   "cell_type": "markdown",
   "id": "185c757e",
   "metadata": {},
   "source": [
    "#### 今回$p=0.05$を棄却の基準とした場合、5%以下でしか発生しない状況になっている .　そのため、「変数$x_1$と変数$x_2$は独立である」という考えに無理があった、すなわち帰無仮説を棄却し、「変数$x_1$と変数$x_2$は独立ではない、関連しており、因果関係にある」と判定する ."
   ]
  },
  {
   "cell_type": "markdown",
   "id": "1a86fe15",
   "metadata": {},
   "source": [
    "## 条件付きの独立性のカイ二乗検定"
   ]
  },
  {
   "cell_type": "markdown",
   "id": "3f50e7f8",
   "metadata": {},
   "source": [
    "#### ・条件付きの状況においても独立性のカイ二乗検定は同じ手順となる ."
   ]
  },
  {
   "cell_type": "markdown",
   "id": "ecf5315f",
   "metadata": {},
   "source": [
    "#### 独立性を検定したい2変数について、その条件のもとでの度数分布表を作成し、推定期待度数を求め、自由度を計算し、その自由度での変数$x_1$と変数$x_2$は独立である場合のカイ二乗統計量と比較して、帰無仮説が棄却できるかを判定する ."
   ]
  },
  {
   "cell_type": "markdown",
   "id": "2879c7e6",
   "metadata": {},
   "source": [
    "## pgmpyでの実装"
   ]
  },
  {
   "cell_type": "markdown",
   "id": "58ef2b1e",
   "metadata": {},
   "source": [
    "#### ・2変数が独立の場合に、7.2節で使用したpgmpyで独立性を検定する ."
   ]
  },
  {
   "cell_type": "code",
   "execution_count": null,
   "id": "deb0d3aa",
   "metadata": {},
   "outputs": [],
   "source": [
    "# データ数\n",
    "num_data = 100\n",
    "\n",
    "# x1：0か1の値をnum_data個生成、0の確率は0.6、1の確率は0.4\n",
    "x1 = np.random.choice([0, 1], num_data, p=[0.6, 0.4])\n",
    "\n",
    "# x2：0か1の値をnum_data個生成、0の確率は0.4、1の確率は0.6\n",
    "x2 = np.random.choice([0, 1], num_data, p=[0.4, 0.6])\n",
    "\n",
    "# 2変数で表にする\n",
    "df2 = pd.DataFrame({'x1': x1,\n",
    "                   'x2': x2,\n",
    "                   })\n",
    "\n",
    "# 各カウント\n",
    "print(((df2[\"x1\"] == 0) & (df2[\"x2\"] == 0)).sum())\n",
    "print(((df2[\"x1\"] == 1) & (df2[\"x2\"] == 0)).sum())\n",
    "print(((df2[\"x1\"] == 0) & (df2[\"x2\"] == 1)).sum())\n",
    "print(((df2[\"x1\"] == 1) & (df2[\"x2\"] == 1)).sum())"
   ]
  },
  {
   "cell_type": "markdown",
   "id": "0fb14c61",
   "metadata": {},
   "source": [
    "#### ・独立性の検定を実施する .　なお本節の最初で使用したデータ(因果関係があり、独立でないバージョン)にも、検定を実施する ."
   ]
  },
  {
   "cell_type": "code",
   "execution_count": null,
   "id": "2274693e",
   "metadata": {},
   "outputs": [],
   "source": [
    "from pgmpy.estimators import ConstraintBasedEstimator\n",
    "\n",
    "est = ConstraintBasedEstimator(df2)\n",
    "print(est.test_conditional_independence(\n",
    "    'x1', 'x2', method=\"chi_square\", tol=0.05))  # 独立\n",
    "\n",
    "# 最初の例の場合\n",
    "est = ConstraintBasedEstimator(df)\n",
    "print(est.test_conditional_independence(\n",
    "    'x1', 'x2', method=\"chi_square\", tol=0.05))   # 独立でない"
   ]
  },
  {
   "cell_type": "markdown",
   "id": "04bacbb9",
   "metadata": {},
   "source": [
    "#### ・出力はTrue,Falseとなり、今回新たに独立なデータを作成したケースでは独立と判定され、本節の最初から使用してきた独立でないデータでは、Falseとして独立とは言えないと正しく判定された ."
   ]
  },
  {
   "cell_type": "markdown",
   "id": "83035ffb",
   "metadata": {},
   "source": [
    "## 7-4　3タイプのベイジアンネットワークの探索手法"
   ]
  },
  {
   "cell_type": "markdown",
   "id": "da114298",
   "metadata": {},
   "source": [
    "#### ・本節では観測したデータから、ベイジアンネットワークのDAGを推定する手法について解説する ."
   ]
  },
  {
   "cell_type": "markdown",
   "id": "817d75c2",
   "metadata": {},
   "source": [
    "#### ・3タイプのネットワーク探索手法とは、以下の通りである ."
   ]
  },
  {
   "cell_type": "markdown",
   "id": "5ac01891",
   "metadata": {},
   "source": [
    "#### ①スコアリングによる構造学習(Score-based Structure Learning)\n",
    "#### ②条件付き独立性検定による構造学習(Constraint-based Structure Learning)\n",
    "#### ③ベイジアンスコアと条件付き独立性検定のハイブリッド型構造学習(Hybrid Structure Learning)"
   ]
  },
  {
   "cell_type": "markdown",
   "id": "c538c441",
   "metadata": {},
   "source": [
    "#### ・①スコアリングによる構造学習とは、7.2節で解説した、観測データに対するネットワークの当てはまりの良さを示すAIC,BIC,MDL符号,BDe,BDeu,K2などのベイジアンスコアのいずれかを使用し、様々なDAGに対してスコアを求め、最も指標値の良いDAGを選ぶ手法のこと ."
   ]
  },
  {
   "cell_type": "markdown",
   "id": "1865901a",
   "metadata": {},
   "source": [
    "#### スコアリングによる構造学習は、手法がシンプルという利点がある一方で、"
   ]
  },
  {
   "cell_type": "markdown",
   "id": "e541db99",
   "metadata": {},
   "source": []
  },
  {
   "cell_type": "markdown",
   "id": "d0e9ada9",
   "metadata": {},
   "source": []
  },
  {
   "cell_type": "markdown",
   "id": "e1ec5823",
   "metadata": {},
   "source": []
  },
  {
   "cell_type": "markdown",
   "id": "2322d1b3",
   "metadata": {},
   "source": []
  },
  {
   "cell_type": "markdown",
   "id": "80381bed",
   "metadata": {},
   "source": []
  },
  {
   "cell_type": "markdown",
   "id": "6d2c0af3",
   "metadata": {},
   "source": []
  },
  {
   "cell_type": "markdown",
   "id": "c3f91f0f",
   "metadata": {},
   "source": []
  },
  {
   "cell_type": "markdown",
   "id": "ae10e5ad",
   "metadata": {},
   "source": []
  },
  {
   "cell_type": "markdown",
   "id": "5525676e",
   "metadata": {},
   "source": []
  },
  {
   "cell_type": "markdown",
   "id": "f13fa243",
   "metadata": {},
   "source": []
  },
  {
   "cell_type": "markdown",
   "id": "2c29141d",
   "metadata": {},
   "source": []
  },
  {
   "cell_type": "markdown",
   "id": "ddc62478",
   "metadata": {},
   "source": []
  },
  {
   "cell_type": "markdown",
   "id": "74bde0f9",
   "metadata": {},
   "source": []
  },
  {
   "cell_type": "markdown",
   "id": "65711763",
   "metadata": {},
   "source": []
  },
  {
   "cell_type": "markdown",
   "id": "3274bd6e",
   "metadata": {},
   "source": []
  },
  {
   "cell_type": "markdown",
   "id": "41690d82",
   "metadata": {},
   "source": []
  },
  {
   "cell_type": "markdown",
   "id": "ffdb415a",
   "metadata": {},
   "source": []
  },
  {
   "cell_type": "markdown",
   "id": "eaec2ddf",
   "metadata": {},
   "source": []
  },
  {
   "cell_type": "markdown",
   "id": "ca5102c7",
   "metadata": {},
   "source": []
  },
  {
   "cell_type": "markdown",
   "id": "9c925d4f",
   "metadata": {},
   "source": []
  },
  {
   "cell_type": "markdown",
   "id": "05d15aef",
   "metadata": {},
   "source": []
  },
  {
   "cell_type": "markdown",
   "id": "fe1ee7d3",
   "metadata": {},
   "source": []
  },
  {
   "cell_type": "markdown",
   "id": "14a6f9b0",
   "metadata": {},
   "source": []
  },
  {
   "cell_type": "markdown",
   "id": "093499d1",
   "metadata": {},
   "source": []
  },
  {
   "cell_type": "markdown",
   "id": "b62e92a4",
   "metadata": {},
   "source": []
  },
  {
   "cell_type": "markdown",
   "id": "fb20ebab",
   "metadata": {},
   "source": []
  },
  {
   "cell_type": "markdown",
   "id": "80dfedf0",
   "metadata": {},
   "source": []
  },
  {
   "cell_type": "markdown",
   "id": "427b014c",
   "metadata": {},
   "source": []
  },
  {
   "cell_type": "markdown",
   "id": "cec20be2",
   "metadata": {},
   "source": []
  },
  {
   "cell_type": "markdown",
   "id": "9682dc80",
   "metadata": {},
   "source": []
  },
  {
   "cell_type": "markdown",
   "id": "83797a73",
   "metadata": {},
   "source": []
  },
  {
   "cell_type": "markdown",
   "id": "d768ac2d",
   "metadata": {},
   "source": []
  },
  {
   "cell_type": "markdown",
   "id": "a1e93af9",
   "metadata": {},
   "source": []
  },
  {
   "cell_type": "markdown",
   "id": "70976b51",
   "metadata": {},
   "source": []
  },
  {
   "cell_type": "markdown",
   "id": "f1805d41",
   "metadata": {},
   "source": []
  },
  {
   "cell_type": "markdown",
   "id": "694ec9a4",
   "metadata": {},
   "source": []
  },
  {
   "cell_type": "markdown",
   "id": "0a102635",
   "metadata": {},
   "source": []
  },
  {
   "cell_type": "markdown",
   "id": "c10ae24b",
   "metadata": {},
   "source": []
  },
  {
   "cell_type": "markdown",
   "id": "cfb71dcf",
   "metadata": {},
   "source": []
  },
  {
   "cell_type": "markdown",
   "id": "9f61fc20",
   "metadata": {},
   "source": []
  },
  {
   "cell_type": "markdown",
   "id": "9dba3c4d",
   "metadata": {},
   "source": []
  },
  {
   "cell_type": "markdown",
   "id": "000912d9",
   "metadata": {},
   "source": []
  },
  {
   "cell_type": "markdown",
   "id": "0b884a9a",
   "metadata": {},
   "source": []
  },
  {
   "cell_type": "markdown",
   "id": "16e865e4",
   "metadata": {},
   "source": []
  },
  {
   "cell_type": "markdown",
   "id": "361e5bab",
   "metadata": {},
   "source": []
  },
  {
   "cell_type": "markdown",
   "id": "3d89633f",
   "metadata": {},
   "source": []
  },
  {
   "cell_type": "markdown",
   "id": "29d4220a",
   "metadata": {},
   "source": []
  }
 ],
 "metadata": {
  "kernelspec": {
   "display_name": "myenv",
   "language": "python",
   "name": "python3"
  },
  "language_info": {
   "codemirror_mode": {
    "name": "ipython",
    "version": 3
   },
   "file_extension": ".py",
   "mimetype": "text/x-python",
   "name": "python",
   "nbconvert_exporter": "python",
   "pygments_lexer": "ipython3",
   "version": "3.13.3"
  }
 },
 "nbformat": 4,
 "nbformat_minor": 5
}
