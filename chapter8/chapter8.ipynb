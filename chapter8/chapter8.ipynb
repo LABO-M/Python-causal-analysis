{
 "cells": [
  {
   "cell_type": "markdown",
   "id": "a07e152a",
   "metadata": {},
   "source": [
    "# 第8章 ディープラーニングを用いた因果探索"
   ]
  },
  {
   "cell_type": "markdown",
   "id": "f3d401c5",
   "metadata": {},
   "source": [
    "#### ・本章ではディープラーニングを用いた因果探索について解説、実装する ."
   ]
  },
  {
   "cell_type": "markdown",
   "id": "86b69113",
   "metadata": {},
   "source": [
    "#### 2020年において、因果推論の分野でもディープラーニングを利用した研究が進んでいる .　具体例として、"
   ]
  },
  {
   "cell_type": "markdown",
   "id": "804556ba",
   "metadata": {},
   "source": [
    "#### グラフニューラルネットワークを用いた因果探索\n",
    "#### 深層強化学習を用いた因果探索\n",
    "#### GAN(Generative Adversarial Networks)を用いた因果探索"
   ]
  },
  {
   "cell_type": "markdown",
   "id": "85c66484",
   "metadata": {},
   "source": [
    "#### などが挙げられる ."
   ]
  },
  {
   "cell_type": "markdown",
   "id": "c7bfa1f5",
   "metadata": {},
   "source": [
    "#### ・本章ではディープラーニングを用いた因果探索手法の中でも、\"SAM(Structural Agnostic Model)\"について解説、実装する .　SAMはGANを用いた因果探索手法である ."
   ]
  },
  {
   "cell_type": "markdown",
   "id": "26ed9288",
   "metadata": {},
   "source": [
    "#### ・本章の内容はPyTorchを用いたディープラーニングとGANの実装経験がないと理解が難しい部分が多いらしいです ."
   ]
  },
  {
   "cell_type": "markdown",
   "id": "09852be0",
   "metadata": {},
   "source": [
    "#### ・本章で出てくる実装はSAM論文の著者らのGitHubのコードを一部参考、使用している ."
   ]
  },
  {
   "cell_type": "markdown",
   "id": "cff9670a",
   "metadata": {},
   "source": [
    "![alt text](pict1.png)"
   ]
  },
  {
   "cell_type": "markdown",
   "id": "30a4a047",
   "metadata": {},
   "source": [
    "## GAN(Generative Adversarial Networks)とは"
   ]
  },
  {
   "cell_type": "markdown",
   "id": "f574dcb8",
   "metadata": {},
   "source": [
    "#### ・GANは大量の画像データを学習に使用し、実際には存在していない架空の画像を生成する技術として有名である ."
   ]
  },
  {
   "cell_type": "markdown",
   "id": "e625c059",
   "metadata": {},
   "source": [
    "#### GANは生成器(Generator,以下G)と呼ばれるニューラルネットワークと、識別器(Discriminator,以下D)と呼ばれる2種類のニューラルネットワークから構成される ."
   ]
  },
  {
   "cell_type": "markdown",
   "id": "59308f1e",
   "metadata": {},
   "source": [
    "#### ・画像を生成する際に使用するのは、「学習済みの生成器G」のみである .　学習済みの生成器Gに入力としてノイズを与えると、"
   ]
  },
  {
   "cell_type": "markdown",
   "id": "677ab688",
   "metadata": {},
   "source": []
  },
  {
   "cell_type": "markdown",
   "id": "b569c95e",
   "metadata": {},
   "source": []
  },
  {
   "cell_type": "markdown",
   "id": "d1887a4b",
   "metadata": {},
   "source": []
  },
  {
   "cell_type": "markdown",
   "id": "19d04dcd",
   "metadata": {},
   "source": []
  },
  {
   "cell_type": "markdown",
   "id": "b54997e4",
   "metadata": {},
   "source": []
  },
  {
   "cell_type": "markdown",
   "id": "13d5f735",
   "metadata": {},
   "source": []
  },
  {
   "cell_type": "markdown",
   "id": "2ede6a12",
   "metadata": {},
   "source": []
  },
  {
   "cell_type": "markdown",
   "id": "a05fdb32",
   "metadata": {},
   "source": []
  },
  {
   "cell_type": "markdown",
   "id": "259c9fb8",
   "metadata": {},
   "source": []
  },
  {
   "cell_type": "markdown",
   "id": "cbf5a2a0",
   "metadata": {},
   "source": []
  },
  {
   "cell_type": "markdown",
   "id": "8dd41ad4",
   "metadata": {},
   "source": []
  },
  {
   "cell_type": "markdown",
   "id": "321537e9",
   "metadata": {},
   "source": []
  },
  {
   "cell_type": "markdown",
   "id": "4acd6791",
   "metadata": {},
   "source": []
  },
  {
   "cell_type": "markdown",
   "id": "6c4329fe",
   "metadata": {},
   "source": []
  },
  {
   "cell_type": "markdown",
   "id": "2b5cfc7e",
   "metadata": {},
   "source": []
  },
  {
   "cell_type": "markdown",
   "id": "e9aaa0b5",
   "metadata": {},
   "source": []
  },
  {
   "cell_type": "markdown",
   "id": "ab05671f",
   "metadata": {},
   "source": []
  },
  {
   "cell_type": "markdown",
   "id": "488d7a32",
   "metadata": {},
   "source": []
  },
  {
   "cell_type": "markdown",
   "id": "a34136c7",
   "metadata": {},
   "source": []
  },
  {
   "cell_type": "markdown",
   "id": "02fe38e4",
   "metadata": {},
   "source": []
  },
  {
   "cell_type": "markdown",
   "id": "85d6cbb1",
   "metadata": {},
   "source": []
  },
  {
   "cell_type": "markdown",
   "id": "5539d55b",
   "metadata": {},
   "source": []
  },
  {
   "cell_type": "markdown",
   "id": "d6192fe2",
   "metadata": {},
   "source": []
  },
  {
   "cell_type": "markdown",
   "id": "d23d2f91",
   "metadata": {},
   "source": []
  },
  {
   "cell_type": "markdown",
   "id": "7b1463ee",
   "metadata": {},
   "source": []
  },
  {
   "cell_type": "markdown",
   "id": "8503d710",
   "metadata": {},
   "source": []
  },
  {
   "cell_type": "markdown",
   "id": "9543da44",
   "metadata": {},
   "source": []
  },
  {
   "cell_type": "markdown",
   "id": "765a6e5c",
   "metadata": {},
   "source": []
  },
  {
   "cell_type": "markdown",
   "id": "fee3e8b6",
   "metadata": {},
   "source": []
  },
  {
   "cell_type": "markdown",
   "id": "61e1d591",
   "metadata": {},
   "source": []
  },
  {
   "cell_type": "markdown",
   "id": "8ece7d1f",
   "metadata": {},
   "source": []
  },
  {
   "cell_type": "markdown",
   "id": "d4dbb65a",
   "metadata": {},
   "source": []
  },
  {
   "cell_type": "markdown",
   "id": "79715bfa",
   "metadata": {},
   "source": []
  },
  {
   "cell_type": "markdown",
   "id": "9449dfd6",
   "metadata": {},
   "source": []
  },
  {
   "cell_type": "markdown",
   "id": "9064d2ad",
   "metadata": {},
   "source": []
  },
  {
   "cell_type": "markdown",
   "id": "75891a89",
   "metadata": {},
   "source": []
  },
  {
   "cell_type": "markdown",
   "id": "55fca4e0",
   "metadata": {},
   "source": []
  },
  {
   "cell_type": "markdown",
   "id": "b9aa0d09",
   "metadata": {},
   "source": []
  },
  {
   "cell_type": "markdown",
   "id": "49cd0469",
   "metadata": {},
   "source": []
  },
  {
   "cell_type": "markdown",
   "id": "d30cae9b",
   "metadata": {},
   "source": []
  },
  {
   "cell_type": "markdown",
   "id": "b94fa14b",
   "metadata": {},
   "source": []
  },
  {
   "cell_type": "markdown",
   "id": "1714328a",
   "metadata": {},
   "source": []
  },
  {
   "cell_type": "markdown",
   "id": "01ad6c69",
   "metadata": {},
   "source": []
  },
  {
   "cell_type": "markdown",
   "id": "e47eeec8",
   "metadata": {},
   "source": []
  },
  {
   "cell_type": "markdown",
   "id": "7db0a6f3",
   "metadata": {},
   "source": []
  },
  {
   "cell_type": "markdown",
   "id": "3877aff9",
   "metadata": {},
   "source": []
  },
  {
   "cell_type": "markdown",
   "id": "16b404e2",
   "metadata": {},
   "source": []
  },
  {
   "cell_type": "markdown",
   "id": "936ec5fc",
   "metadata": {},
   "source": []
  },
  {
   "cell_type": "markdown",
   "id": "06bf8107",
   "metadata": {},
   "source": []
  }
 ],
 "metadata": {
  "language_info": {
   "name": "python"
  }
 },
 "nbformat": 4,
 "nbformat_minor": 5
}
